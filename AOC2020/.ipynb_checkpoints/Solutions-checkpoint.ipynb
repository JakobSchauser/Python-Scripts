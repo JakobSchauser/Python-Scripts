{
 "cells": [
  {
   "cell_type": "markdown",
   "metadata": {},
   "source": [
    "# Advent of Code 2020\n",
    "## Day 1"
   ]
  },
  {
   "cell_type": "code",
   "execution_count": 15,
   "metadata": {
    "ExecuteTime": {
     "end_time": "2020-12-02T11:02:52.238254Z",
     "start_time": "2020-12-02T11:02:51.203369Z"
    }
   },
   "outputs": [],
   "source": [
    "import numpy as np \n",
    "import matplotlib.pyplot as plt\n",
    "import pandas as pd"
   ]
  },
  {
   "cell_type": "code",
   "execution_count": 68,
   "metadata": {
    "ExecuteTime": {
     "end_time": "2020-12-02T11:21:46.689839Z",
     "start_time": "2020-12-02T11:21:45.816587Z"
    }
   },
   "outputs": [
    {
     "name": "stdout",
     "output_type": "stream",
     "text": [
      "200878544\n"
     ]
    }
   ],
   "source": [
    "inp = np.genfromtxt(\"inputs/input1.txt\").astype(int)\n",
    "def solve1(inp):\n",
    "    for x in inp:\n",
    "        for y in inp:\n",
    "            if(x+y==2020):\n",
    "                return y*x\n",
    "    return False\n",
    "\n",
    "\n",
    "def solve2(inp):\n",
    "    for x in inp:\n",
    "        for y in inp:\n",
    "            for z in inp:\n",
    "                if(x+y+z==2020):\n",
    "                    return y*x*z\n",
    "    return False\n",
    "\n",
    "# print(solve1(inp))\n",
    "\n",
    "print(solve2(inp))"
   ]
  },
  {
   "cell_type": "markdown",
   "metadata": {},
   "source": [
    "## Day 2"
   ]
  },
  {
   "cell_type": "code",
   "execution_count": 72,
   "metadata": {
    "ExecuteTime": {
     "end_time": "2020-12-02T11:27:39.185174Z",
     "start_time": "2020-12-02T11:27:39.162390Z"
    }
   },
   "outputs": [
    {
     "name": "stdout",
     "output_type": "stream",
     "text": [
      "443\n"
     ]
    }
   ],
   "source": [
    "inp = np.genfromtxt(\"inputs/input2.txt\",delimiter = \" \",dtype=str)\n",
    "\n",
    "def solve1(inp):\n",
    "    count = 0\n",
    "    for i in inp:\n",
    "        bottom,top = i[0].split(\"-\")\n",
    "        c = i[2].count(i[1][0])\n",
    "        if(c>=int(bottom) and c<=int(top)):\n",
    "            count+=1\n",
    "    return count\n",
    "\n",
    "\n",
    "def solve2(inp):\n",
    "    count = 0\n",
    "    for i in inp:\n",
    "        pos1,pos2 = i[0].split(\"-\")\n",
    "        p1,p2 = int(pos1)-1,int(pos2)-1\n",
    "        char = i[1][0]\n",
    "        \n",
    "        #XOR-gate\n",
    "        if((i[2][p1]==char) != (i[2][p2]==char)):\n",
    "            count+=1\n",
    "    return count\n",
    "\n",
    "# print(solve1(inp))\n",
    "\n",
    "print(solve2(inp))\n"
   ]
  },
  {
   "cell_type": "markdown",
   "metadata": {},
   "source": [
    "## Day 3"
   ]
  },
  {
   "cell_type": "code",
   "execution_count": 122,
   "metadata": {
    "ExecuteTime": {
     "end_time": "2020-12-03T14:31:14.589282Z",
     "start_time": "2020-12-03T14:31:14.570611Z"
    }
   },
   "outputs": [
    {
     "data": {
      "text/plain": [
       "2421944712"
      ]
     },
     "execution_count": 122,
     "metadata": {},
     "output_type": "execute_result"
    }
   ],
   "source": [
    "inp = np.genfromtxt(\"inputs/input3.txt\",autostrip=\"False\",comments=\"//\",dtype=\"str\")\n",
    "\n",
    "\n",
    "def solve1(inp):\n",
    "    x,y = 0,0\n",
    "    v = [3,1]\n",
    "    \n",
    "    \n",
    "    out = False\n",
    "    \n",
    "    count = 0\n",
    "    while not out:\n",
    "        \n",
    "        if(inp[y][x]==\"#\"):\n",
    "            count += 1\n",
    "        \n",
    "        \n",
    "        x+=v[0]\n",
    "        y+=v[1]\n",
    "        \n",
    "        x = x%len(inp[0])\n",
    "        out = y >= inp.shape[0]\n",
    "    return count\n",
    "\n",
    "# solve1(inp)\n",
    "\n",
    "def solve2(inp):\n",
    "    \n",
    "    slopes = [(1,1),(3,1),(5,1),(7,1),(1,2)]\n",
    "    \n",
    "    \n",
    "    counts = 1\n",
    "    for s in slopes:\n",
    "        x,y = 0,0\n",
    "        out = False\n",
    "        \n",
    "        count = 0\n",
    "        while not out:\n",
    "\n",
    "            if(inp[y][x]==\"#\"):\n",
    "                count += 1\n",
    "\n",
    "\n",
    "            x+=s[0]\n",
    "            y+=s[1]\n",
    "\n",
    "            x = x%len(inp[0])\n",
    "            out = y >= inp.shape[0]\n",
    "            \n",
    "        counts*= (count)\n",
    "        ## Day 3\n",
    "    return counts\n",
    "\n",
    "solve2(inp)"
   ]
  },
  {
   "cell_type": "markdown",
   "metadata": {},
   "source": [
    "## Day 4"
   ]
  },
  {
   "cell_type": "code",
   "execution_count": 267,
   "metadata": {
    "ExecuteTime": {
     "end_time": "2020-12-05T15:25:30.248432Z",
     "start_time": "2020-12-05T15:25:30.210537Z"
    }
   },
   "outputs": [
    {
     "name": "stderr",
     "output_type": "stream",
     "text": [
      "C:\\Users\\jakob\\Anaconda3\\lib\\site-packages\\ipykernel_launcher.py:11: VisibleDeprecationWarning: Creating an ndarray from ragged nested sequences (which is a list-or-tuple of lists-or-tuples-or ndarrays with different lengths or shapes) is deprecated. If you meant to do this, you must specify 'dtype=object' when creating the ndarray\n",
      "  # This is added back by InteractiveShellApp.init_path()\n"
     ]
    },
    {
     "data": {
      "text/plain": [
       "200"
      ]
     },
     "execution_count": 267,
     "metadata": {},
     "output_type": "execute_result"
    }
   ],
   "source": [
    "inp = open(\"inputs/input4.txt\")\n",
    "\n",
    "passports = []\n",
    "pp = []\n",
    "\n",
    "required = \"byr iyr eyr hgt hcl ecl pid\".split(\" \")\n",
    "for l in inp:\n",
    "    if l!=\"\\n\":\n",
    "        pp.append(np.array(l[:-2].split(\" \")))\n",
    "    else:\n",
    "        passports.append(np.array(pp))\n",
    "        pp = []\n",
    "        \n",
    "ntrue = 0\n",
    "for p in passports:\n",
    "    fields = 0\n",
    "    for r in required:\n",
    "        for field in p:\n",
    "            for f in field:\n",
    "                if (r in f):\n",
    "                    fields += 1\n",
    "    if(fields == len(required)):\n",
    "        ntrue += 1\n",
    "        \n",
    "ntrue"
   ]
  },
  {
   "cell_type": "markdown",
   "metadata": {},
   "source": [
    "## Day 5"
   ]
  },
  {
   "cell_type": "code",
   "execution_count": 265,
   "metadata": {
    "ExecuteTime": {
     "end_time": "2020-12-05T15:24:59.683289Z",
     "start_time": "2020-12-05T15:24:59.622413Z"
    }
   },
   "outputs": [
    {
     "name": "stdout",
     "output_type": "stream",
     "text": [
      "657.0\n"
     ]
    }
   ],
   "source": [
    "inp = np.genfromtxt(\"inputs/input5.txt\",autostrip=\"False\",comments=\"//\",dtype=\"str\")\n",
    "\n",
    "seatID = lambda R,C: 8*R+C\n",
    "\n",
    "\n",
    "IDS = np.empty(len(inp))\n",
    "\n",
    "for i,inpt in enumerate(inp):\n",
    "    upper = 127\n",
    "    lower = 0\n",
    "    L = 0\n",
    "    R = 7\n",
    "    lastrow, lastcolumn = 0,0\n",
    "    for p in inpt:\n",
    "        if(p==\"B\"):\n",
    "            lower = np.ceil((upper+lower)/2)\n",
    "            lastrow = lower\n",
    "        elif(p==\"F\"):\n",
    "            upper = np.floor((upper+lower)/2)\n",
    "            lastrow = upper\n",
    "            \n",
    "        elif(p==\"L\"):\n",
    "            R = np.floor((R+L)/2)\n",
    "            lastcolumn = R\n",
    "            \n",
    "        elif(p==\"R\"):      \n",
    "            L = np.ceil((R+L)/2)\n",
    "            lastcolumn = L\n",
    "            \n",
    "    IDS[i] = seatID(lastrow,lastcolumn)\n",
    "  \n",
    "for i,ID in enumerate(np.sort(IDS)):\n",
    "    if(ID-80 != i):\n",
    "        print(ID-1)\n",
    "        break"
   ]
  }
 ],
 "metadata": {
  "hide_input": false,
  "kernelspec": {
   "display_name": "Python 3",
   "language": "python",
   "name": "python3"
  },
  "language_info": {
   "codemirror_mode": {
    "name": "ipython",
    "version": 3
   },
   "file_extension": ".py",
   "mimetype": "text/x-python",
   "name": "python",
   "nbconvert_exporter": "python",
   "pygments_lexer": "ipython3",
   "version": "3.6.10"
  },
  "toc": {
   "base_numbering": 1,
   "nav_menu": {},
   "number_sections": true,
   "sideBar": true,
   "skip_h1_title": false,
   "title_cell": "Table of Contents",
   "title_sidebar": "Contents",
   "toc_cell": false,
   "toc_position": {},
   "toc_section_display": true,
   "toc_window_display": false
  }
 },
 "nbformat": 4,
 "nbformat_minor": 4
}
