{
 "cells": [
  {
   "cell_type": "markdown",
   "metadata": {},
   "source": [
    "# Advent of Code 2020\n",
    "## Day 1"
   ]
  },
  {
   "cell_type": "code",
   "execution_count": 2,
   "metadata": {
    "ExecuteTime": {
     "end_time": "2020-12-17T11:37:38.409180Z",
     "start_time": "2020-12-17T11:37:35.207988Z"
    }
   },
   "outputs": [],
   "source": [
    "import numpy as np \n",
    "import matplotlib.pyplot as plt\n",
    "import pandas as pd"
   ]
  },
  {
   "cell_type": "code",
   "execution_count": 68,
   "metadata": {
    "ExecuteTime": {
     "end_time": "2020-12-02T11:21:46.689839Z",
     "start_time": "2020-12-02T11:21:45.816587Z"
    }
   },
   "outputs": [
    {
     "name": "stdout",
     "output_type": "stream",
     "text": [
      "200878544\n"
     ]
    }
   ],
   "source": [
    "inp = np.genfromtxt(\"inputs/input1.txt\").astype(int)\n",
    "def solve1(inp):\n",
    "    for x in inp:\n",
    "        for y in inp:\n",
    "            if(x+y==2020):\n",
    "                return y*x\n",
    "    return False\n",
    "\n",
    "\n",
    "def solve2(inp):\n",
    "    for x in inp:\n",
    "        for y in inp:\n",
    "            for z in inp:\n",
    "                if(x+y+z==2020):\n",
    "                    return y*x*z\n",
    "    return False\n",
    "\n",
    "# print(solve1(inp))\n",
    "\n",
    "print(solve2(inp))"
   ]
  },
  {
   "cell_type": "markdown",
   "metadata": {},
   "source": [
    "## Day 2"
   ]
  },
  {
   "cell_type": "code",
   "execution_count": 72,
   "metadata": {
    "ExecuteTime": {
     "end_time": "2020-12-02T11:27:39.185174Z",
     "start_time": "2020-12-02T11:27:39.162390Z"
    }
   },
   "outputs": [
    {
     "name": "stdout",
     "output_type": "stream",
     "text": [
      "443\n"
     ]
    }
   ],
   "source": [
    "inp = np.genfromtxt(\"inputs/input2.txt\",delimiter = \" \",dtype=str)\n",
    "\n",
    "def solve1(inp):\n",
    "    count = 0\n",
    "    for i in inp:\n",
    "        bottom,top = i[0].split(\"-\")\n",
    "        c = i[2].count(i[1][0])\n",
    "        if(c>=int(bottom) and c<=int(top)):\n",
    "            count+=1\n",
    "    return count\n",
    "\n",
    "\n",
    "def solve2(inp):\n",
    "    count = 0\n",
    "    for i in inp:\n",
    "        pos1,pos2 = i[0].split(\"-\")\n",
    "        p1,p2 = int(pos1)-1,int(pos2)-1\n",
    "        char = i[1][0]\n",
    "        \n",
    "        #XOR-gate\n",
    "        if((i[2][p1]==char) != (i[2][p2]==char)):\n",
    "            count+=1\n",
    "    return count\n",
    "\n",
    "# print(solve1(inp))\n",
    "\n",
    "print(solve2(inp))\n"
   ]
  },
  {
   "cell_type": "markdown",
   "metadata": {},
   "source": [
    "## Day 3"
   ]
  },
  {
   "cell_type": "code",
   "execution_count": 122,
   "metadata": {
    "ExecuteTime": {
     "end_time": "2020-12-03T14:31:14.589282Z",
     "start_time": "2020-12-03T14:31:14.570611Z"
    }
   },
   "outputs": [
    {
     "data": {
      "text/plain": [
       "2421944712"
      ]
     },
     "execution_count": 122,
     "metadata": {},
     "output_type": "execute_result"
    }
   ],
   "source": [
    "inp = np.genfromtxt(\"inputs/input3.txt\",autostrip=\"False\",comments=\"//\",dtype=\"str\")\n",
    "\n",
    "\n",
    "def solve1(inp):\n",
    "    x,y = 0,0\n",
    "    v = [3,1]\n",
    "    \n",
    "    \n",
    "    out = False\n",
    "    \n",
    "    count = 0\n",
    "    while not out:\n",
    "        \n",
    "        if(inp[y][x]==\"#\"):\n",
    "            count += 1\n",
    "        \n",
    "        \n",
    "        x+=v[0]\n",
    "        y+=v[1]\n",
    "        \n",
    "        x = x%len(inp[0])\n",
    "        out = y >= inp.shape[0]\n",
    "    return count\n",
    "\n",
    "# solve1(inp)\n",
    "\n",
    "def solve2(inp):\n",
    "    \n",
    "    slopes = [(1,1),(3,1),(5,1),(7,1),(1,2)]\n",
    "    \n",
    "    \n",
    "    counts = 1\n",
    "    for s in slopes:\n",
    "        x,y = 0,0\n",
    "        out = False\n",
    "        \n",
    "        count = 0\n",
    "        while not out:\n",
    "\n",
    "            if(inp[y][x]==\"#\"):\n",
    "                count += 1\n",
    "\n",
    "\n",
    "            x+=s[0]\n",
    "            y+=s[1]\n",
    "\n",
    "            x = x%len(inp[0])\n",
    "            out = y >= inp.shape[0]\n",
    "            \n",
    "        counts*= (count)\n",
    "        ## Day 3\n",
    "    return counts\n",
    "\n",
    "solve2(inp)"
   ]
  },
  {
   "cell_type": "markdown",
   "metadata": {},
   "source": [
    "## Day 4"
   ]
  },
  {
   "cell_type": "code",
   "execution_count": 267,
   "metadata": {
    "ExecuteTime": {
     "end_time": "2020-12-05T15:25:30.248432Z",
     "start_time": "2020-12-05T15:25:30.210537Z"
    }
   },
   "outputs": [
    {
     "name": "stderr",
     "output_type": "stream",
     "text": [
      "C:\\Users\\jakob\\Anaconda3\\lib\\site-packages\\ipykernel_launcher.py:11: VisibleDeprecationWarning: Creating an ndarray from ragged nested sequences (which is a list-or-tuple of lists-or-tuples-or ndarrays with different lengths or shapes) is deprecated. If you meant to do this, you must specify 'dtype=object' when creating the ndarray\n",
      "  # This is added back by InteractiveShellApp.init_path()\n"
     ]
    },
    {
     "data": {
      "text/plain": [
       "200"
      ]
     },
     "execution_count": 267,
     "metadata": {},
     "output_type": "execute_result"
    }
   ],
   "source": [
    "inp = open(\"inputs/input4.txt\")\n",
    "\n",
    "passports = []\n",
    "pp = []\n",
    "\n",
    "required = \"byr iyr eyr hgt hcl ecl pid\".split(\" \")\n",
    "for l in inp:\n",
    "    if l!=\"\\n\":\n",
    "        pp.append(np.array(l[:-2].split(\" \")))\n",
    "    else:\n",
    "        passports.append(np.array(pp))\n",
    "        pp = []\n",
    "        \n",
    "ntrue = 0\n",
    "for p in passports:\n",
    "    fields = 0\n",
    "    for r in required:\n",
    "        for field in p:\n",
    "            for f in field:\n",
    "                if (r in f):\n",
    "                    fields += 1\n",
    "    if(fields == len(required)):\n",
    "        ntrue += 1\n",
    "        \n",
    "ntrue"
   ]
  },
  {
   "cell_type": "markdown",
   "metadata": {},
   "source": [
    "## Day 5"
   ]
  },
  {
   "cell_type": "code",
   "execution_count": 265,
   "metadata": {
    "ExecuteTime": {
     "end_time": "2020-12-05T15:24:59.683289Z",
     "start_time": "2020-12-05T15:24:59.622413Z"
    }
   },
   "outputs": [
    {
     "name": "stdout",
     "output_type": "stream",
     "text": [
      "657.0\n"
     ]
    }
   ],
   "source": [
    "inp = np.genfromtxt(\"inputs/input5.txt\",autostrip=\"False\",comments=\"//\",dtype=\"str\")\n",
    "\n",
    "seatID = lambda R,C: 8*R+C\n",
    "\n",
    "\n",
    "IDS = np.empty(len(inp))\n",
    "\n",
    "for i,inpt in enumerate(inp):\n",
    "    upper = 127\n",
    "    lower = 0\n",
    "    L = 0\n",
    "    R = 7\n",
    "    lastrow, lastcolumn = 0,0\n",
    "    for p in inpt:\n",
    "        if(p==\"B\"):\n",
    "            lower = np.ceil((upper+lower)/2)\n",
    "            lastrow = lower\n",
    "        elif(p==\"F\"):\n",
    "            upper = np.floor((upper+lower)/2)\n",
    "            lastrow = upper\n",
    "            \n",
    "        elif(p==\"L\"):\n",
    "            R = np.floor((R+L)/2)\n",
    "            lastcolumn = R\n",
    "            \n",
    "        elif(p==\"R\"):      \n",
    "            L = np.ceil((R+L)/2)\n",
    "            lastcolumn = L\n",
    "            \n",
    "    IDS[i] = seatID(lastrow,lastcolumn)\n",
    "  \n",
    "for i,ID in enumerate(np.sort(IDS)):\n",
    "    if(ID-80 != i):\n",
    "        print(ID-1)\n",
    "        break"
   ]
  },
  {
   "cell_type": "markdown",
   "metadata": {},
   "source": [
    "## Day 6"
   ]
  },
  {
   "cell_type": "code",
   "execution_count": 392,
   "metadata": {
    "ExecuteTime": {
     "end_time": "2020-12-06T14:59:57.202830Z",
     "start_time": "2020-12-06T14:59:57.173492Z"
    }
   },
   "outputs": [
    {
     "name": "stdout",
     "output_type": "stream",
     "text": [
      "ans1: 6596\n",
      "{'d', 'a', 'z', 'g', 'k', 'r'}\n",
      "ans2: 3219\n"
     ]
    }
   ],
   "source": [
    "inp = open(\"inputs/input6.txt\")\n",
    "\n",
    "\n",
    "def flatten2d(lis):\n",
    "    rlis = []\n",
    "    for outer in lis:\n",
    "        for inner in outer:\n",
    "            rlis.append(inner)\n",
    "    return rlis\n",
    "\n",
    "\n",
    "groups = []\n",
    "group = []\n",
    "for l in inp:\n",
    "    if l == \"\\n\":\n",
    "        groups.append(set(flatten2d(group)))\n",
    "        group = []\n",
    "    else:\n",
    "        group.append(l[:-1])\n",
    "groups.append(set(flatten2d(group)))\n",
    "\n",
    "print(\"ans1:\",sum([len(g) for g in groups]))\n",
    "\n",
    "\n",
    "inp = open(\"inputs/input6.txt\")\n",
    "\n",
    "groups = []\n",
    "group = set([x for x in string.ascii_lowercase])\n",
    "for l in inp:\n",
    "    if l == \"\\n\":\n",
    "        groups.append(group)\n",
    "        group = set([x for x in string.ascii_lowercase])\n",
    "    else:\n",
    "        ll = set(flatten2d(l[:-1]))\n",
    "        group = group.intersection(ll)\n",
    "groups.append(group)\n",
    "\n",
    "print(groups[-1])\n",
    "print(\"ans2:\",sum([len(g) for g in groups]))\n"
   ]
  },
  {
   "cell_type": "markdown",
   "metadata": {},
   "source": [
    "## Day 7"
   ]
  },
  {
   "cell_type": "code",
   "execution_count": 461,
   "metadata": {
    "ExecuteTime": {
     "end_time": "2020-12-07T21:37:27.842235Z",
     "start_time": "2020-12-07T21:37:27.623815Z"
    }
   },
   "outputs": [
    {
     "name": "stdout",
     "output_type": "stream",
     "text": [
      "Number of cases that can contain a shiny gold bag: 211\n"
     ]
    }
   ],
   "source": [
    "inp = np.genfromtxt(\"inputs/input7.txt\",autostrip=\"False\",dtype=\"str\",delimiter=\"\\n\")\n",
    "\n",
    "parents = []\n",
    "subcases = []\n",
    "\n",
    "def find_parents(name):\n",
    "    parents = []\n",
    "    for l in inp:\n",
    "        bag = l.find(name)\n",
    "        if bag != -1 and bag != 0:\n",
    "            ind = l.find(\"bags\")\n",
    "            parents.append(l[:ind-1])\n",
    "    return parents\n",
    "\n",
    "def find_children_and_score(text,oldscore,tf):\n",
    "    \n",
    "    ind = text.find(\"contain\")\n",
    "    \n",
    "    if(ind == -1):\n",
    "        return text, oldscore\n",
    "    \n",
    "    score = int(text[ind+8])*oldscore\n",
    "    \n",
    "    \n",
    "    \n",
    "    nxt = text[ind+10:]\n",
    "    nxt = nxt[:nxt.find(\"bags\")-1]\n",
    "    \n",
    "    find_children_and_score(nxt, oldscore*score)\n",
    "    \n",
    "    if(text.count(\",\")>0):\n",
    "        nxt = text[text.find(\",\"):]\n",
    "        \n",
    "            \n",
    "\n",
    "pars = find_parents(\"shiny gold\")\n",
    "\n",
    "looppars = list(set(pars))\n",
    "haschanged = True\n",
    "while haschanged:\n",
    "    haschanged = False\n",
    "    for i,p in enumerate(looppars):\n",
    "        found = find_parents(p)\n",
    "        for f in found:\n",
    "            shouldadd = True\n",
    "            for l in looppars:\n",
    "                if l == f:\n",
    "                    shouldadd = False\n",
    "            \n",
    "            if shouldadd:\n",
    "                haschanged = True\n",
    "                looppars.append(f)\n",
    "    looppars = list(set(looppars))\n",
    "\n",
    "print(\"Number of cases that can contain a shiny gold bag:\",len(looppars))\n",
    "\n"
   ]
  },
  {
   "cell_type": "markdown",
   "metadata": {},
   "source": [
    "## Day 8"
   ]
  },
  {
   "cell_type": "code",
   "execution_count": 493,
   "metadata": {
    "ExecuteTime": {
     "end_time": "2020-12-08T10:15:14.309194Z",
     "start_time": "2020-12-08T10:15:14.217432Z"
    }
   },
   "outputs": [
    {
     "name": "stdout",
     "output_type": "stream",
     "text": [
      "1475\n"
     ]
    },
    {
     "data": {
      "text/plain": [
       "1270"
      ]
     },
     "execution_count": 493,
     "metadata": {},
     "output_type": "execute_result"
    }
   ],
   "source": [
    "inp = np.genfromtxt(\"inputs/input8.txt\",autostrip=\"False\",dtype=\"str\",delimiter=\"\\n\")\n",
    "\n",
    "tf = np.zeros(len(inp)).astype(bool)\n",
    "\n",
    "# inp = \"nop +0  acc +1  jmp +4  acc +3  jmp -3  acc -99  acc +1  jmp -4  acc +6\".split(\"  \")\n",
    "\n",
    "acc, ind = 0, 0\n",
    "\n",
    "while True:\n",
    "    if tf[ind]:\n",
    "        break\n",
    "    tf[ind] = True\n",
    "    \n",
    "    cmd, n = inp[ind][:3],int(inp[ind][4:])\n",
    "    \n",
    "    if(cmd == \"acc\"):\n",
    "        acc += n\n",
    "        ind += 1\n",
    "    elif(cmd == \"jmp\"):\n",
    "        ind += n\n",
    "    elif(cmd == \"nop\"):\n",
    "        ind += 1\n",
    "    else:\n",
    "        print(\"Something wrong with command\",cmd,\"at\",ind)\n",
    "        break\n",
    "    \n",
    "print(acc)\n",
    "\n",
    "\n",
    "\n",
    "def find_exit():\n",
    "    inp = np.genfromtxt(\"inputs/input8.txt\",autostrip=\"False\",dtype=\"str\",delimiter=\"\\n\")\n",
    "    newinp = np.append(inp,\"fns +999\")\n",
    "    \n",
    "    for i in range(len(inp)):\n",
    "        inp = newinp.copy()\n",
    "        \n",
    "        \n",
    "        cmd, n = inp[i][:3],int(inp[i][4:])\n",
    "        \n",
    "        if(cmd == \"jmp\"):\n",
    "            inp[i] = \"nop \"+str(n)\n",
    "        elif(cmd == \"nop\"):\n",
    "            inp[i] = \"jmp \"+str(n)   \n",
    "        \n",
    "        \n",
    "        \n",
    "        acc, ind = 0, 0\n",
    "        tf = np.zeros(len(newinp)).astype(bool)\n",
    "        \n",
    "        \n",
    "        \n",
    "        while True:\n",
    "            if tf[ind]:\n",
    "                break\n",
    "            tf[ind] = True\n",
    "\n",
    "            cmd, n = inp[ind][:3],int(inp[ind][4:])\n",
    "\n",
    "            if(cmd == \"acc\"):\n",
    "                acc += n\n",
    "                ind += 1\n",
    "            elif(cmd == \"jmp\"):\n",
    "                ind += n\n",
    "            elif(cmd == \"nop\"):\n",
    "                ind += 1\n",
    "            elif(cmd == \"fns\"):\n",
    "                return acc\n",
    "            else:\n",
    "                print(\"Something wrong with command\",cmd,\"at\",ind)\n",
    "                break\n",
    "\n",
    "\n",
    "find_exit()"
   ]
  },
  {
   "cell_type": "markdown",
   "metadata": {},
   "source": [
    "## Day 9"
   ]
  },
  {
   "cell_type": "code",
   "execution_count": 541,
   "metadata": {
    "ExecuteTime": {
     "end_time": "2020-12-09T10:35:07.662577Z",
     "start_time": "2020-12-09T10:35:01.119769Z"
    }
   },
   "outputs": [
    {
     "name": "stdout",
     "output_type": "stream",
     "text": [
      "ans1: 144381670 at point 537 (after the preamble) is not legal\n",
      "\n",
      "ans2: [ 5779902  5821115  5841937 14752667  6932934  9843037  6240013  6745010\n",
      "  8585628  8937860  9076207  7222000  8634163  9316176  9739942 10442589\n",
      " 10470490] sums up to 144381670 with an answer of 20532569\n"
     ]
    }
   ],
   "source": [
    "inp = np.genfromtxt(\"inputs/input9.txt\",autostrip=\"False\",dtype=\"str\",delimiter=\"\\n\")\n",
    "\n",
    "\n",
    "# inp = \"35 20 15 25 47 40 62 55 65 95 102 117 150 182 127 219 299 277 309 576\".split(\" \")\n",
    "\n",
    "\n",
    "\n",
    "\n",
    "inp = np.array([int(i) for i in inp])\n",
    "\n",
    "l = 25\n",
    "\n",
    "\n",
    "\n",
    "for iii, n in enumerate(inp[l:]):\n",
    "    acceptable = inp[iii:l+iii]\n",
    "    \n",
    "    legal = False\n",
    "    for x in range(l):\n",
    "        for y in range(x+1,l):\n",
    "            if n == acceptable[x] + acceptable[y]:\n",
    "                legal = True\n",
    "                break\n",
    "        if legal:\n",
    "            break\n",
    "    if not legal:\n",
    "        weakn = n\n",
    "        weakl = l+iii\n",
    "        print(\"ans1:\",n, \"at point\",iii,\"(after the preamble) is not legal\\n\")\n",
    "        break\n",
    "    \n",
    "for x in range(weakl):\n",
    "    for cont in range(x+1,weakl):\n",
    "        ll = inp[x:cont]\n",
    "        if(sum(ll) > weakn):\n",
    "            break\n",
    "        if(sum(ll) == weakn):\n",
    "            print(\"ans2:\",ll,\"sums up to\",sum(ll),\"with an answer of\",min(ll)+max(ll))\n",
    "            break\n",
    "        \n"
   ]
  },
  {
   "cell_type": "markdown",
   "metadata": {},
   "source": [
    "## Day 10"
   ]
  },
  {
   "cell_type": "code",
   "execution_count": 27,
   "metadata": {
    "ExecuteTime": {
     "end_time": "2020-12-11T10:59:08.305590Z",
     "start_time": "2020-12-11T10:59:08.287127Z"
    }
   },
   "outputs": [
    {
     "name": "stdout",
     "output_type": "stream",
     "text": [
      "1890\n"
     ]
    }
   ],
   "source": [
    "inp = np.genfromtxt(\"inputs/input10.txt\",autostrip=\"False\",dtype=\"str\",delimiter=\"\\n\")\n",
    "\n",
    "# inp = \"28 33 18 42 31 14 46 20 48 47 24 23 49 45 19 38 39 11 1 32 25 35 8 17 7 9 4 2 34 10 3\".split(\" \")\n",
    "\n",
    "inp = np.array([int(i) for i in inp])\n",
    "\n",
    "sinp = np.sort(inp)\n",
    "\n",
    "sinp = np.append(sinp,sinp[-1]+3)\n",
    "\n",
    "last = 0\n",
    "\n",
    "onethree = [0,0]\n",
    "for ada in sinp:\n",
    "    d = ada-last\n",
    "    if d > 3:\n",
    "        print(\"something went wrong with\",ada, last)\n",
    "    elif d == 1:\n",
    "        onethree[0] += 1\n",
    "    elif d == 3:\n",
    "        onethree[1] += 1\n",
    "        \n",
    "    last = ada\n",
    "\n",
    "print(onethree[0]*onethree[1])"
   ]
  },
  {
   "cell_type": "markdown",
   "metadata": {},
   "source": [
    "## Day 11"
   ]
  },
  {
   "cell_type": "code",
   "execution_count": 48,
   "metadata": {
    "ExecuteTime": {
     "end_time": "2020-12-17T14:40:37.433974Z",
     "start_time": "2020-12-17T14:40:26.629862Z"
    }
   },
   "outputs": [
    {
     "data": {
      "text/plain": [
       "2128"
      ]
     },
     "execution_count": 48,
     "metadata": {},
     "output_type": "execute_result"
    }
   ],
   "source": [
    "inp = np.genfromtxt(\"inputs/input11.txt\",autostrip=\"False\",dtype=\"str\",delimiter=\"\\n\",comments=\"\\\\\")\n",
    "\n",
    "inp = np.array([np.array(list(l)) for l in inp])\n",
    "        \n",
    "    \n",
    "w,h = inp.shape[0],inp.shape[1]\n",
    "\n",
    "allnbs = [(-1,-1),(-1,0),(-1,1),(0,-1),(0,1),(1,-1),(1,0),(1,1)]\n",
    "\n",
    "\n",
    "\n",
    "def getnbs(x,y,board):\n",
    "    nbs = []\n",
    "    for nb in allnbs:\n",
    "        xx = x+nb[0] \n",
    "        yy = y+nb[1] \n",
    "        if (yy < 0 or xx < 0 or xx > w-1 or yy > h-1):\n",
    "            continue\n",
    "        \n",
    "        nbs.append(board[xx,yy])\n",
    "    return nbs\n",
    "\n",
    "def oddnbs(x,y,board):\n",
    "    nbs = []\n",
    "    for nb in allnbs:\n",
    "        xx,yy = x,y\n",
    "        while True:\n",
    "            xx,yy = xx+nb[0],yy+nb[1]\n",
    "            if (yy < 0 or xx < 0 or xx > w-1 or yy > h-1):\n",
    "                break\n",
    "            if(board[xx,yy]==\"#\"):\n",
    "                nbs.append(\"#\")\n",
    "                break\n",
    "            elif(board[xx,yy]==\"L\"):\n",
    "                break\n",
    "    return nbs\n",
    "\n",
    "def step(board,normal = True):\n",
    "    change = False\n",
    "    cb = board.copy()\n",
    "    old = board.copy()\n",
    "    for y in range(h):\n",
    "        for x in range(w):\n",
    "            \n",
    "            if normal:\n",
    "                nbs = getnbs(x,y,old)\n",
    "            else:\n",
    "                nbs = oddnbs(x,y,old)\n",
    "            c = nbs.count(\"#\")\n",
    "            if(old[x,y]==\"L\"):\n",
    "                if(c==0):\n",
    "                    change = True\n",
    "                    \n",
    "                    cb[x,y] = \"#\"\n",
    "            elif(old[x,y]==\"#\"):\n",
    "                \n",
    "                if(c>=5):\n",
    "                    change = True\n",
    "                    \n",
    "                    cb[x,y] = \"L\"\n",
    "    return cb, change\n",
    "\n",
    "\n",
    "board = inp.copy()\n",
    "changing = True\n",
    "while changing:\n",
    "    board, changing = step(board,normal = False)\n",
    "sum([list(b).count(\"#\") for b in board])"
   ]
  },
  {
   "cell_type": "markdown",
   "metadata": {},
   "source": [
    "## Day 12"
   ]
  },
  {
   "cell_type": "markdown",
   "metadata": {},
   "source": [
    "### Part 1"
   ]
  },
  {
   "cell_type": "code",
   "execution_count": 86,
   "metadata": {
    "ExecuteTime": {
     "end_time": "2020-12-23T12:57:11.822280Z",
     "start_time": "2020-12-23T12:57:11.783384Z"
    }
   },
   "outputs": [
    {
     "name": "stdout",
     "output_type": "stream",
     "text": [
      "[   1 -363] 364\n"
     ]
    }
   ],
   "source": [
    "inp = np.genfromtxt(\"inputs/input12.txt\",autostrip=\"False\",dtype=\"str\",delimiter=\"\\n\",comments=\"\\\\\")\n",
    "\n",
    "# inp =\"F10 N3 F7 R90 F11\".split(\" \")\n",
    "\n",
    "pos = np.array([0,0]).astype(int)\n",
    "dirr = 0\n",
    "\n",
    "\n",
    "for move in inp:\n",
    "    m,n = move[0],int(move[1:])\n",
    "    \n",
    "    if(m == \"N\"):\n",
    "        d = [0,n]\n",
    "    elif(m == \"S\"):\n",
    "        d = [0,-n]\n",
    "    elif(m == \"E\"):\n",
    "        d = [n,0]\n",
    "    elif(m == \"W\"):\n",
    "        d = [-n,0]\n",
    "    elif(m == \"L\"):\n",
    "        dirr += n\n",
    "    elif(m == \"R\"):\n",
    "        dirr -= n\n",
    "    elif(m == \"F\"):\n",
    "        d = [np.cos(dirr*np.pi/180)*n,np.sin(dirr*np.pi/180)*n]\n",
    "    else:\n",
    "        print(\"something wrong with input\",move)\n",
    "    dirr %= 360\n",
    "    \n",
    "    pos += np.array(d).astyp### Part 1e(int)\n",
    "#     print(move,pos)\n",
    "\n",
    "print(pos,abs(pos[0])+abs(pos[1]))"
   ]
  },
  {
   "cell_type": "markdown",
   "metadata": {},
   "source": [
    "### Part 2\n"
   ]
  },
  {
   "cell_type": "code",
   "execution_count": 130,
   "metadata": {
    "ExecuteTime": {
     "end_time": "2020-12-23T13:46:41.452962Z",
     "start_time": "2020-12-23T13:46:41.425415Z"
    }
   },
   "outputs": [
    {
     "name": "stdout",
     "output_type": "stream",
     "text": [
      "[32017. -7501.] 39518\n"
     ]
    }
   ],
   "source": [
    "inp = np.genfromtxt(\"inputs/input12.txt\",autostrip=\"False\",dtype=\"str\",delimiter=\"\\n\",comments=\"\\\\\")\n",
    "\n",
    "# inp =\"F10 N3 F7 R90 F11\".split(\" \")\n",
    "\n",
    "pos = np.array([0,0]).astype(int)\n",
    "\n",
    "rot = lambda v,a: (np.array([v[0]*np.cos(a*np.pi/180)-v[1]*np.sin(a*np.pi/180),v[0]*np.sin(a*np.pi/180)+v[1]*np.cos(a*np.pi/180)]))\n",
    "\n",
    "wp = np.array([10,1]).astype(int)\n",
    "for move in inp:\n",
    "    m,n = move[0],int(move[1:])\n",
    "    \n",
    "    if(m == \"N\"):\n",
    "        wp[1] += n\n",
    "    elif(m == \"S\"):\n",
    "        wp[1] += -n\n",
    "    elif(m == \"E\"):\n",
    "        wp[0] += n\n",
    "    elif(m == \"W\"):\n",
    "        wp[0] += -n\n",
    "    elif(m == \"L\"):\n",
    "        wp = rot(wp,n)#.astype(int)\n",
    "    elif(m == \"R\"):\n",
    "        wp = rot(wp,-n)#.astype(int)\n",
    "    elif(m == \"F\"):\n",
    "        pos = pos+np.array(wp)*n\n",
    "    else:\n",
    "        print(\"something wrong with input\",move)\n",
    "#     print(move,pos,wp)\n",
    "\n",
    "print(pos,round(abs(pos[0])+abs(pos[1])))"
   ]
  },
  {
   "cell_type": "markdown",
   "metadata": {},
   "source": [
    "## Day 13"
   ]
  },
  {
   "cell_type": "code",
   "execution_count": 159,
   "metadata": {
    "ExecuteTime": {
     "end_time": "2020-12-23T14:18:37.269716Z",
     "start_time": "2020-12-23T14:18:32.274750Z"
    }
   },
   "outputs": [
    {
     "name": "stdout",
     "output_type": "stream",
     "text": [
      "ans1: 7\n",
      "0 0\n",
      "1 1\n",
      "2093560\n",
      "done\n"
     ]
    }
   ],
   "source": [
    "inp = np.genfromtxt(\"inputs/input13.txt\",autostrip=\"False\",dtype=\"str\",delimiter=\"\\n\",comments=\"\\\\\")\n",
    "\n",
    "inp[1] = \"7,13,x,x,59,x,31,19\"\n",
    "\n",
    "busses = [x for x in inp[1].split(\",\") if x != 'x']\n",
    "bts = [i for i,x in enumerate(inp[1].split(\",\")) if x != 'x']\n",
    "goal = int(inp[0])\n",
    "\n",
    "#part1\n",
    "\n",
    "diff = 100000\n",
    "ans = 0\n",
    "for bus in busses:\n",
    "    i = 0\n",
    "    b = int(bus)\n",
    "    while True:\n",
    "        if(b>goal):\n",
    "            if(b-goal < diff):\n",
    "                diff = b-goal\n",
    "                ans = diff*int(bus)\n",
    "            break\n",
    "        b += int(bus)\n",
    "        \n",
    "print(\"ans1:\",ans)\n",
    "\n",
    "\n",
    "\n",
    "for i in range(0,10687810):\n",
    "    good = True\n",
    "    for bus,time in zip(busses,bts):\n",
    "        if(i == 1068781):\n",
    "            print(min(int(bus)-i%int(bus),i%int(bus)),int(time))\n",
    "        if(i%int(bus) != int(time)):\n",
    "            good = False\n",
    "            break\n",
    "    if good:\n",
    "        print(i)\n",
    "        break\n",
    "        \n",
    "print(\"done\")"
   ]
  },
  {
   "cell_type": "markdown",
   "metadata": {},
   "source": [
    "## Day 14\n",
    "### Part 1"
   ]
  },
  {
   "cell_type": "code",
   "execution_count": 205,
   "metadata": {
    "ExecuteTime": {
     "end_time": "2020-12-25T21:03:09.614677Z",
     "start_time": "2020-12-25T21:03:09.334214Z"
    }
   },
   "outputs": [
    {
     "data": {
      "text/plain": [
       "15919415426101.0"
      ]
     },
     "execution_count": 205,
     "metadata": {},
     "output_type": "execute_result"
    }
   ],
   "source": [
    "from numpy import binary_repr as tobin\n",
    "\n",
    "inp = np.genfromtxt(\"inputs/input14.txt\",autostrip=\"False\",dtype=\"str\",delimiter=\"\\n\",comments=\"\\\\\")\n",
    "mask = inp[0][7:]\n",
    "\n",
    "\n",
    "maskify = lambda n,m: [m[i] if m[i] != \"X\" else n[i] for i in range(len(n))]\n",
    "\n",
    "mask = \"XXXXXXXXXXXX\"\n",
    "adress = np.zeros(1000000)\n",
    "for inst in inp:\n",
    "    if inst.startswith(\"mask\"):\n",
    "        mask = inst[7:]\n",
    "    else:\n",
    "        adr = int(inst[inst.find(\"[\")+1:inst.find(\"]\")])\n",
    "        val = int(inst[inst.find(\"= \")+2:])\n",
    "        \n",
    "        val = int(\"\".join(maskify(tobin(val).zfill(len(mask)),mask)),2)\n",
    "        \n",
    "        adress[adr] = val\n",
    "sum(adress)"
   ]
  },
  {
   "cell_type": "markdown",
   "metadata": {},
   "source": [
    "#### Part 2"
   ]
  },
  {
   "cell_type": "code",
   "execution_count": null,
   "metadata": {},
   "outputs": [],
   "source": [
    "inp = np.genfromtxt(\"inputs/input14.txt\",autostrip=\"False\",dtype=\"str\",delimiter=\"\\n\",comments=\"\\\\\")\n",
    "\n",
    "for inst in inp:\n",
    "    if inst.startswith(\"mask\"):\n",
    "        mask = inst[7:]\n",
    "      \n",
    "    else:\n",
    "                \n",
    "        adr = int(inst[inst.find(\"[\")+1:inst.find(\"]\")])\n",
    "        val = int(inst[inst.find(\"= \")+2:])\n",
    "        \n",
    "        val = int(\"\".join(maskify(tobin(val).zfill(len(mask)),mask)),2)\n",
    "        \n",
    "        adress[adr] = val\n",
    "sum(adress)\n",
    "\n"
   ]
  }
 ],
 "metadata": {
  "hide_input": false,
  "kernelspec": {
   "display_name": "Python 3",
   "language": "python",
   "name": "python3"
  },
  "language_info": {
   "codemirror_mode": {
    "name": "ipython",
    "version": 3
   },
   "file_extension": ".py",
   "mimetype": "text/x-python",
   "name": "python",
   "nbconvert_exporter": "python",
   "pygments_lexer": "ipython3",
   "version": "3.6.10"
  },
  "toc": {
   "base_numbering": 1,
   "nav_menu": {},
   "number_sections": true,
   "sideBar": true,
   "skip_h1_title": false,
   "title_cell": "Table of Contents",
   "title_sidebar": "Contents",
   "toc_cell": false,
   "toc_position": {},
   "toc_section_display": true,
   "toc_window_display": false
  }
 },
 "nbformat": 4,
 "nbformat_minor": 4
}
