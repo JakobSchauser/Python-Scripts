{
 "cells": [
  {
   "cell_type": "code",
   "execution_count": 75,
   "metadata": {
    "ExecuteTime": {
     "end_time": "2020-10-02T12:33:47.679127Z",
     "start_time": "2020-10-02T12:33:46.689787Z"
    }
   },
   "outputs": [
    {
     "data": {
      "image/png": "[encoded data removed]",
      "text/plain": [
       "<Figure size 432x288 with 1 Axes>"
      ]
     },
     "metadata": {
      "needs_background": "light"
     },
     "output_type": "display_data"
    }
   ],
   "source": [
    "import numpy as np\n",
    "import random\n",
    "import matplotlib.pyplot as plt\n",
    "decksize = 52\n",
    "deck = np.array([i for i in range(decksize)])\n",
    "startdeck = deck.copy()\n",
    "\n",
    "\n",
    "def entropy(deck):\n",
    "    l = abs(deck-startdeck)\n",
    "    return np.mean(l)\n",
    "\n",
    "\n",
    "def badriffle(deck):\n",
    "    deck = deck.copy().tolist()\n",
    "    newdeck = np.empty(decksize)\n",
    "    d1,d2 = deck[:int(len(deck)/2)],deck[int(len(deck)/2):]\n",
    "    for n in range(len(newdeck)):\n",
    "        if len(d1)>0 and len(d2)>0:\n",
    "            c = d1.pop(0) if random.random()>0.5 else d2.pop(0)\n",
    "            newdeck[n] = c\n",
    "        elif len(d1)>0:\n",
    "            newdeck[n:] = d1\n",
    "            break\n",
    "        else: \n",
    "            newdeck[n:] = d2\n",
    "            break\n",
    "    return newdeck\n",
    "\n",
    "def riffle(deck):\n",
    "    d1,d2 = deck[:int(len(deck)/2)],deck[int(len(deck)/2):]\n",
    "    return np.ravel([d1,d2],'F')\n",
    "\n",
    "runs = 200\n",
    "entropies = np.zeros(runs)\n",
    "for i in range(runs):\n",
    "    entropies[i] = entropy(deck)\n",
    "    deck = riffle(deck)\n",
    "    \n",
    "plt.plot(entropies,'.')\n",
    "plt.yscale(\"log\")"
   ]
  }
 ],
 "metadata": {
  "hide_input": false,
  "kernelspec": {
   "display_name": "Python 3",
   "language": "python",
   "name": "python3"
  },
  "language_info": {
   "codemirror_mode": {
    "name": "ipython",
    "version": 3
   },
   "file_extension": ".py",
   "mimetype": "text/x-python",
   "name": "python",
   "nbconvert_exporter": "python",
   "pygments_lexer": "ipython3",
   "version": "3.6.10"
  },
  "toc": {
   "base_numbering": 1,
   "nav_menu": {},
   "number_sections": true,
   "sideBar": true,
   "skip_h1_title": false,
   "title_cell": "Table of Contents",
   "title_sidebar": "Contents",
   "toc_cell": false,
   "toc_position": {},
   "toc_section_display": true,
   "toc_window_display": false
  }
 },
 "nbformat": 4,
 "nbformat_minor": 4
}
