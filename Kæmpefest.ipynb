{
 "cells": [
  {
   "cell_type": "code",
   "execution_count": 2,
   "id": "reliable-bronze",
   "metadata": {
    "ExecuteTime": {
     "end_time": "2021-09-27T11:00:43.909083Z",
     "start_time": "2021-09-27T11:00:43.904095Z"
    }
   },
   "outputs": [],
   "source": [
    "import numpy as np\n",
    "import pandas as pd\n"
   ]
  },
  {
   "cell_type": "code",
   "execution_count": 14,
   "id": "accepted-short",
   "metadata": {
    "ExecuteTime": {
     "end_time": "2021-09-27T11:04:14.640320Z",
     "start_time": "2021-09-27T11:04:14.626357Z"
    }
   },
   "outputs": [
    {
     "data": {
      "text/html": [
       "<div>\n",
       "<style scoped>\n",
       "    .dataframe tbody tr th:only-of-type {\n",
       "        vertical-align: middle;\n",
       "    }\n",
       "\n",
       "    .dataframe tbody tr th {\n",
       "        vertical-align: top;\n",
       "    }\n",
       "\n",
       "    .dataframe thead th {\n",
       "        text-align: right;\n",
       "    }\n",
       "</style>\n",
       "<table border=\"1\" class=\"dataframe\">\n",
       "  <thead>\n",
       "    <tr style=\"text-align: right;\">\n",
       "      <th></th>\n",
       "      <th>Navn</th>\n",
       "      <th>Madvaner/Allergier</th>\n",
       "    </tr>\n",
       "  </thead>\n",
       "  <tbody>\n",
       "    <tr>\n",
       "      <th>0</th>\n",
       "      <td>Jonathan Melcher</td>\n",
       "      <td>Vegetar</td>\n",
       "    </tr>\n",
       "    <tr>\n",
       "      <th>1</th>\n",
       "      <td>Athene Demuth</td>\n",
       "      <td>NaN</td>\n",
       "    </tr>\n",
       "    <tr>\n",
       "      <th>2</th>\n",
       "      <td>Emil Rødbro</td>\n",
       "      <td>NaN</td>\n",
       "    </tr>\n",
       "    <tr>\n",
       "      <th>3</th>\n",
       "      <td>Hans Christiansen</td>\n",
       "      <td>NaN</td>\n",
       "    </tr>\n",
       "    <tr>\n",
       "      <th>4</th>\n",
       "      <td>August Birk</td>\n",
       "      <td>2016</td>\n",
       "    </tr>\n",
       "  </tbody>\n",
       "</table>\n",
       "</div>"
      ],
      "text/plain": [
       "                Navn Madvaner/Allergier\n",
       "0   Jonathan Melcher            Vegetar\n",
       "1      Athene Demuth                NaN\n",
       "2        Emil Rødbro                NaN\n",
       "3  Hans Christiansen                NaN\n",
       "4        August Birk               2016"
      ]
     },
     "execution_count": 14,
     "metadata": {},
     "output_type": "execute_result"
    }
   ],
   "source": [
    "dat = pd.read_csv(\"Deltagere Kæmpefest 2021 - Vandrehallen ark.csv\")\n",
    "dat.head()"
   ]
  },
  {
   "cell_type": "code",
   "execution_count": 25,
   "id": "listed-confidence",
   "metadata": {
    "ExecuteTime": {
     "end_time": "2021-09-27T11:06:06.016360Z",
     "start_time": "2021-09-27T11:06:06.007443Z"
    }
   },
   "outputs": [
    {
     "data": {
      "text/plain": [
       "19"
      ]
     },
     "execution_count": 25,
     "metadata": {},
     "output_type": "execute_result"
    }
   ],
   "source": [
    "len(dat[dat[\"Madvaner/Allergier\"] == \"vegetar\"]) + len(dat[dat[\"Madvaner/Allergier\"] == \"Vegetar\"]) "
   ]
  },
  {
   "cell_type": "code",
   "execution_count": 28,
   "id": "union-vault",
   "metadata": {
    "ExecuteTime": {
     "end_time": "2021-09-27T11:06:29.378473Z",
     "start_time": "2021-09-27T11:06:29.370496Z"
    }
   },
   "outputs": [
    {
     "data": {
      "text/plain": [
       "3"
      ]
     },
     "execution_count": 28,
     "metadata": {},
     "output_type": "execute_result"
    }
   ],
   "source": [
    "len(dat[dat[\"Madvaner/Allergier\"] == \"Vegan\"]) + len(dat[dat[\"Madvaner/Allergier\"] == \"vegan\"]) "
   ]
  },
  {
   "cell_type": "code",
   "execution_count": 32,
   "id": "rocky-astrology",
   "metadata": {
    "ExecuteTime": {
     "end_time": "2021-09-27T11:06:58.136738Z",
     "start_time": "2021-09-27T11:06:58.129008Z"
    }
   },
   "outputs": [
    {
     "data": {
      "text/plain": [
       "4"
      ]
     },
     "execution_count": 32,
     "metadata": {},
     "output_type": "execute_result"
    }
   ],
   "source": [
    "len(dat[dat[\"Madvaner/Allergier\"] == \"Pescetar\"]) + len(dat[dat[\"Madvaner/Allergier\"] == \"pescetar\"]) "
   ]
  }
 ],
 "metadata": {
  "hide_input": false,
  "kernelspec": {
   "display_name": "Python 3",
   "language": "python",
   "name": "python3"
  },
  "language_info": {
   "codemirror_mode": {
    "name": "ipython",
    "version": 3
   },
   "file_extension": ".py",
   "mimetype": "text/x-python",
   "name": "python",
   "nbconvert_exporter": "python",
   "pygments_lexer": "ipython3",
   "version": "3.6.12"
  },
  "toc": {
   "base_numbering": 1,
   "nav_menu": {},
   "number_sections": true,
   "sideBar": true,
   "skip_h1_title": false,
   "title_cell": "Table of Contents",
   "title_sidebar": "Contents",
   "toc_cell": false,
   "toc_position": {},
   "toc_section_display": true,
   "toc_window_display": false
  }
 },
 "nbformat": 4,
 "nbformat_minor": 5
}
