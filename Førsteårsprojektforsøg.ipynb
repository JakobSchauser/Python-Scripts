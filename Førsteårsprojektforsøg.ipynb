{
 "cells": [
  {
   "cell_type": "code",
   "execution_count": 5,
   "metadata": {},
   "outputs": [
    {
     "data": {
      "text/plain": [
       "'\\ntemp1path = \"\"\\ntemp2path = \"\"\\nvoltagepath = \"\"\\nt1 = np.genfromtxt(temp1path, delimiter = \\'\\')\\nt2 = np.genfromtxt(temp2path, delimiter = \\'\\')\\nvo = np.genfromtxt(voltagepath, delimiter = \\'\\')\\n'"
      ]
     },
     "execution_count": 5,
     "metadata": {},
     "output_type": "execute_result"
    }
   ],
   "source": [
    "import numpy as np\n",
    "import PIL\n",
    "\n",
    "'''\n",
    "temp1path = \"\"\n",
    "temp2path = \"\"\n",
    "voltagepath = \"\"\n",
    "t1 = np.genfromtxt(temp1path, delimiter = '')\n",
    "t2 = np.genfromtxt(temp2path, delimiter = '')\n",
    "vo = np.genfromtxt(voltagepath, delimiter = '')\n",
    "'''"
   ]
  },
  {
   "cell_type": "code",
   "execution_count": null,
   "metadata": {},
   "outputs": [],
   "source": []
  }
 ],
 "metadata": {
  "kernelspec": {
   "display_name": "Python 3",
   "language": "python",
   "name": "python3"
  },
  "language_info": {
   "codemirror_mode": {
    "name": "ipython",
    "version": 3
   },
   "file_extension": ".py",
   "mimetype": "text/x-python",
   "name": "python",
   "nbconvert_exporter": "python",
   "pygments_lexer": "ipython3",
   "version": "3.6.5"
  }
 },
 "nbformat": 4,
 "nbformat_minor": 2
}
