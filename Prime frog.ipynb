{
 "cells": [
  {
   "cell_type": "code",
   "execution_count": 2,
   "metadata": {},
   "outputs": [],
   "source": [
    "import random\n",
    "\n",
    "primelist = []\n",
    "croaklist =  [True,True,True,True,False,False,True,True,True,False,True,True,False,True,False]\n",
    "\n",
    "def find_primes(num):\n",
    "    ps = []\n",
    "    \n",
    "    for i in range(2,num):\n",
    "        isprime = True\n",
    "        for ii in range(2,i):\n",
    "            if(i%ii==0):\n",
    "                isprime = False\n",
    "                break\n",
    "        if(isprime):\n",
    "            ps.append(i)\n",
    "    return ps\n",
    "\n",
    "\n",
    "def croak(n):\n",
    "    if n in primelist:\n",
    "        if(random.choice([0,1,2])>0):\n",
    "            return True\n",
    "        else:\n",
    "            return False\n",
    "    else:\n",
    "        if(random.choice([0,1,2])>1):\n",
    "            return True\n",
    "        else:\n",
    "            return False\n",
    "\n",
    "def let_frog_loose():\n",
    "    place = random.randint(1,500)\n",
    "    for cl in croaklist:\n",
    "        c = croak(place)\n",
    "        if(c!=cl):\n",
    "            return False\n",
    "        place += random.choice([-1,1])\n",
    "        if(place > 500):\n",
    "            place = 499\n",
    "        elif(place < 1):\n",
    "            place = 2\n",
    "    return True\n"
   ]
  },
  {
   "cell_type": "code",
   "execution_count": 66,
   "metadata": {
    "scrolled": true
   },
   "outputs": [
    {
     "name": "stdout",
     "output_type": "stream",
     "text": [
      "0.7393000000000001\n",
      "1.16348\n",
      "1.47555\n",
      "1.49165\n",
      "2.47215\n",
      "2.49739\n",
      "3.51934\n",
      "4.05458\n",
      "6.315270000000001\n",
      "8.35492\n",
      "10.25587\n",
      "10.74006\n",
      "12.41614\n",
      "13.4632\n",
      "14.970369999999999\n",
      "21.81163\n",
      "22.8275\n",
      "24.97466\n",
      "27.40702\n",
      "27.479350000000004\n",
      "27.49762\n",
      "28.554299999999998\n",
      "29.18163\n",
      "30.58536\n",
      "33.294200000000004\n",
      "34.34105\n",
      "35.2479\n",
      "35.79747\n",
      "36.79264\n",
      "41.13835\n",
      "42.85522\n",
      "43.59367\n",
      "43.60701\n",
      "43.75579\n",
      "49.33762\n",
      "50.09921000000001\n",
      "50.42245\n",
      "51.64751\n",
      "52.124579999999995\n",
      "52.860609999999994\n",
      "57.04503\n",
      "57.25926\n",
      "58.88818\n",
      "60.78789\n",
      "62.04066\n",
      "63.74204\n",
      "65.96237\n",
      "71.56369000000001\n",
      "71.72712\n",
      "72.09887\n",
      "73.07322\n",
      "75.71961\n",
      "76.01367\n",
      "76.88245\n",
      "76.98719\n",
      "79.3745\n",
      "81.02095\n",
      "81.47645999999999\n",
      "82.22572\n",
      "84.7379\n",
      "85.1052\n",
      "89.57245999999999\n",
      "95.70617999999999\n",
      "95.76861\n",
      "98.07764\n",
      "65 10000000\n",
      "153846.15384615384\n"
     ]
    }
   ],
   "source": [
    "primelist = find_primes(500)\n",
    "\n",
    "num_runs = 10**7\n",
    "num_true = 0\n",
    "\n",
    "\n",
    "for i in range(num_runs):\n",
    "    l = let_frog_loose()\n",
    "    if(l):\n",
    "        num_true += 1\n",
    "        print(i/num_runs*100)\n",
    "    \n",
    "\n",
    "print(num_true, num_runs)\n",
    "print(num_runs/num_true)"
   ]
  },
  {
   "cell_type": "code",
   "execution_count": 65,
   "metadata": {},
   "outputs": [],
   "source": [
    "so_far = [6776,1000000000]"
   ]
  },
  {
   "cell_type": "code",
   "execution_count": 3,
   "metadata": {},
   "outputs": [
    {
     "data": {
      "text/plain": [
       "95"
      ]
     },
     "execution_count": 3,
     "metadata": {},
     "output_type": "execute_result"
    }
   ],
   "source": [
    "len(find_primes(500))"
   ]
  },
  {
   "cell_type": "code",
   "execution_count": null,
   "metadata": {},
   "outputs": [],
   "source": []
  }
 ],
 "metadata": {
  "kernelspec": {
   "display_name": "Python 3",
   "language": "python",
   "name": "python3"
  },
  "language_info": {
   "codemirror_mode": {
    "name": "ipython",
    "version": 3
   },
   "file_extension": ".py",
   "mimetype": "text/x-python",
   "name": "python",
   "nbconvert_exporter": "python",
   "pygments_lexer": "ipython3",
   "version": "3.6.5"
  }
 },
 "nbformat": 4,
 "nbformat_minor": 2
}
