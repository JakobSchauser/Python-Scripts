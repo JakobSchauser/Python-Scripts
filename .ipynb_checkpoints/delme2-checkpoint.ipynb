{
 "cells": [
  {
   "cell_type": "code",
   "execution_count": null,
   "id": "federal-activation",
   "metadata": {
    "ExecuteTime": {
     "start_time": "2021-04-07T15:42:36.249Z"
    }
   },
   "outputs": [
    {
     "data": {
      "application/vnd.jupyter.widget-view+json": {
       "model_id": "df4edde64222424780824520ab37d2fb",
       "version_major": 2,
       "version_minor": 0
      },
      "text/plain": [
       "  0%|          | 0/10000 [00:00<?, ?it/s]"
      ]
     },
     "metadata": {},
     "output_type": "display_data"
    },
    {
     "name": "stdout",
     "output_type": "stream",
     "text": [
      "Too fast at 25\n",
      "Too fast at 66\n",
      "Too fast at 82\n",
      "Too fast at 107\n",
      "Too fast at 163\n",
      "Too fast at 168\n",
      "Too fast at 177\n",
      "Too fast at 231\n",
      "Too fast at 260\n",
      "Too fast at 403\n",
      "Too fast at 407\n",
      "Too fast at 425\n",
      "Too fast at 428\n",
      "Too fast at 477\n",
      "Too fast at 540\n",
      "Too fast at 555\n",
      "Too fast at 596\n",
      "Too fast at 630\n",
      "Too fast at 650\n",
      "Too fast at 675\n",
      "Too fast at 686\n",
      "Too fast at 705\n",
      "Too fast at 742\n",
      "Too fast at 744\n",
      "Too fast at 867\n",
      "Too fast at 893\n",
      "Too fast at 906\n",
      "Too fast at 956\n",
      "Too fast at 1060\n",
      "Too fast at 1083\n",
      "Too fast at 1247\n",
      "Too fast at 1287\n",
      "Too fast at 1422\n",
      "Too fast at 1557\n",
      "Too fast at 1570\n",
      "Too fast at 1595\n",
      "Too fast at 1674\n",
      "Too fast at 1804\n",
      "Too fast at 1941\n",
      "Too fast at 2049\n",
      "Too fast at 2066\n",
      "Too fast at 2088\n",
      "Too fast at 2097\n",
      "Too fast at 2099\n",
      "Too fast at 2114\n",
      "Too fast at 2125\n",
      "Too fast at 2145\n",
      "Too fast at 2205\n",
      "Too fast at 2213\n",
      "Too fast at 2216\n",
      "Too fast at 2218\n",
      "Too fast at 2220\n",
      "Too fast at 2259\n",
      "Too fast at 2299\n",
      "Too fast at 2310\n",
      "Too fast at 2322\n",
      "Too fast at 2334\n",
      "Too fast at 2348\n",
      "Too fast at 2384\n",
      "Too fast at 2394\n",
      "Too fast at 2457\n",
      "Too fast at 2459\n",
      "Too fast at 2528\n",
      "Too fast at 2589\n",
      "Too fast at 2592\n"
     ]
    }
   ],
   "source": [
    "import selenium\n",
    "from selenium import webdriver\n",
    "import time\n",
    "from tqdm.notebook import tqdm\n",
    "driver = webdriver.Chrome()\n",
    "\n",
    "for i in tqdm(range(10000)):\n",
    "    driver.get(\"https://interaktiv.mx.dk/simplevotes/get/11592\")\n",
    "    yes = driver.find_element_by_id(\"vote_yes\")\n",
    "    try: \n",
    "        yes.click()\n",
    "    except:\n",
    "        print(\"Too fast at\",i)\n",
    "    time.sleep(0.2)\n",
    "    driver.delete_all_cookies()\n",
    "    "
   ]
  },
  {
   "cell_type": "code",
   "execution_count": null,
   "id": "retired-plymouth",
   "metadata": {},
   "outputs": [],
   "source": []
  }
 ],
 "metadata": {
  "hide_input": false,
  "kernelspec": {
   "display_name": "Python 3",
   "language": "python",
   "name": "python3"
  },
  "toc": {
   "base_numbering": 1,
   "nav_menu": {},
   "number_sections": true,
   "sideBar": true,
   "skip_h1_title": false,
   "title_cell": "Table of Contents",
   "title_sidebar": "Contents",
   "toc_cell": false,
   "toc_position": {},
   "toc_section_display": true,
   "toc_window_display": false
  }
 },
 "nbformat": 4,
 "nbformat_minor": 5
}
