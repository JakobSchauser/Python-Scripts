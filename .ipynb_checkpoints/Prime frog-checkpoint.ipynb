{
 "cells": [
  {
   "cell_type": "code",
   "execution_count": 15,
   "metadata": {},
   "outputs": [],
   "source": [
    "import numpy as np\n",
    "import random\n",
    "\n",
    "primelist = []\n",
    "croaklist =  [True,True,True,True,False,False,True,True,True,False,True,True,False,True,False]\n",
    "\n",
    "def find_primes(num):\n",
    "    ps = []\n",
    "    \n",
    "    for i in range(2,num):\n",
    "        isprime = True\n",
    "        for ii in range(2,i):\n",
    "            if(i%ii==0):\n",
    "                isprime = False\n",
    "                break\n",
    "        if(isprime):\n",
    "            ps.append(i)\n",
    "    return ps\n",
    "\n",
    "\n",
    "def croak(n):\n",
    "    if n in primelist:\n",
    "        if(random.choice([0,1,2])>0):\n",
    "            return True\n",
    "        else:\n",
    "            return False\n",
    "    else:\n",
    "        if(random.choice([0,1,2])>1):\n",
    "            return True\n",
    "        else:\n",
    "            return False\n",
    "\n",
    "def let_frog_loose():\n",
    "    place = random.randint(1,500)\n",
    "    for i in range(15):\n",
    "        c = croak(place)\n",
    "        if(c!=croaklist[i]):\n",
    "            return False\n",
    "        place += random.choice([-1,1])\n",
    "        if(place > 500):\n",
    "            place = 499\n",
    "        elif(place < 1):\n",
    "            place = 2\n",
    "    return True\n"
   ]
  },
  {
   "cell_type": "code",
   "execution_count": 25,
   "metadata": {},
   "outputs": [
    {
     "name": "stdout",
     "output_type": "stream",
     "text": [
      "0\n"
     ]
    }
   ],
   "source": [
    "primelist = find_primes(500)\n",
    "\n",
    "num_runs = 1000\n",
    "num_true = 0\n",
    "\n",
    "for i in range(num_runs):\n",
    "    if(let_frog_loose()):\n",
    "        num_true += 1\n",
    "\n",
    "print(num_true)"
   ]
  },
  {
   "cell_type": "code",
   "execution_count": null,
   "metadata": {},
   "outputs": [],
   "source": []
  }
 ],
 "metadata": {
  "kernelspec": {
   "display_name": "Python 3",
   "language": "python",
   "name": "python3"
  },
  "language_info": {
   "codemirror_mode": {
    "name": "ipython",
    "version": 3
   },
   "file_extension": ".py",
   "mimetype": "text/x-python",
   "name": "python",
   "nbconvert_exporter": "python",
   "pygments_lexer": "ipython3",
   "version": "3.6.5"
  }
 },
 "nbformat": 4,
 "nbformat_minor": 2
}
