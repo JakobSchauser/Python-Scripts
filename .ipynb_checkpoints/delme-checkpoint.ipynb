{
 "cells": [
  {
   "cell_type": "code",
   "execution_count": null,
   "id": "configured-origin",
   "metadata": {
    "ExecuteTime": {
     "start_time": "2021-04-07T16:39:43.688Z"
    }
   },
   "outputs": [],
   "source": [
    "import selenium\n",
    "from selenium import webdriver\n",
    "import time\n",
    "from tqdm.notebook import tqdm\n",
    "driver = webdriver.Chrome()\n",
    "\n",
    "for i in tqdm(range(10000)):\n",
    "    driver.get(\"https://interaktiv.mx.dk/simplevotes/get/11592\")\n",
    "    yes = driver.find_element_by_id(\"vote_yes\")\n",
    "    try: \n",
    "        yes.click()\n",
    "    except:\n",
    "        print(\"Too fast at\",i)\n",
    "    time.sleep(0.2)\n",
    "    driver.delete_all_cookies()\n",
    "    "
   ]
  },
  {
   "cell_type": "code",
   "execution_count": null,
   "id": "limited-miniature",
   "metadata": {},
   "outputs": [],
   "source": []
  }
 ],
 "metadata": {
  "hide_input": false,
  "kernelspec": {
   "display_name": "Python 3",
   "language": "python",
   "name": "python3"
  },
  "toc": {
   "base_numbering": 1,
   "nav_menu": {},
   "number_sections": true,
   "sideBar": true,
   "skip_h1_title": false,
   "title_cell": "Table of Contents",
   "title_sidebar": "Contents",
   "toc_cell": false,
   "toc_position": {},
   "toc_section_display": true,
   "toc_window_display": false
  }
 },
 "nbformat": 4,
 "nbformat_minor": 5
}
