{
 "cells": [
  {
   "cell_type": "code",
   "execution_count": 3,
   "id": "patent-maldives",
   "metadata": {
    "ExecuteTime": {
     "end_time": "2021-08-01T14:17:04.679737Z",
     "start_time": "2021-08-01T14:17:02.324371Z"
    }
   },
   "outputs": [
    {
     "name": "stdout",
     "output_type": "stream",
     "text": [
      "Starting\n",
      "C:\\Users\\jakob\\Documents\\Gamemaking\\ICPSGAME\\ThePath\n",
      "Done\n"
     ]
    }
   ],
   "source": [
    "import os\n",
    "\n",
    "print(\"Starting\")\n",
    "\n",
    "os.chdir(\"C:/Users/jakob/Documents/Gamemaking/ICPSGAME/ThePath\")\n",
    "\n",
    "print(os.getcwd())\n",
    "\n",
    "start = \"C:/Users/jakob/Documents/Gamemaking/ICPSGAME/ThePath\"\n",
    "\n",
    "def mkdir(p):\n",
    "    #if not os.path.exists(p):\n",
    "    os.mkdir(start+p)\n",
    "        \n",
    "        \n",
    "def alldirs():\n",
    "    for a in range(1,6):\n",
    "        mkdir(\"/\"+str(a))\n",
    "        for b in range(1,6):\n",
    "            mkdir(\"/\"+str(a)+\"/\"+str(b))\n",
    "            \n",
    "            for c in range(1,6):\n",
    "                mkdir(\"/\"+str(a)+\"/\"+str(b)+\"/\"+str(c))\n",
    "                \n",
    "                for d in range(1,6):\n",
    "                    mkdir(\"/\"+str(a)+\"/\"+str(b)+\"/\"+str(c)+\"/\"+str(d))    \n",
    "                    \n",
    "                    for e in range(1,6):\n",
    "                        mkdir(\"/\"+str(a)+\"/\"+str(b)+\"/\"+str(c)+\"/\"+str(d)+\"/\"+str(e))\n",
    "                        of = open(\"/\"+str(a)+\"/\"+str(b)+\"/\"+str(c)+\"/\"+str(d)+\"/\"+str(e)+\"/WrongPlace.txt\",\"w+\")\n",
    "                        of.write(\"This is not the data!\")\n",
    "                        of.close()\n",
    "                            \n",
    "            \n",
    "\n",
    "alldirs()          \n",
    "print(\"Done\")\n"
   ]
  },
  {
   "cell_type": "code",
   "execution_count": null,
   "id": "ongoing-collapse",
   "metadata": {},
   "outputs": [],
   "source": []
  }
 ],
 "metadata": {
  "hide_input": false,
  "kernelspec": {
   "display_name": "Python 3",
   "language": "python",
   "name": "python3"
  },
  "language_info": {
   "codemirror_mode": {
    "name": "ipython",
    "version": 3
   },
   "file_extension": ".py",
   "mimetype": "text/x-python",
   "name": "python",
   "nbconvert_exporter": "python",
   "pygments_lexer": "ipython3",
   "version": "3.6.12"
  },
  "toc": {
   "base_numbering": 1,
   "nav_menu": {},
   "number_sections": true,
   "sideBar": true,
   "skip_h1_title": false,
   "title_cell": "Table of Contents",
   "title_sidebar": "Contents",
   "toc_cell": false,
   "toc_position": {},
   "toc_section_display": true,
   "toc_window_display": false
  }
 },
 "nbformat": 4,
 "nbformat_minor": 5
}
