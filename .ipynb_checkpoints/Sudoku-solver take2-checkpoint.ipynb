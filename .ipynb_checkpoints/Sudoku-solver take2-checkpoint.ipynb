{
 "cells": [
  {
   "cell_type": "code",
   "execution_count": 276,
   "metadata": {
    "ExecuteTime": {
     "end_time": "2020-11-10T12:46:30.476794Z",
     "start_time": "2020-11-10T12:46:30.441874Z"
    }
   },
   "outputs": [],
   "source": [
    "import numpy as np\n",
    "from numba import jit\n",
    "l = 9\n",
    "board = np.array([[8,7,6,9,0,0,0,0,0],\n",
    "                  [0,1,0,0,0,6,0,0,0],\n",
    "                  [0,4,0,3,0,5,8,0,0],\n",
    "                  [4,0,0,0,0,0,2,1,0],\n",
    "                  [0,9,0,5,0,0,0,0,0],\n",
    "                  [0,5,0,0,4,0,3,0,6],\n",
    "                  [0,2,9,0,0,0,0,0,8],\n",
    "                  [0,0,4,6,9,0,1,7,3],\n",
    "                  [0,0,0,0,0,1,0,0,4]])\n",
    "\n",
    "\n",
    "file = np.genfromtxt(\"SudokuEasy50.txt\",int,delimiter=1)\n",
    "\n",
    "boards = []\n",
    "for line in file:\n",
    "    boards.append(np.reshape(line,(9,9)))\n",
    "\n",
    "def unique(l):\n",
    "    ll = np.array(list(set(l)))\n",
    "    return np.delete(ll,np.where(ll==0))\n",
    "\n",
    "# @jit\n",
    "def solve(board,depth):\n",
    "    board = board.copy()\n",
    "    \n",
    "    \n",
    "    possibles = np.zeros([9,9,9])\n",
    "    for y in range(l):\n",
    "        for x in range(l):\n",
    "            if board[x,y]==0:\n",
    "                possibles[x,y] = np.arange(9)+1\n",
    "    \n",
    "    K = np.sum(board==0)\n",
    "    count = 0\n",
    "    while K > 0:\n",
    "        if count > depth:\n",
    "            return False,board\n",
    "        for y in range(l):\n",
    "            for x in range(l):\n",
    "                \n",
    "                # Only fill in if not already\n",
    "                if board[x,y] != 0:\n",
    "                    continue\n",
    "                    \n",
    "                #find row and column\n",
    "                r,c = board[:,y],board[x,:]\n",
    "                \n",
    "                #find local square\n",
    "                sx,sy = int(np.floor(x/3)*3),int(np.floor(y/3)*3)\n",
    "                tile = board[sx:sx+3,sy:sy+3].ravel()\n",
    "                \n",
    "                #combine all\n",
    "                comb = unique(np.hstack((r,c,tile)).ravel())\n",
    "                \n",
    "                #remove possibilites if already found\n",
    "                for c in comb:\n",
    "                    possibles[x,y][np.where(possibles[x,y]==c)] = 0\n",
    "                \n",
    "                #Find other possibilities in the row and coloumn\n",
    "                r,c = possibles[np.arange(l)!=x,y].ravel(),possibles[x,np.arange(l)!=y].ravel()\n",
    "                r,c = unique(r),unique(c)\n",
    "                \n",
    "                #And the possibilities in the square\n",
    "                square = np.empty((8,9))\n",
    "                loopings = 0 #slam\n",
    "                for xx in range(sx,sx+3):\n",
    "                    for yy in range(sy,sy+3):\n",
    "                        if (xx == x) and (yy == y):\n",
    "                            continue\n",
    "                        square[loopings] = possibles[xx,yy] \n",
    "                        loopings+=1\n",
    "                square = unique(square.ravel())\n",
    "            \n",
    "                #If you are the only one in row/coloum/square that can have number, you take it\n",
    "                us = unique(possibles[x,y])\n",
    "                for u in us:\n",
    "                    if (u not in r) or (u not in c) or (u not in square):\n",
    "                        tf = np.where(possibles[x,y]==u)\n",
    "                        mask = np.ones(possibles[x,y].shape, dtype='bool')\n",
    "                        mask[tf] = False\n",
    "                        possibles[x,y][mask] = 0\n",
    "                \n",
    "                #find the possible numbers for this position and fill in if there is only one left\n",
    "                us = unique(possibles[x,y])\n",
    "                if(len(us)==1):\n",
    "                    board[x,y] = us[0]\n",
    "                    possibles[x,y] = np.zeros(9)\n",
    "                elif(len(us)==0):\n",
    "                    print(\"Something wrong at \",x,y)\n",
    "                    \n",
    "        #Check if done\n",
    "        K = np.sum(board==0)\n",
    "        count += 1\n",
    "\n",
    "    return True,board"
   ]
  },
  {
   "cell_type": "code",
   "execution_count": 274,
   "metadata": {
    "ExecuteTime": {
     "end_time": "2020-11-10T12:38:38.216556Z",
     "start_time": "2020-11-10T12:38:36.708545Z"
    }
   },
   "outputs": [
    {
     "name": "stdout",
     "output_type": "stream",
     "text": [
      "[[1 0 0 9 2 0 0 0 0]\n",
      " [5 2 4 0 1 0 0 0 0]\n",
      " [0 0 0 0 0 0 0 7 0]\n",
      " [0 5 0 0 0 8 1 0 2]\n",
      " [0 0 0 0 0 0 0 0 0]\n",
      " [4 0 2 7 0 0 0 9 0]\n",
      " [0 6 0 0 0 0 0 0 0]\n",
      " [0 0 0 0 3 0 9 4 5]\n",
      " [0 0 0 0 7 1 0 0 6]]\n"
     ]
    },
    {
     "data": {
      "text/plain": [
       "array([[1, 0, 0, 9, 2, 0, 0, 0, 0],\n",
       "       [5, 2, 4, 0, 1, 7, 0, 0, 9],\n",
       "       [0, 0, 0, 0, 0, 0, 2, 7, 1],\n",
       "       [0, 5, 0, 0, 0, 8, 1, 0, 2],\n",
       "       [0, 0, 0, 1, 0, 2, 0, 0, 0],\n",
       "       [4, 1, 2, 7, 0, 0, 0, 9, 0],\n",
       "       [0, 6, 0, 0, 0, 9, 0, 1, 0],\n",
       "       [0, 0, 1, 0, 3, 6, 9, 4, 5],\n",
       "       [0, 4, 0, 0, 7, 1, 0, 2, 6]])"
      ]
     },
     "execution_count": 274,
     "metadata": {},
     "output_type": "execute_result"
    }
   ],
   "source": [
    "print(boards[5])\n",
    "_, board = solve(boards[5],100)\n",
    "board"
   ]
  },
  {
   "cell_type": "code",
   "execution_count": 275,
   "metadata": {
    "ExecuteTime": {
     "end_time": "2020-11-10T12:41:06.689036Z",
     "start_time": "2020-11-10T12:40:51.003264Z"
    }
   },
   "outputs": [
    {
     "name": "stdout",
     "output_type": "stream",
     "text": [
      "5\n",
      "6\n",
      "9\n",
      "24\n",
      "41\n",
      "42\n",
      "46\n",
      "47\n",
      "48\n",
      "49\n"
     ]
    }
   ],
   "source": [
    "for i in range(50):\n",
    "    done,_ = solve(boards[i],100)\n",
    "    if done == False:\n",
    "        print(i)\n",
    "\n",
    "    \n"
   ]
  },
  {
   "cell_type": "code",
   "execution_count": 75,
   "metadata": {
    "ExecuteTime": {
     "end_time": "2020-11-08T14:19:50.359759Z",
     "start_time": "2020-11-08T14:19:50.354809Z"
    }
   },
   "outputs": [
    {
     "data": {
      "text/plain": [
       "array([[2, 0, 0, 0, 8, 0, 3, 0, 0],\n",
       "       [0, 6, 0, 0, 7, 0, 0, 8, 4],\n",
       "       [0, 3, 0, 5, 0, 0, 2, 0, 9],\n",
       "       [0, 0, 0, 1, 0, 5, 4, 0, 8],\n",
       "       [0, 0, 0, 0, 0, 0, 0, 0, 0],\n",
       "       [4, 0, 2, 7, 0, 6, 0, 0, 0],\n",
       "       [3, 0, 1, 0, 0, 7, 0, 4, 0],\n",
       "       [7, 2, 0, 0, 4, 0, 0, 6, 0],\n",
       "       [0, 0, 4, 0, 1, 0, 0, 0, 3]])"
      ]
     },
     "execution_count": 75,
     "metadata": {},
     "output_type": "execute_result"
    }
   ],
   "source": [
    "boards[1]"
   ]
  }
 ],
 "metadata": {
  "hide_input": false,
  "kernelspec": {
   "display_name": "Python 3",
   "language": "python",
   "name": "python3"
  },
  "language_info": {
   "codemirror_mode": {
    "name": "ipython",
    "version": 3
   },
   "file_extension": ".py",
   "mimetype": "text/x-python",
   "name": "python",
   "nbconvert_exporter": "python",
   "pygments_lexer": "ipython3",
   "version": "3.6.10"
  },
  "toc": {
   "base_numbering": 1,
   "nav_menu": {},
   "number_sections": true,
   "sideBar": true,
   "skip_h1_title": false,
   "title_cell": "Table of Contents",
   "title_sidebar": "Contents",
   "toc_cell": false,
   "toc_position": {},
   "toc_section_display": true,
   "toc_window_display": false
  }
 },
 "nbformat": 4,
 "nbformat_minor": 2
}
