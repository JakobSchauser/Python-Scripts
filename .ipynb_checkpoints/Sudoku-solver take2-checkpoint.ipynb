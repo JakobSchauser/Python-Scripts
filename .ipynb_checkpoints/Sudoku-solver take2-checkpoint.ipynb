{
 "cells": [
  {
   "cell_type": "code",
   "execution_count": 117,
   "metadata": {},
   "outputs": [],
   "source": [
    "import numpy as np\n",
    "\n",
    "sudoku = [[8,7,6,9,0,0,0,0,0],\n",
    "          [0,1,0,0,0,6,0,0,0],\n",
    "          [0,4,0,3,0,5,8,0,0],\n",
    "          [4,0,0,0,0,0,2,1,0],\n",
    "          [0,9,0,5,0,0,0,0,0],\n",
    "          [0,5,0,0,4,0,3,0,6],\n",
    "          [0,2,9,0,0,0,0,0,8],\n",
    "          [0,0,4,6,9,0,1,7,3],\n",
    "          [0,0,0,0,0,1,0,0,4]]\n",
    "\n",
    "def set_up_solution():\n",
    "    sol = [[[] for i in range(9)] for ii in range(9)]\n",
    "    for i, r in enumerate(sudoku):\n",
    "        for ii, n in enumerate(r):\n",
    "            if(n!=0):\n",
    "                sol[i][ii].append(n)\n",
    "            else:\n",
    "                sol[i][ii] = ([_ for _ in range(1,10)])\n",
    "    return sol\n",
    "\n",
    "sol = set_up_solution()\n",
    "\n",
    "def eliminate_possibilities():\n",
    "    for y in range(len(sol)):\n",
    "        for x in range(len(sol[y])):\n",
    "            if(len(sol[y][x])>1):\n",
    "                i = sol[y][x]\n",
    "                #check rows\n",
    "                for ii in sol[y]:\n",
    "                    if(len(ii)==1):\n",
    "                        if ii[0] in i:\n",
    "                            sol[y][x].remove(ii[0])\n",
    "                            i = sol[y][x]\n",
    "                #check column\n",
    "                for j in range(len(sol)):\n",
    "                    ii = sol[j][x]\n",
    "                    if(len(ii)==1):\n",
    "                        if ii[0] in i:\n",
    "                            sol[y][x].remove(ii[0])\n",
    "                            i = sol[y][x]\n",
    "                #check square\n",
    "                for j in range(len(sol)//3):\n",
    "                    for k in range(len(sol)//3):\n",
    "                        ii = sol[y//3+j][x//3+k]\n",
    "                        if(len(ii)==1):\n",
    "                            if ii[0] in i:\n",
    "                                sol[y][x].remove(ii[0])\n",
    "                                i = sol[y][x]\n",
    "                        \n",
    "                    \n",
    "\n",
    "def update_sudoku():\n",
    "    for y in range(9):\n",
    "        for x, l in enumerate(sol[y]):\n",
    "            if (len(l)==1):\n",
    "                sudoku[y][x] = l[0]"
   ]
  },
  {
   "cell_type": "code",
   "execution_count": 118,
   "metadata": {},
   "outputs": [
    {
     "name": "stdout",
     "output_type": "stream",
     "text": [
      "[[8, 7, 6, 9, 0, 0, 0, 0, 0], [0, 1, 0, 0, 0, 6, 0, 0, 0], [0, 4, 0, 3, 0, 5, 8, 0, 0], [4, 0, 0, 0, 0, 0, 2, 1, 0], [0, 9, 0, 5, 0, 0, 0, 0, 0], [0, 5, 0, 0, 4, 0, 3, 0, 6], [0, 2, 9, 0, 0, 0, 0, 0, 8], [0, 0, 4, 6, 9, 0, 1, 7, 3], [0, 0, 0, 0, 0, 1, 0, 0, 4]]\n",
      "[[8, 7, 6, 9, 0, 2, 0, 0, 0], [0, 1, 0, 0, 0, 6, 0, 0, 0], [0, 4, 0, 3, 2, 5, 8, 0, 0], [4, 0, 0, 0, 0, 0, 2, 1, 0], [0, 9, 0, 5, 0, 0, 0, 0, 0], [0, 5, 0, 0, 4, 0, 3, 0, 6], [0, 2, 9, 0, 0, 7, 0, 0, 8], [0, 0, 4, 6, 9, 0, 1, 7, 3], [0, 0, 0, 0, 0, 1, 0, 0, 4]]\n"
     ]
    }
   ],
   "source": [
    "print(sudoku)\n",
    "eliminate_possibilities()\n",
    "\n",
    "update_sudoku()\n",
    "print(sudoku)"
   ]
  },
  {
   "cell_type": "code",
   "execution_count": 119,
   "metadata": {},
   "outputs": [
    {
     "data": {
      "text/plain": [
       "[[[8], [7], [6], [9], [2, 5], [2], [4, 5], [4, 5], [1, 5]],\n",
       " [[2, 3, 5, 9],\n",
       "  [1],\n",
       "  [2, 3, 5],\n",
       "  [2, 8],\n",
       "  [2, 5, 8],\n",
       "  [6],\n",
       "  [4, 5, 7],\n",
       "  [2, 4, 5, 8],\n",
       "  [2, 5, 7]],\n",
       " [[2, 9], [4], [], [3], [2], [5], [8], [], [1, 7]],\n",
       " [[4],\n",
       "  [3, 6, 8],\n",
       "  [3, 5, 7, 8],\n",
       "  [7, 8],\n",
       "  [5, 6, 7, 8],\n",
       "  [7, 8, 9],\n",
       "  [2],\n",
       "  [1],\n",
       "  [5, 7, 9]],\n",
       " [[2, 3, 6, 7],\n",
       "  [9],\n",
       "  [2, 3, 7, 8],\n",
       "  [5],\n",
       "  [6, 7, 8],\n",
       "  [7, 8],\n",
       "  [4, 6, 7],\n",
       "  [4, 6, 8],\n",
       "  [1, 7]],\n",
       " [[2, 7, 9], [5], [2, 7, 8], [2, 7, 8], [4], [7, 8, 9], [3], [8, 9], [6]],\n",
       " [[1, 3, 5, 6, 7], [2], [9], [1, 7], [1, 6, 7], [7], [4, 6], [4, 6], [8]],\n",
       " [[2, 5], [], [4], [6], [9], [], [1], [7], [3]],\n",
       " [[2, 3, 5, 6, 7],\n",
       "  [3, 6, 8],\n",
       "  [2, 3, 5, 7, 8],\n",
       "  [2, 7, 8],\n",
       "  [6, 7, 8],\n",
       "  [1],\n",
       "  [6, 7, 9],\n",
       "  [6, 8, 9],\n",
       "  [4]]]"
      ]
     },
     "execution_count": 119,
     "metadata": {},
     "output_type": "execute_result"
    }
   ],
   "source": [
    "sol"
   ]
  },
  {
   "cell_type": "code",
   "execution_count": null,
   "metadata": {},
   "outputs": [],
   "source": []
  }
 ],
 "metadata": {
  "kernelspec": {
   "display_name": "Python 3",
   "language": "python",
   "name": "python3"
  },
  "language_info": {
   "codemirror_mode": {
    "name": "ipython",
    "version": 3
   },
   "file_extension": ".py",
   "mimetype": "text/x-python",
   "name": "python",
   "nbconvert_exporter": "python",
   "pygments_lexer": "ipython3",
   "version": "3.6.5"
  }
 },
 "nbformat": 4,
 "nbformat_minor": 2
}
