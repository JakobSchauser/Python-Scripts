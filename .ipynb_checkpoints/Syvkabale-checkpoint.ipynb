{
 "cells": [
  {
   "cell_type": "code",
   "execution_count": 1,
   "id": "round-sleeping",
   "metadata": {
    "ExecuteTime": {
     "end_time": "2021-03-14T15:39:34.864753Z",
     "start_time": "2021-03-14T15:39:34.426045Z"
    }
   },
   "outputs": [],
   "source": [
    "import numpy as np\n",
    "from numpy import random\n"
   ]
  },
  {
   "cell_type": "code",
   "execution_count": 49,
   "id": "nonprofit-extreme",
   "metadata": {
    "ExecuteTime": {
     "end_time": "2021-03-14T15:54:52.901046Z",
     "start_time": "2021-03-14T15:54:52.891076Z"
    }
   },
   "outputs": [],
   "source": [
    "deck = np.empty((52,2))\n",
    "nums = np.array([[i for i in range(13)] for k in range(4)]).ravel()\n",
    "suits = np.array([np.floor(i/52*4) for i in range(52)]).astype(int)\n",
    "\n",
    "deck[:,0] = nums\n",
    "deck[:,1] = suits\n",
    "\n",
    "def pull(d):\n",
    "    random.shuffle(d)\n",
    "    last, d = d[-1], d[:-1]\n",
    "    return d, last\n",
    "\n",
    "def legal(a,b):\n",
    "    if(a[1]%2 == b[1]%2):\n",
    "        return False\n",
    "    if(a[0]-1 == b[0]):\n",
    "        return True"
   ]
  },
  {
   "cell_type": "code",
   "execution_count": 50,
   "id": "continuing-offering",
   "metadata": {
    "ExecuteTime": {
     "end_time": "2021-03-14T16:16:15.581013Z",
     "start_time": "2021-03-14T16:16:15.573558Z"
    }
   },
   "outputs": [],
   "source": [
    "def start_board(deck):\n",
    "    board = []\n",
    "    for i in range(7):\n",
    "        stack = []\n",
    "        for x in range(i+1):\n",
    "            deck, card = pull(deck)\n",
    "            stack.append(card)\n",
    "        board.append(stack)\n",
    "    return board,deck\n",
    "\n",
    "def find_legals(board):\n",
    "    for stack in board:\n",
    "        end = False\n",
    "        last = None\n",
    "        for card in stack:\n",
    "            if end:\n",
    "                break\n",
    "            if not last == None:\n",
    "                if not legal(last,card):\n",
    "                     end = True\n",
    "            last = card\n",
    "            \n",
    "        for other_stack in board:\n",
    "            if legal(last,other_stack[0]):\n",
    "                pass\n",
    "                "
   ]
  },
  {
   "cell_type": "code",
   "execution_count": 48,
   "id": "sitting-lesson",
   "metadata": {
    "ExecuteTime": {
     "end_time": "2021-03-14T15:52:15.673850Z",
     "start_time": "2021-03-14T15:52:15.661882Z"
    }
   },
   "outputs": [
    {
     "data": {
      "text/plain": [
       "[[array([3., 2.])],\n",
       " [array([10.,  2.]), array([3., 1.])],\n",
       " [array([10.,  1.]), array([4., 2.]), array([12.,  2.])],\n",
       " [array([8., 2.]), array([1., 1.]), array([12.,  3.]), array([7., 3.])],\n",
       " [array([11.,  0.]),\n",
       "  array([7., 0.]),\n",
       "  array([9., 0.]),\n",
       "  array([8., 0.]),\n",
       "  array([10.,  3.])],\n",
       " [array([9., 2.]),\n",
       "  array([2., 3.]),\n",
       "  array([3., 3.]),\n",
       "  array([4., 1.]),\n",
       "  array([2., 1.]),\n",
       "  array([4., 3.])],\n",
       " [array([9., 3.]),\n",
       "  array([7., 1.]),\n",
       "  array([6., 2.]),\n",
       "  array([0., 1.]),\n",
       "  array([3., 0.]),\n",
       "  array([11.,  3.]),\n",
       "  array([1., 2.])]]"
      ]
     },
     "execution_count": 48,
     "metadata": {},
     "output_type": "execute_result"
    }
   ],
   "source": [
    "\n",
    "        "
   ]
  }
 ],
 "metadata": {
  "hide_input": false,
  "kernelspec": {
   "display_name": "Python 3",
   "language": "python",
   "name": "python3"
  },
  "language_info": {
   "codemirror_mode": {
    "name": "ipython",
    "version": 3
   },
   "file_extension": ".py",
   "mimetype": "text/x-python",
   "name": "python",
   "nbconvert_exporter": "python",
   "pygments_lexer": "ipython3",
   "version": "3.6.12"
  },
  "toc": {
   "base_numbering": 1,
   "nav_menu": {},
   "number_sections": true,
   "sideBar": true,
   "skip_h1_title": false,
   "title_cell": "Table of Contents",
   "title_sidebar": "Contents",
   "toc_cell": false,
   "toc_position": {},
   "toc_section_display": true,
   "toc_window_display": false
  }
 },
 "nbformat": 4,
 "nbformat_minor": 5
}
