{
 "cells": [
  {
   "cell_type": "code",
   "execution_count": 33,
   "metadata": {},
   "outputs": [
    {
     "name": "stdout",
     "output_type": "stream",
     "text": [
      "[[106104.95856717315, 3.0], [1921626.8505818855, 3.0], [32899609.41782344, 3.0], [1.0, 3.0], [1.0, 3.0]]\n"
     ]
    },
    {
     "name": "stderr",
     "output_type": "stream",
     "text": [
      "C:\\Users\\jakob\\Anaconda3\\lib\\site-packages\\scipy\\optimize\\minpack.py:794: OptimizeWarning: Covariance of the parameters could not be estimated\n",
      "  category=OptimizeWarning)\n"
     ]
    },
    {
     "data": {
      "image/png": "[encoded data removed]",
      "text/plain": [
       "<Figure size 432x288 with 1 Axes>"
      ]
     },
     "metadata": {},
     "output_type": "display_data"
    }
   ],
   "source": [
    "import numpy as np\n",
    "import matplotlib.pyplot as plt\n",
    "from scipy.optimize import curve_fit as CF\n",
    "\n",
    "data = np.genfromtxt('measurement1.txt',skip_header=1)\n",
    "\n",
    "kugle_pos = data[:,0]\n",
    "ophæng_pos = data[:,1]\n",
    "\n",
    "#Jeg går ud fra at den sorte kugle er i y=0, så afstanden mellem denne og den nederste kugle er blot kuglens y-værdi\n",
    "#Jeg ved også at kraften på en fjeder er porportionel med dens udstrækning\n",
    "\n",
    "naivF = ophæng_pos-kugle_pos\n",
    "\n",
    "F = lambda r,C : C/(r**alpha)\n",
    "Cs = []\n",
    "for i in range(5):\n",
    "    alpha = i/2+1\n",
    "    val, cov = CF(F,kugle_pos,naivF)\n",
    "    Cs.append([*val,a])\n",
    "    \n",
    "\n",
    "print(Cs)\n",
    "plt.plot(kugle_pos,naivF,'bo')\n",
    "for C in Cs:\n",
    "    alpha = C[1]\n",
    "    plt.plot(kugle_pos,F(kugle_pos,C[0]))\n",
    "plt.show()"
   ]
  },
  {
   "cell_type": "code",
   "execution_count": null,
   "metadata": {},
   "outputs": [],
   "source": []
  }
 ],
 "metadata": {
  "kernelspec": {
   "display_name": "Python 3",
   "language": "python",
   "name": "python3"
  },
  "language_info": {
   "codemirror_mode": {
    "name": "ipython",
    "version": 3
   },
   "file_extension": ".py",
   "mimetype": "text/x-python",
   "name": "python",
   "nbconvert_exporter": "python",
   "pygments_lexer": "ipython3",
   "version": "3.6.5"
  }
 },
 "nbformat": 4,
 "nbformat_minor": 2
}
