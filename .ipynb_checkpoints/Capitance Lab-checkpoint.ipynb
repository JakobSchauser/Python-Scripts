{
 "cells": [
  {
   "cell_type": "code",
   "execution_count": 161,
   "metadata": {},
   "outputs": [
    {
     "data": {
      "text/plain": [
       "Text(0.5,1,'For area = 20 $cm^2$')"
      ]
     },
     "execution_count": 161,
     "metadata": {},
     "output_type": "execute_result"
    },
    {
     "data": {
      "image/png": "[encoded data removed]",
      "text/plain": [
       "<Figure size 432x288 with 1 Axes>"
      ]
     },
     "metadata": {},
     "output_type": "display_data"
    }
   ],
   "source": [
    "import numpy as np\n",
    "import matplotlib.pyplot as plt\n",
    "from scipy.stats import chi2\n",
    "\n",
    "#For A = 30\n",
    "Q_30 = np.array([[3,4,2,5,4,4,3,4,4,4],[6,5,6,7,7,7,6,7,7,8],[5,7,8,8,7,7,4,9,9,8,],[17,15,15,14,16,16,16,15,17,17]])*1e-9\n",
    "\n",
    "#For A = 20\n",
    "Q_20 = np.array([[3,3,2,3,3,2,2,2,2,3],[3,5,5,5,5,5,4,4,5,8],[4,4,5,5,4,4,5,5,4,4],[8,6,6,7,7,7,6,9,10,6]])*1e-9\n",
    "\n",
    "#For PVC 30\n",
    "Q_PVC_30 = np.array([10,12,11,12,12,13,14,14,13,15])*1e-9\n",
    "\n",
    "#For PVC 20\n",
    "Q_PVC_20 = np.array([8,7,8,6,8,7,8,6,7,9])*1e-9\n",
    "\n",
    "#Her skifter vi hvad der faktisk regnes på i koden\n",
    "Q = Q_20\n",
    "              \n",
    "std = np.std(Q, axis = 1)/np.sqrt(10)\n",
    "mean = np.mean(Q, axis = 1)\n",
    "mean=np.flip(mean, axis=0)\n",
    "\n",
    "d = np.array([0.2,0.5,0.7,1])*1e-2\n",
    "drec = 1/d\n",
    "\n",
    "fit = np.polyfit(drec,mean,1, full = False, cov = False)\n",
    "\n",
    "poly = lambda a: fit[0]*a+fit[1]\n",
    "\n",
    "lin = np.linspace(100,500,30)\n",
    "plt.plot(lin,poly(lin))\n",
    "plt.errorbar(drec,mean,std, ls='none')\n",
    "plt.plot(drec,mean,\"bo\")\n",
    "plt.xlabel(\"$1/distance [m^{-1}]$\")\n",
    "plt.ylabel(\"Measured charge [C]\")\n",
    "plt.title(\"For area = 20 $cm^2$\")"
   ]
  },
  {
   "cell_type": "code",
   "execution_count": 119,
   "metadata": {},
   "outputs": [
    {
     "data": {
      "text/plain": [
       "9.74435733574644"
      ]
     },
     "execution_count": 119,
     "metadata": {},
     "output_type": "execute_result"
    }
   ],
   "source": [
    "chi2 = sum(((poly(drec)-mean)/std)**2)\n",
    "chi2"
   ]
  },
  {
   "cell_type": "code",
   "execution_count": 102,
   "metadata": {},
   "outputs": [],
   "source": [
    "from scipy.optimize import curve_fit\n",
    "func = lambda x, a, b: a*x+b \n",
    "val, cov = curve_fit(func, drec, mean)"
   ]
  },
  {
   "cell_type": "code",
   "execution_count": 116,
   "metadata": {},
   "outputs": [],
   "source": [
    "#Bestemmer epsilon r ved beregning på hvert forsøg og ophobningsloven\n",
    "m = val[0]\n",
    "m_sig = np.sqrt(cov[0,0])\n",
    "e0 = 8.85e-12\n",
    "A = 0.3**2\n",
    "A_sig = 6e-4\n",
    "V = 46.4\n",
    "V_sig = 0.05\n",
    "er = m / (e0 * A * V)\n",
    "er_sig = np.sqrt((m_sig * 1/(e0 * A* V)) ** 2 + (A_sig * m / (e0 * A ** 2 * V))**2 + (V_sig * m / (e0 * A * V ** 2)))  "
   ]
  },
  {
   "cell_type": "code",
   "execution_count": 117,
   "metadata": {},
   "outputs": [
    {
     "data": {
      "text/plain": [
       "0.7727853285844288"
      ]
     },
     "execution_count": 117,
     "metadata": {},
     "output_type": "execute_result"
    }
   ],
   "source": [
    "er"
   ]
  },
  {
   "cell_type": "code",
   "execution_count": 118,
   "metadata": {},
   "outputs": [
    {
     "data": {
      "text/plain": [
       "0.07884757342809255"
      ]
     },
     "execution_count": 118,
     "metadata": {},
     "output_type": "execute_result"
    }
   ],
   "source": [
    "er_sig"
   ]
  },
  {
   "cell_type": "code",
   "execution_count": 140,
   "metadata": {},
   "outputs": [],
   "source": [
    "#Bestemmer epsilon r på baggrund af en masse data\n",
    "d = np.array([1.0, 0.7, 0.5, 0.2]) * 1e-2\n",
    "A = np.array([0.2 ** 2, 0.3 ** 2])\n",
    "er_30 = Q_30.T * d / A[1] * 1/(V * e0)\n",
    "er_20 = Q_20.T * d / A[0] * 1/(V * e0)\n",
    "\n",
    "er = np.array([er_30, er_20]).reshape((-1))\n",
    "er_mean = np.mean(er)\n",
    "er_std = np.std(er)/np.sqrt(len(er))"
   ]
  },
  {
   "cell_type": "code",
   "execution_count": 141,
   "metadata": {},
   "outputs": [
    {
     "data": {
      "text/plain": [
       "1.238327840552417"
      ]
     },
     "execution_count": 141,
     "metadata": {},
     "output_type": "execute_result"
    }
   ],
   "source": [
    "er_mean"
   ]
  },
  {
   "cell_type": "code",
   "execution_count": 142,
   "metadata": {},
   "outputs": [
    {
     "data": {
      "text/plain": [
       "0.05217344319511264"
      ]
     },
     "execution_count": 142,
     "metadata": {},
     "output_type": "execute_result"
    }
   ],
   "source": [
    "er_std"
   ]
  },
  {
   "cell_type": "code",
   "execution_count": 150,
   "metadata": {},
   "outputs": [
    {
     "data": {
      "text/plain": [
       "array([2.70580341, 3.24696409, 2.97638375, 3.24696409, 3.24696409,\n",
       "       3.51754443, 3.78812477, 3.78812477, 3.51754443, 4.05870511,\n",
       "       4.87044613, 4.26164037, 4.87044613, 3.6528346 , 4.87044613,\n",
       "       4.26164037, 4.87044613, 3.6528346 , 4.26164037, 5.4792519 ])"
      ]
     },
     "execution_count": 150,
     "metadata": {},
     "output_type": "execute_result"
    }
   ],
   "source": [
    "Q_A = np.array([Q_PVC_30 / 0.3 **2, Q_PVC_20 / 0.2 ** 2])\n",
    "er_PVC = Q_A * 1e-2/e0/V\n",
    "er_PVC.reshape(-1)"
   ]
  },
  {
   "cell_type": "code",
   "execution_count": 156,
   "metadata": {},
   "outputs": [],
   "source": [
    "er_PVC_mean = np.mean(er_PVC)\n",
    "er_PVC_std = np.std(er_PVC) / np.sqrt(len(er_PVC))"
   ]
  },
  {
   "cell_type": "code",
   "execution_count": 157,
   "metadata": {},
   "outputs": [
    {
     "data": {
      "text/plain": [
       "3.9572374829534382"
      ]
     },
     "execution_count": 157,
     "metadata": {},
     "output_type": "execute_result"
    }
   ],
   "source": [
    "er_PVC_mean"
   ]
  },
  {
   "cell_type": "code",
   "execution_count": 158,
   "metadata": {},
   "outputs": [
    {
     "data": {
      "text/plain": [
       "0.515058580545512"
      ]
     },
     "execution_count": 158,
     "metadata": {},
     "output_type": "execute_result"
    }
   ],
   "source": [
    "er_PVC_std"
   ]
  }
 ],
 "metadata": {
  "kernelspec": {
   "display_name": "Python 3",
   "language": "python",
   "name": "python3"
  },
  "language_info": {
   "codemirror_mode": {
    "name": "ipython",
    "version": 3
   },
   "file_extension": ".py",
   "mimetype": "text/x-python",
   "name": "python",
   "nbconvert_exporter": "python",
   "pygments_lexer": "ipython3",
   "version": "3.6.5"
  }
 },
 "nbformat": 4,
 "nbformat_minor": 2
}
