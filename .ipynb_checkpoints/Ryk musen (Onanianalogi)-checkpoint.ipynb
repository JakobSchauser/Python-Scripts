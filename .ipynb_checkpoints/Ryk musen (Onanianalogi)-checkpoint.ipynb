{
 "cells": [
  {
   "cell_type": "code",
   "execution_count": null,
   "id": "lovely-bhutan",
   "metadata": {
    "ExecuteTime": {
     "start_time": "2021-04-12T14:58:01.155Z"
    }
   },
   "outputs": [],
   "source": [
    "import win32api, time, random\n",
    "\n",
    "SIZE = 50\n",
    "CENTER = (win32api.GetSystemMetrics(0)//2,win32api.GetSystemMetrics(1)//2)\n",
    "\n",
    "def move(x,y):\n",
    "    win32api.SetCursorPos((x,y))\n",
    "    \n",
    "\n",
    "while True:\n",
    "    move(random.randint(CENTER[0]-SIZE,CENTER[0]+SIZE),random.randint(CENTER[1]-SIZE,CENTER[1]+SIZE))\n",
    "    time.sleep(0.5)\n"
   ]
  },
  {
   "cell_type": "code",
   "execution_count": null,
   "id": "atlantic-thinking",
   "metadata": {},
   "outputs": [],
   "source": []
  }
 ],
 "metadata": {
  "hide_input": false,
  "kernelspec": {
   "display_name": "Python 3",
   "language": "python",
   "name": "python3"
  },
  "language_info": {
   "codemirror_mode": {
    "name": "ipython",
    "version": 3
   },
   "file_extension": ".py",
   "mimetype": "text/x-python",
   "name": "python",
   "nbconvert_exporter": "python",
   "pygments_lexer": "ipython3",
   "version": "3.6.12"
  },
  "toc": {
   "base_numbering": 1,
   "nav_menu": {},
   "number_sections": true,
   "sideBar": true,
   "skip_h1_title": false,
   "title_cell": "Table of Contents",
   "title_sidebar": "Contents",
   "toc_cell": false,
   "toc_position": {},
   "toc_section_display": true,
   "toc_window_display": false
  }
 },
 "nbformat": 4,
 "nbformat_minor": 5
}
