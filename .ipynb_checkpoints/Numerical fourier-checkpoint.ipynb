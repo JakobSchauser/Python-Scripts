{
 "cells": [
  {
   "cell_type": "code",
   "execution_count": 78,
   "metadata": {},
   "outputs": [],
   "source": [
    "import numpy as np\n",
    "def integrate(f,a,b):\n",
    "    xx = a\n",
    "    dx = (b-a)/10e5\n",
    "    w = 0\n",
    "    summ = 0  \n",
    "    while(xx < b):\n",
    "        summ += f(xx)\n",
    "        w += 1\n",
    "        xx += dx\n",
    "    return summ/w\n",
    "\n",
    "def fourier(f,a,b,d):\n",
    "    sc = []\n",
    "    cc = []\n",
    "    l = b-a\n",
    "    for i in range(d):\n",
    "        fs = lambda x: f*np.sin(d*x*np.pi/l)\n",
    "        fc = lambda x: f*np.cos(d*x*np.pi/l)\n",
    "        coeff.append(1/l*integrate(fs,a,b))\n",
    "        coeff.append(1/l*integrate(fc,a,b))\n",
    "    lambda x: coeff[0]*np.cos(0*x*np.pi/l) + coeff[1]*np.sin(0*x*np.pi/l)\n",
    "    return "
   ]
  },
  {
   "cell_type": "code",
   "execution_count": 79,
   "metadata": {},
   "outputs": [
    {
     "data": {
      "text/plain": [
       "3.14159"
      ]
     },
     "execution_count": 79,
     "metadata": {},
     "output_type": "execute_result"
    }
   ],
   "source": [
    "f = lambda x: 4*(1-x**2)**0.5\n",
    "\n",
    "integrate(f,0,1)"
   ]
  },
  {
   "cell_type": "code",
   "execution_count": null,
   "metadata": {},
   "outputs": [],
   "source": []
  }
 ],
 "metadata": {
  "kernelspec": {
   "display_name": "Python 3",
   "language": "python",
   "name": "python3"
  },
  "language_info": {
   "codemirror_mode": {
    "name": "ipython",
    "version": 3
   },
   "file_extension": ".py",
   "mimetype": "text/x-python",
   "name": "python",
   "nbconvert_exporter": "python",
   "pygments_lexer": "ipython3",
   "version": "3.6.5"
  }
 },
 "nbformat": 4,
 "nbformat_minor": 2
}
