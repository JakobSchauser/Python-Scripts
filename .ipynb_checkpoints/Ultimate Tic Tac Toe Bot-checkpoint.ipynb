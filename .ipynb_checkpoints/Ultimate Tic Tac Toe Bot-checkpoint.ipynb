{
 "cells": [
  {
   "cell_type": "code",
   "execution_count": 1,
   "id": "caring-experience",
   "metadata": {
    "ExecuteTime": {
     "end_time": "2021-07-17T16:05:30.808352Z",
     "start_time": "2021-07-17T16:05:30.424271Z"
    }
   },
   "outputs": [],
   "source": [
    "import numpy as np"
   ]
  },
  {
   "cell_type": "code",
   "execution_count": 4,
   "id": "lined-professor",
   "metadata": {
    "ExecuteTime": {
     "end_time": "2021-07-17T16:17:48.411222Z",
     "start_time": "2021-07-17T16:17:48.406235Z"
    }
   },
   "outputs": [],
   "source": [
    "smallboards = np.zeros((9,3,3))\n",
    "bigboard = np.zeros((3,3))\n",
    "\n",
    "maxdepth = 3\n",
    "\n",
    "\n",
    "def checkwin(board):\n",
    "    if(3 in np.sum(board,axis = 0) or 3 in np.sum(board,axis = 1)):\n",
    "        return True\n",
    "    \n",
    "    if board[1,1]:\n",
    "        if board[0,0] and board[2,2]:\n",
    "            return True\n",
    "        if board[0,2] and board[2,0]:\n",
    "            return True\n",
    "    \n",
    "    return False\n",
    "\n",
    "\n",
    "def checkwinner(board):\n",
    "    for i in range(1,3):\n",
    "        if checkwin(board == i):\n",
    "            return i\n",
    "    return 0\n",
    "    \n",
    "    \n",
    "    \n",
    "for _ in range(board.count(0)):\n",
    "    minimax\n",
    "    \n",
    "def minimax(score, depth):\n",
    "    if depth > maxdepth:\n",
    "        return score\n",
    "    \n",
    "    for _ in range(board.count(0)):\n",
    "        minimax(board)\n",
    "    \n",
    "    \n",
    "    win = checkwinner(board)\n",
    "    if win == 0:\n",
    "        minimax(board)\n",
    "    elif win == player:\n",
    "        score += 10\n",
    "    else:\n",
    "        score -= 10\n",
    "\n"
   ]
  },
  {
   "cell_type": "code",
   "execution_count": 6,
   "id": "hollow-safety",
   "metadata": {
    "ExecuteTime": {
     "end_time": "2021-07-17T16:29:49.561988Z",
     "start_time": "2021-07-17T16:29:49.555015Z"
    }
   },
   "outputs": [
    {
     "name": "stdout",
     "output_type": "stream",
     "text": [
      "1\n",
      "2\n"
     ]
    }
   ],
   "source": []
  }
 ],
 "metadata": {
  "hide_input": false,
  "kernelspec": {
   "display_name": "Python 3",
   "language": "python",
   "name": "python3"
  },
  "language_info": {
   "codemirror_mode": {
    "name": "ipython",
    "version": 3
   },
   "file_extension": ".py",
   "mimetype": "text/x-python",
   "name": "python",
   "nbconvert_exporter": "python",
   "pygments_lexer": "ipython3",
   "version": "3.6.12"
  },
  "toc": {
   "base_numbering": 1,
   "nav_menu": {},
   "number_sections": true,
   "sideBar": true,
   "skip_h1_title": false,
   "title_cell": "Table of Contents",
   "title_sidebar": "Contents",
   "toc_cell": false,
   "toc_position": {},
   "toc_section_display": true,
   "toc_window_display": false
  }
 },
 "nbformat": 4,
 "nbformat_minor": 5
}
