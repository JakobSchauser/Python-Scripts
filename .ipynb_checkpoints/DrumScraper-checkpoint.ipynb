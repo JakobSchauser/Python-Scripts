{
 "cells": [
  {
   "cell_type": "code",
   "execution_count": 135,
   "metadata": {
    "ExecuteTime": {
     "end_time": "2021-01-13T10:57:27.250956Z",
     "start_time": "2021-01-13T10:57:27.246967Z"
    }
   },
   "outputs": [],
   "source": [
    "from xml.dom import minidom\n",
    "import webbrowser\n",
    "from time import sleep"
   ]
  },
  {
   "cell_type": "code",
   "execution_count": 136,
   "metadata": {
    "ExecuteTime": {
     "end_time": "2021-01-13T10:57:59.547041Z",
     "start_time": "2021-01-13T10:57:27.745993Z"
    }
   },
   "outputs": [],
   "source": [
    "elements = minidom.parse(open(\"drum_sitemap.xml\")).getElementsByTagName(\"loc\")\n",
    "\n",
    "locs = []\n",
    "for e in elements:\n",
    "    locs.append(e.childNodes[0].data+\"?orderby=price\")\n",
    "\n",
    "for l in locs:\n",
    "    page = webbrowser.open(l)\n",
    "    sleep(0.3)\n",
    "#     break"
   ]
  },
  {
   "cell_type": "code",
   "execution_count": null,
   "metadata": {},
   "outputs": [],
   "source": []
  }
 ],
 "metadata": {
  "hide_input": false,
  "kernelspec": {
   "display_name": "Python 3",
   "language": "python",
   "name": "python3"
  },
  "language_info": {
   "codemirror_mode": {
    "name": "ipython",
    "version": 3
   },
   "file_extension": ".py",
   "mimetype": "text/x-python",
   "name": "python",
   "nbconvert_exporter": "python",
   "pygments_lexer": "ipython3",
   "version": "3.6.10"
  },
  "toc": {
   "base_numbering": 1,
   "nav_menu": {},
   "number_sections": true,
   "sideBar": true,
   "skip_h1_title": false,
   "title_cell": "Table of Contents",
   "title_sidebar": "Contents",
   "toc_cell": false,
   "toc_position": {},
   "toc_section_display": true,
   "toc_window_display": false
  }
 },
 "nbformat": 4,
 "nbformat_minor": 4
}
