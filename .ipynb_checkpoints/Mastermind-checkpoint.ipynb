{
 "cells": [
  {
   "cell_type": "code",
   "execution_count": 4,
   "id": "early-arrival",
   "metadata": {
    "ExecuteTime": {
     "end_time": "2021-04-17T09:51:38.869322Z",
     "start_time": "2021-04-17T09:51:38.864371Z"
    }
   },
   "outputs": [],
   "source": [
    "import numpy as np\n",
    "\n",
    "N = 7\n",
    "\n",
    "\n",
    "poss = np.array([np.array([i for i in range(N)]) for x in range(4)])\n",
    "\n",
    "possibles = [[],[],[],[]]\n",
    "\n",
    "cols = [(1,1,5,4),(1,3,5,3)]\n",
    "feeds = [(0,0),(0,1)]\n",
    "\n",
    "# feedback 0 = correct\n",
    "# feedback 1 = almost correct\n",
    "\n",
    "for feed in feeds:\n",
    "    for col on cols:\n",
    "        if feed == 0:\n",
    "            pass\n",
    "        \n",
    "        \n",
    "\n"
   ]
  }
 ],
 "metadata": {
  "hide_input": false,
  "kernelspec": {
   "display_name": "Python 3",
   "language": "python",
   "name": "python3"
  },
  "language_info": {
   "codemirror_mode": {
    "name": "ipython",
    "version": 3
   },
   "file_extension": ".py",
   "mimetype": "text/x-python",
   "name": "python",
   "nbconvert_exporter": "python",
   "pygments_lexer": "ipython3",
   "version": "3.6.12"
  },
  "toc": {
   "base_numbering": 1,
   "nav_menu": {},
   "number_sections": true,
   "sideBar": true,
   "skip_h1_title": false,
   "title_cell": "Table of Contents",
   "title_sidebar": "Contents",
   "toc_cell": false,
   "toc_position": {},
   "toc_section_display": true,
   "toc_window_display": false
  }
 },
 "nbformat": 4,
 "nbformat_minor": 5
}
