{
 "cells": [
  {
   "cell_type": "code",
   "execution_count": 7,
   "metadata": {
    "ExecuteTime": {
     "end_time": "2020-05-03T16:15:05.016048Z",
     "start_time": "2020-05-03T16:15:04.973194Z"
    }
   },
   "outputs": [],
   "source": [
    "ciph1= [(1,2),(4,2),(3,4),(4,4),(2,3),(1,5),(4,2),(0,0),(5,2),(1,5),(0,0),(3,2),(1,1),(4,2),(1,3),(2,3),(0,0),(2,1),(4,2),(3,4),(3,2),(0,0),(1,4),(2,4),(4,3),(1,3),(1,1),(4,2),(1,4),(2,4),(1,1),(9,9),(4,3),(1,1),(5,4),(0,0),(2,3),(1,1),(3,2),(3,2),(3,4),(3,3),(0,0),(2,1),(3,3),(4,2),(0,0),(1,5),(3,3),(4,4),(4,2),(5,4)]\n",
    "ciph2 = [(1,2),(4,2),(4,3),(4,4),(2,3),(1,5),(4,2),(0,0),(5,2),(1,5),(0,0),(1,1),(4,0),(1,5),(0,0),(1,1),(1,3),(3,2),(3,4),(4,3),(4,4),(0,0),(4,2),(1,5),(1,1),(1,4),(5,4),(9,9),(4,0),(2,3),(1,5),(0,0),(1,1),(4,2),(1,3),(2,3),(2,4),(5,1),(1,5)]\n",
    "ciph3 = [(0,0),(4,1),(2,4),(1,5),(4,4),(5,2),(3,4),(0,0),(1,4),(1,1),(5,4),(4,3),(0,0),(3,3),(3,4),(4,2),(4,4),(2,3),(0,0),(3,4),(2,1),(0,0),(5,1),(2,4),(4,2),(3,5),(2,4),(0,0),(3,5),(1,1),(4,3),(4,3),(9,9),(4,3),(3,4),(3,4),(3,3),(0,0),(5,2),(1,5),(0,0),(4,2),(1,5),(5,1),(2,4),(5,1),(1,5),(0,0)]\n",
    "ciph4 = [(4,3),(3,4),(3,2),(1,5),(0,0),(3,2),(3,4),(4,2),(1,5),(0,0),(1,3),(3,4),(3,5),(2,4),(1,5),(4,3),(0,0),(2,1),(3,4),(4,2),(0,0),(4,4),(2,3),(1,5),(0,0),(1,2),(4,2),(3,4),(4,4),(2,3),(1,5),(4,2),(2,3),(3,4),(3,4),(1,4)]\n",
    "ciph5 = [12,42,34,44,23,15,42,43,00,52,15,00,23,11,51,15,00,12,15,15,33,00,21,34,45,33,14,00,34,45,44,99,52,15,00,32,34,51,15,00,23,34,42,00,44,23,15,00,11,42,13,23,24,51,15,43,00,33,34,52,99,44,23,15,54,00,11,42,15,00,34,33,00,34,45,42,00,44,11,24,31,99]\n",
    "\n",
    "\n",
    "newones1 = [24,00,43,11,52,00,11,00,32,24,22,23,44,54,00,35,11,22,11,33,00,13,24,33,22,99,23,24,43,00,42,15,11,31,32,00,43,44,42,15,44,13,23,15,15,00,11,31,31,00,34,51,15,52,00,34,22,24,11,53,00,11,33,14,00,23,24,43,00,11,42,32,24,15,43,00,13,11,44,44,31,15,14,00,22,34,14,43,99,44,23,15,43,15,12,42,11,51,15,00,33,34,42,44,23,32,15,33,00,31,24,51,15,14,00,12,54,00,11,33,00,24,33,33,11,44,15,00,44,33,14,15,42,42,43,44,11,33,14,24,33,22,00,34,21,00,12,11,11,31,43,00,13,23,11,42,44,15,42,99]\n",
    "newones2 = [44,23,15,43,15,0,43,44,34,33,15,43,0,32,45,43,44,0,12,15,0,44,23,15,0,35,24,33,33,11,13,31,31,15,0,34,21,0,44,23,15,24,42,0,43,13,24,31,31,99,44,23,15,54,0,13,34,33,44,11,24,33,0,35,34,52,15,42,21,45,31,31,0,13,42,11,21,44,43,00,52,23,34,43,15,00,31,24,13,15,00,24,00,23,11,51,15,00,33,15,51,15,52,00,24,33,00,11,31,31,00,32,54,00,42,15,43,15,11,42,13,23,00,43,15,15,33,99,44,23,15,43,15,00,32,34,45,33,44,11,23,33,43,00,11,42,15,00,21,24,31,31,15,14,99]\n",
    "\n",
    "seb = [12,42,34,23,15,43,99,52,15,00,11,42,15,00,11,\n",
    " 44,00,34,44,42,00,54,15,33,24,44,23,99,\n",
    " 43,13,42,11,35,00,42,23,11,44,00,\n",
    " 54,34,45,00,13,11,33,00,11,33,14,00,12,31,34,52,00,\n",
    " 44,23,15,00,42,15,43,44,99,44,23,15,00,44,42,24,44,32,51,24,42,11,44,15,00,\n",
    " 24,43,00,34,33,00,24,44,43,00,52,11,54,00,\n",
    " 45,34,45,44,23,99,52,15,00,52,24,31,41,00,\n",
    " 32,15,15,44,00,44,23,15,32,00,24,33,00,44,23,15,00,13,24,44,54,00,\n",
    " 34,21,00,44,23,15,00,11,31,24,15,33,99,\n",
    " 34,45,42,00,43,11,24,31,34,42,00,24,23,00,\n",
    " 44,23,45,31,15,00,24,43,00,\n",
    " 55,11,42,24,13,99,11,00,13,34,32,35,11,33,54,00,34,21,00,77,77,77,00,32,15,33,00,52,24,\n",
    " 31,31,00,11,52,11,24,44,00,24,33,77,11,31,11,42,11,00,\n",
    " 44,34,00,43,45,35,35,34,42,44,00,34,45,32,00,\n",
    " 25,34,23,42,33,15,54,00,44,34,00,444,23,15,00,\n",
    " 43,35,24,42,15,99,12,11,11,31,00,12,31,15,33,53,99]\n",
    "\n",
    "def clean(dirty):\n",
    "    empty = []\n",
    "    for c in dirty:\n",
    "        if(c!=0):\n",
    "            empty.append((int(str(c)[0]),int(str(c)[1])))\n",
    "        else:\n",
    "            empty.append((0,0))\n",
    "    return empty\n",
    "\n",
    "ciph5c = clean(ciph5)\n",
    "newones1c = clean(newones1)\n",
    "newones2c = clean(newones2)\n",
    "sebc = clean(seb)\n",
    "\n",
    "ciph = ciph1+[(8,8)]+ciph2+[(8,8)]+ciph3+[(8,8)]+ciph4+[(8,8)]+ciph5c+[(8,8)]+newones1c+[(8,8)]+ newones2c + [(8,8)] + sebc "
   ]
  },
  {
   "cell_type": "code",
   "execution_count": 8,
   "metadata": {
    "ExecuteTime": {
     "end_time": "2020-05-03T16:15:10.977223Z",
     "start_time": "2020-05-03T16:15:10.953019Z"
    }
   },
   "outputs": [
    {
     "data": {
      "text/plain": [
       "{'24': 1,\n",
       " '9': 1,\n",
       " '15': 2,\n",
       " '22': 2,\n",
       " '36': 4,\n",
       " '6': 6,\n",
       " '42': 7,\n",
       " '5': 12,\n",
       " '1': 13,\n",
       " '14': 13,\n",
       " '20': 13,\n",
       " '19': 13,\n",
       " '3': 14,\n",
       " '23': 15,\n",
       " '21': 19,\n",
       " '48': 20,\n",
       " '11': 21,\n",
       " '2': 21,\n",
       " '10': 28,\n",
       " '17': 41,\n",
       " '12': 41,\n",
       " '7': 45,\n",
       " '8': 45,\n",
       " '13': 51,\n",
       " '16': 54,\n",
       " '18': 57,\n",
       " '0': 60,\n",
       " '4': 87,\n",
       " '-6': 134}"
      ]
     },
     "execution_count": 8,
     "metadata": {},
     "output_type": "execute_result"
    }
   ],
   "source": [
    "import matplotlib.pyplot as plt\n",
    "mul = [5*(c[0]-1)+c[1]-1 for c in ciph]\n",
    "counts = {}\n",
    "for m in mul:\n",
    "    counts[str(m)]=mul.count(m)\n",
    "{k: v for k, v in sorted(counts.items(), key=lambda item: item[1])}\n"
   ]
  },
  {
   "cell_type": "code",
   "execution_count": 12,
   "metadata": {
    "ExecuteTime": {
     "end_time": "2020-05-03T16:16:58.713543Z",
     "start_time": "2020-05-03T16:16:58.687830Z"
    }
   },
   "outputs": [
    {
     "name": "stdout",
     "output_type": "stream",
     "text": [
      "beoxxxe wx maecx teom discaedia. say xammoh the xhxey\n",
      "besxxxe wx apx acmosx exady. pxx aecxivx\n",
      " xixxwo days hoexx ot viepi pass. sooh wx exvivx \n",
      "somx moex copixs toe xxx beoxxxexood\n",
      "beoxxxes wx xavx bxxh touhd oux. wx movx xoe xxx aecxivxs how. xxxy aex oh oue xail. \n",
      "i saw a migxxy pagah cihg. xis exalm sxexxcxxx all ovxw ogiax ahd xis aemixs caxxlxd gods. xxxsxbeavx hoexxmxh livxd by ah ihhaxx xhdxeesxahdihg ot baals cxaexxe. \n",
      "xxxsx sxohxs musx bx xxx pihhacllx ot xxxie scill. xxxy cohxaih powxetull ceatxs wxosx licx i xavx hxvxw ih all my exsxaecx sxxh. xxxsx mouhxaxhs aex tillxd. \n",
      "beoxxs. wx aex ax oxe yxhixx. sceap exax you cah ahd blow xxx exsx. xxx xeixmvieaxx is oh ixs way uouxx. wx wilx mxxx xxxm ih xxx cixy ot xxx alixh. oue sailoe ix xxulx is xaeic. a compahy ot xxx mxh will awaix ihxalaea xo suppoex oum xoxehxy xo xxx spiex. baal blxhx.  \n",
      "\n",
      "broxher we march from discardia. say hammon fnr enxry\n",
      "brsxher we ate acmosx ready. the archive\n",
      " xiexwo days norxh of virti tass. soon we revive \n",
      "some more coties for xhe broxherhood\n",
      "broxhers we have been found oux. we move hor xhe archives now. xhey are on our xail. \n",
      "i saw a mighxy tagan cing. his realm sxrexchee all ovew ogiax and his armies caxxled gods. xhesebrave norxhmen lived by an innaxe xnderrsxanding of baals charxer. \n",
      "xhese sxones musx be xhe tinnaclle of xheir scill. xhey conxain towerfull crafxs whose lice i have nevew in all my research seen. xhese mounxahns are filled. \n",
      "brohes. we are ax oxr yenixh. scrat rhax you can and blow xhe resx. xhe xrixmviraxe is on ixs way uouxh. we wilx meex xhem in xhe cixy of xhe alien. our sailor ih xhule is xaric. a comtany of xxx men will awaix inxalara xo suttorx oum xohrney xo xhe stire. baal blenx.  \n",
      "\n",
      "brother we march from discardia. say hammon fnr entry\n",
      "brsther we ape acmost ready. phe archive\n",
      " xietwo days north of virpi pass. soon we revive \n",
      "some more copies for the brotherhood\n",
      "brothers we have been found out. we move hor the archives now. they are on our tail. \n",
      "i saw a mighty pagan cing. his realm stretchee all ovew ogiax and his armies cattled gods. thesebrave northmen lived by an innate tnderrstanding of baals charter. \n",
      "these stones must be the pinnaclle of their scill. they contain powerfull crafts whose lice i have nevew in all my research seen. these mountahns are filled. \n",
      "brohes. we are at otr yenith. scrap rhat you can and blow the rest. the tritmvirate is on its way uouth. we wilx meet them in the city of the alien. our sailor ih thule is xaric. a company of xxx men will await inxalara to support oum xohrney to the spire. baal blenx.  \n",
      "\n"
     ]
    }
   ],
   "source": [
    "\n",
    "\n",
    "threeletter = [(5,12,16),(14,7,4),(18,7,4)]\n",
    "for w in threeletter:\n",
    "    s = \"\"\n",
    "    dic = {\n",
    "        48:'. ',\n",
    "        42:\"\\n\",\n",
    "        -6:\" \",\n",
    "        23:\"y\",\n",
    "        0:\"a\",\n",
    "        16:\"r\",\n",
    "        3:\"d\",\n",
    "        12:\"n\",\n",
    "        17:\"s\",\n",
    "        13:'o',\n",
    "        2:\"c\",\n",
    "        11:\"m\",\n",
    "        1:\"b\",\n",
    "        21:\"w\",\n",
    "        5:\"f\",\n",
    "        6:\"g\",\n",
    "        14:\"p\",\n",
    "        19:\"u\",\n",
    "        8: \"i\",\n",
    "        10: \"l\",\n",
    "        20:'v'\n",
    "    }\n",
    "    the = \"the\"\n",
    "    for i,l in enumerate(w):\n",
    "        dic[l]=the[i]\n",
    "\n",
    "    for m in mul:\n",
    "        l = \"x\"\n",
    "        for d in dic:\n",
    "            if(m == d):\n",
    "                l=dic[d]\n",
    "        s+=l\n",
    "\n",
    "    print(s,\"\\n\")\n",
    "    #print([(mul[n],s[n]) for n in range(len(s))])\n"
   ]
  },
  {
   "cell_type": "code",
   "execution_count": 65,
   "metadata": {
    "ExecuteTime": {
     "end_time": "2020-03-05T14:46:21.211568Z",
     "start_time": "2020-03-05T14:46:21.206093Z"
    }
   },
   "outputs": [
    {
     "data": {
      "text/plain": [
       "14"
      ]
     },
     "execution_count": 65,
     "metadata": {},
     "output_type": "execute_result"
    }
   ],
   "source": []
  },
  {
   "cell_type": "code",
   "execution_count": 7,
   "metadata": {
    "ExecuteTime": {
     "end_time": "2020-04-28T14:08:47.148187Z",
     "start_time": "2020-04-28T14:08:47.141680Z"
    }
   },
   "outputs": [
    {
     "ename": "SyntaxError",
     "evalue": "unexpected EOF while parsing (<ipython-input-7-f5b0a32737b8>, line 5)",
     "output_type": "error",
     "traceback": [
      "\u001b[1;36m  File \u001b[1;32m\"<ipython-input-7-f5b0a32737b8>\"\u001b[1;36m, line \u001b[1;32m5\u001b[0m\n\u001b[1;33m    \u001b[0m\n\u001b[1;37m    ^\u001b[0m\n\u001b[1;31mSyntaxError\u001b[0m\u001b[1;31m:\u001b[0m unexpected EOF while parsing\n"
     ]
    }
   ],
   "source": [
    "working = []\n",
    "threeletter = [(0,14,4),(17,0,23),(5,12,16),(14,7,4),(5,13,6),(18,7,4)]\n",
    "for w in threeletter:\n",
    "    for l in w:\n",
    "        \n"
   ]
  },
  {
   "cell_type": "code",
   "execution_count": null,
   "metadata": {},
   "outputs": [],
   "source": []
  }
 ],
 "metadata": {
  "hide_input": false,
  "kernelspec": {
   "display_name": "Python 3",
   "language": "python",
   "name": "python3"
  },
  "language_info": {
   "codemirror_mode": {
    "name": "ipython",
    "version": 3
   },
   "file_extension": ".py",
   "mimetype": "text/x-python",
   "name": "python",
   "nbconvert_exporter": "python",
   "pygments_lexer": "ipython3",
   "version": "3.6.5"
  }
 },
 "nbformat": 4,
 "nbformat_minor": 2
}
