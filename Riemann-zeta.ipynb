{
 "cells": [
  {
   "cell_type": "code",
   "execution_count": 8,
   "metadata": {
    "ExecuteTime": {
     "end_time": "2020-09-01T08:36:58.335372Z",
     "start_time": "2020-09-01T08:36:57.618792Z"
    }
   },
   "outputs": [
    {
     "data": {
      "text/plain": [
       "<matplotlib.image.AxesImage at 0x20a17fc71d0>"
      ]
     },
     "execution_count": 8,
     "metadata": {},
     "output_type": "execute_result"
    },
    {
     "data": {
      "image/png": "[encoded data removed]",
      "text/plain": [
       "<Figure size 432x288 with 1 Axes>"
      ]
     },
     "metadata": {},
     "output_type": "display_data"
    }
   ],
   "source": [
    "import numpy as np\n",
    "import matplotlib.pyplot as plt\n",
    "from numba import jit\n",
    "\n",
    "@jit\n",
    "def rz(s,n):\n",
    "    summed = 0\n",
    "    for i in range(1,n):\n",
    "        summed += 1/(i**s)\n",
    "    return summed\n",
    "\n",
    "@jit\n",
    "def sim(points,size,n=100):\n",
    "    world = np.empty((points,points)).astype(np.complex64)\n",
    "    for x in range(points):\n",
    "        for y in range(points):\n",
    "            xx,yy = (x-points/2)/points*size,(y-points/2)/points*size\n",
    "            world[x,y] = rz(xx+y*1j,n)\n",
    "    return world\n",
    "\n",
    "simm = abs(sim(100,1,100))\n",
    "plt.imshow(simm)"
   ]
  }
 ],
 "metadata": {
  "hide_input": false,
  "kernelspec": {
   "display_name": "Python 3",
   "language": "python",
   "name": "python3"
  },
  "language_info": {
   "codemirror_mode": {
    "name": "ipython",
    "version": 3
   },
   "file_extension": ".py",
   "mimetype": "text/x-python",
   "name": "python",
   "nbconvert_exporter": "python",
   "pygments_lexer": "ipython3",
   "version": "3.6.5"
  },
  "toc": {
   "base_numbering": 1,
   "nav_menu": {},
   "number_sections": true,
   "sideBar": true,
   "skip_h1_title": false,
   "title_cell": "Table of Contents",
   "title_sidebar": "Contents",
   "toc_cell": false,
   "toc_position": {},
   "toc_section_display": true,
   "toc_window_display": false
  }
 },
 "nbformat": 4,
 "nbformat_minor": 2
}
