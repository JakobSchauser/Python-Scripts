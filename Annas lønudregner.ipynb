{
 "cells": [
  {
   "cell_type": "code",
   "execution_count": null,
   "metadata": {
    "ExecuteTime": {
     "start_time": "2020-08-30T12:26:10.154Z"
    }
   },
   "outputs": [],
   "source": [
    "import numpy as np\n",
    "\n",
    "def form(s):\n",
    "    return s[:2]+str(int(s[2:])/6*10)\n",
    "def get_hours():\n",
    "    while True:\n",
    "        print(\"Input hours: \")\n",
    "        s = form(input(\"Start: \").zfill(4))\n",
    "        e = form(input(\"End: \").zfill(4))\n",
    "        p = form(input(\"Break: \").zfill(4))\n",
    "        print(s)\n",
    "        try:\n",
    "            s_int = int(s)\n",
    "            e_int = int(e)\n",
    "            p_int = int(p)\n",
    "            return [s_int,e_int,p_int]\n",
    "        except ValueError:\n",
    "            print(\"Hours incorrectly formatted. Correct formatting is for example: '1630'.\")\n",
    "\n",
    "print(\"Welcome to Annas hour-managing program.\")\n",
    "while True:\n",
    "    hs = get_hours()\n",
    "    tot = hs[1]-hs[0]-hs[2]\n",
    "    print(\"total = \" + str(tot)+\"\\n\")\n",
    "    \n",
    "\n",
    "            \n",
    "    \n",
    "        "
   ]
  }
 ],
 "metadata": {
  "hide_input": false,
  "kernelspec": {
   "display_name": "Python 3",
   "language": "python",
   "name": "python3"
  },
  "language_info": {
   "codemirror_mode": {
    "name": "ipython",
    "version": 3
   },
   "file_extension": ".py",
   "mimetype": "text/x-python",
   "name": "python",
   "nbconvert_exporter": "python",
   "pygments_lexer": "ipython3",
   "version": "3.6.5"
  },
  "toc": {
   "base_numbering": 1,
   "nav_menu": {},
   "number_sections": true,
   "sideBar": true,
   "skip_h1_title": false,
   "title_cell": "Table of Contents",
   "title_sidebar": "Contents",
   "toc_cell": false,
   "toc_position": {},
   "toc_section_display": true,
   "toc_window_display": false
  }
 },
 "nbformat": 4,
 "nbformat_minor": 2
}
