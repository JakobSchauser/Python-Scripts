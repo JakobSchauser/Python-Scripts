{
 "cells": [
  {
   "cell_type": "code",
   "execution_count": null,
   "id": "painful-palestinian",
   "metadata": {
    "ExecuteTime": {
     "start_time": "2021-04-08T19:01:09.113Z"
    }
   },
   "outputs": [
    {
     "data": {
      "application/vnd.jupyter.widget-view+json": {
       "model_id": "9c7bfff38197413a956e7c2f45fa8046",
       "version_major": 2,
       "version_minor": 0
      },
      "text/plain": [
       "  0%|          | 0/10000 [00:00<?, ?it/s]"
      ]
     },
     "metadata": {},
     "output_type": "display_data"
    },
    {
     "name": "stdout",
     "output_type": "stream",
     "text": [
      "Too fast at 64\n",
      "Too fast at 82\n",
      "Too fast at 153\n",
      "Too fast at 180\n",
      "Too fast at 218\n",
      "Too fast at 220\n",
      "Too fast at 223\n",
      "Too fast at 247\n",
      "Too fast at 265\n",
      "Too fast at 267\n",
      "Too fast at 275\n",
      "Too fast at 297\n",
      "Too fast at 299\n",
      "Too fast at 314\n",
      "Too fast at 341\n",
      "Too fast at 343\n",
      "Too fast at 381\n",
      "Too fast at 427\n",
      "Too fast at 429\n",
      "Too fast at 492\n",
      "Too fast at 513\n",
      "Too fast at 515\n",
      "Too fast at 523\n",
      "Too fast at 580\n",
      "Too fast at 582\n",
      "Too fast at 592\n",
      "Too fast at 594\n",
      "Too fast at 598\n",
      "Too fast at 676\n",
      "Too fast at 754\n",
      "Too fast at 762\n",
      "Too fast at 765\n",
      "Too fast at 846\n",
      "Too fast at 848\n",
      "Too fast at 875\n",
      "Too fast at 895\n",
      "Too fast at 930\n",
      "Too fast at 995\n",
      "Too fast at 1000\n",
      "Too fast at 1008\n",
      "Too fast at 1020\n",
      "Too fast at 1023\n",
      "Too fast at 1038\n",
      "Too fast at 1042\n",
      "Too fast at 1084\n",
      "Too fast at 1098\n",
      "Too fast at 1140\n",
      "Too fast at 1158\n",
      "Too fast at 1191\n",
      "Too fast at 1230\n",
      "Too fast at 1233\n",
      "Too fast at 1278\n"
     ]
    }
   ],
   "source": [
    "import selenium\n",
    "from selenium import webdriver\n",
    "import time\n",
    "from tqdm.notebook import tqdm\n",
    "driver = webdriver.Chrome()\n",
    "\n",
    "for i in tqdm(range(10000)):\n",
    "    driver.get(\"https://interaktiv.mx.dk/simplevotes/get/11592\")\n",
    "    yes = driver.find_element_by_id(\"vote_yes\")\n",
    "    try: \n",
    "        yes.click()\n",
    "    except:\n",
    "        print(\"Too fast at\",i)\n",
    "    time.sleep(0.2)\n",
    "    driver.delete_all_cookies()\n",
    "    "
   ]
  },
  {
   "cell_type": "code",
   "execution_count": null,
   "id": "automotive-discovery",
   "metadata": {},
   "outputs": [],
   "source": []
  }
 ],
 "metadata": {
  "hide_input": false,
  "kernelspec": {
   "display_name": "Python 3",
   "language": "python",
   "name": "python3"
  },
  "toc": {
   "base_numbering": 1,
   "nav_menu": {},
   "number_sections": true,
   "sideBar": true,
   "skip_h1_title": false,
   "title_cell": "Table of Contents",
   "title_sidebar": "Contents",
   "toc_cell": false,
   "toc_position": {},
   "toc_section_display": true,
   "toc_window_display": false
  }
 },
 "nbformat": 4,
 "nbformat_minor": 5
}
