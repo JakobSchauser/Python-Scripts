{
 "cells": [
  {
   "cell_type": "code",
   "execution_count": 25,
   "metadata": {
    "ExecuteTime": {
     "end_time": "2020-04-01T17:57:15.320016Z",
     "start_time": "2020-04-01T17:57:15.311455Z"
    }
   },
   "outputs": [],
   "source": [
    "import numpy as np\n",
    "\n",
    "dat = np.genfromtxt(\"SudokuEasy50.txt\",dtype=str)\n",
    "\n",
    "puzzles = []\n",
    "for l in dat:\n",
    "    s = np.array(list(l)).astype(int).reshape((9,9))\n",
    "    puzzles.append(s)\n",
    "#Import\n",
    "\n",
    "\n",
    "\n",
    "inverted = np.array([range(1,10) for i in range(9)])"
   ]
  },
  {
   "cell_type": "code",
   "execution_count": 75,
   "metadata": {
    "ExecuteTime": {
     "end_time": "2020-04-01T18:18:42.345145Z",
     "start_time": "2020-04-01T18:18:42.340193Z"
    }
   },
   "outputs": [],
   "source": [
    "p = puzzles[0]\n",
    "\n",
    "inv = [[0 for i in range(9)] for j in range(9)]\n",
    "    \n",
    "for y in range(9):\n",
    "    for x in range(9):\n",
    "        f = [item for item in range(1,10) if item != p[x][y]]\n",
    "        inv[x][y] = np.array(f)\n",
    "inv = np.array(inv)\n",
    "\n",
    "for l in p:\n",
    "    "
   ]
  }
 ],
 "metadata": {
  "hide_input": false,
  "kernelspec": {
   "display_name": "Python 3",
   "language": "python",
   "name": "python3"
  },
  "language_info": {
   "codemirror_mode": {
    "name": "ipython",
    "version": 3
   },
   "file_extension": ".py",
   "mimetype": "text/x-python",
   "name": "python",
   "nbconvert_exporter": "python",
   "pygments_lexer": "ipython3",
   "version": "3.6.5"
  }
 },
 "nbformat": 4,
 "nbformat_minor": 2
}
