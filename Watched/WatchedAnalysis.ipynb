{
 "cells": [
  {
   "cell_type": "code",
   "execution_count": 1,
   "metadata": {},
   "outputs": [],
   "source": [
    "import numpy as np\n",
    "import pandas as pd\n",
    "import matplotlib.pyplot as plt\n",
    "from imdb import Cinemagoer"
   ]
  },
  {
   "cell_type": "code",
   "execution_count": 193,
   "metadata": {},
   "outputs": [
    {
     "name": "stderr",
     "output_type": "stream",
     "text": [
      "C:\\Users\\jakob\\AppData\\Local\\Temp\\ipykernel_7948\\540188139.py:2: FutureWarning: The frame.append method is deprecated and will be removed from pandas in a future version. Use pandas.concat instead.\n",
      "  dat = dat.append(pd.read_csv(\"watched-2022.csv\",skiprows=3,dtype=str))\n"
     ]
    },
    {
     "data": {
      "image/png": "[encoded data removed]",
      "text/plain": [
       "<Figure size 432x288 with 1 Axes>"
      ]
     },
     "metadata": {
      "needs_background": "light"
     },
     "output_type": "display_data"
    }
   ],
   "source": [
    "dat = pd.read_csv(\"watched-2021.csv\",skiprows=3,dtype=str)\n",
    "dat = dat.append(pd.read_csv(\"watched-2022.csv\",skiprows=3,dtype=str))\n",
    "\n",
    "years = np.array(dat[\"Year\"]).astype(int)\n",
    "names = np.array(dat[\"Name\"]).astype(str)\n",
    "\n",
    "a, b = np.histogram(years,bins = 15)\n",
    "\n",
    "plt.hist(years[years<2019],bins = (max(years)-min(years))//2,histtype='step')\n",
    "# plt.plot((b[1:]+b[:-1])/2,np.log(a),'.')\n",
    "plt.xticks([min(years)+i*2*5 for i in range(7)])\n",
    "plt.show()\n"
   ]
  },
  {
   "cell_type": "code",
   "execution_count": 3,
   "metadata": {},
   "outputs": [
    {
     "data": {
      "text/plain": [
       "{1966, 1967, 1969, 1970, 1971, 1974, 1976, 1979, 1981, 1982, 1986}"
      ]
     },
     "execution_count": 3,
     "metadata": {},
     "output_type": "execute_result"
    }
   ],
   "source": [
    "set([i for i in range(1962,2022)]).difference(set(np.sort(years)))"
   ]
  },
  {
   "cell_type": "code",
   "execution_count": 4,
   "metadata": {},
   "outputs": [
    {
     "data": {
      "text/plain": [
       "array([1973, 1991, 1997, 2019, 2021])"
      ]
     },
     "execution_count": 4,
     "metadata": {},
     "output_type": "execute_result"
    }
   ],
   "source": [
    "u_years, counts = np.unique(years,return_counts=1)\n",
    "\n",
    "# plt.plot(u_years,counts,'.')\n",
    "u_years[counts>5]"
   ]
  },
  {
   "cell_type": "code",
   "execution_count": 23,
   "metadata": {},
   "outputs": [],
   "source": [
    "imdb = Cinemagoer()\n"
   ]
  },
  {
   "cell_type": "code",
   "execution_count": 39,
   "metadata": {},
   "outputs": [
    {
     "name": "stderr",
     "output_type": "stream",
     "text": [
      "2022-04-21 18:26:12,625 CRITICAL [imdbpy] C:\\Users\\jakob\\Anaconda3\\envs\\pipenv\\lib\\site-packages\\imdb\\_exceptions.py:32: IMDbParserError exception raised; args: ('invalid title: \"\"\"\"',); kwds: {}\n",
      "NoneType: None\n"
     ]
    },
    {
     "name": "stdout",
     "output_type": "stream",
     "text": [
      "Serenity was not found\n",
      "Gremlins was not found\n",
      "Hellboy II: The Golden Army was not found\n"
     ]
    }
   ],
   "source": [
    "movies = []\n",
    "\n",
    "for n in names:\n",
    "    try:\n",
    "        movies.append(imdb.get_movie(imdb.search_movie(n)[0].movieID))\n",
    "    except:\n",
    "        print(n,\"was not found\")\n"
   ]
  },
  {
   "cell_type": "code",
   "execution_count": 71,
   "metadata": {},
   "outputs": [
    {
     "name": "stderr",
     "output_type": "stream",
     "text": [
      "C:\\Users\\jakob\\AppData\\Local\\Temp\\ipykernel_7948\\2743844847.py:7: VisibleDeprecationWarning: Creating an ndarray from ragged nested sequences (which is a list-or-tuple of lists-or-tuples-or ndarrays with different lengths or shapes) is deprecated. If you meant to do this, you must specify 'dtype=object' when creating the ndarray.\n",
      "  actors = np.hstack(np.array(actors))\n"
     ]
    }
   ],
   "source": [
    "actors = []\n",
    "for m in movies:\n",
    "    try:\n",
    "        actors.append(np.array([a['name'] for a in m[\"actors\"]]))\n",
    "    except:\n",
    "        actors.append(np.array([]))\n",
    "actors = np.hstack(np.array(actors))"
   ]
  },
  {
   "cell_type": "code",
   "execution_count": 93,
   "metadata": {},
   "outputs": [
    {
     "data": {
      "image/png": "[encoded data removed]",
      "text/plain": [
       "<Figure size 720x216 with 1 Axes>"
      ]
     },
     "metadata": {
      "needs_background": "light"
     },
     "output_type": "display_data"
    }
   ],
   "source": [
    "u_actors, counts = np.unique(actors,return_counts=1)\n",
    "plt.figure(figsize=(10, 3))\n",
    "plt.plot(u_actors[counts > 4],counts[counts > 4],'.')\n",
    "plt.xticks(rotation=45)\n",
    "plt.show()\n",
    "# actors[0]['name']"
   ]
  },
  {
   "cell_type": "code",
   "execution_count": 126,
   "metadata": {},
   "outputs": [
    {
     "name": "stdout",
     "output_type": "stream",
     "text": [
      "Fargo\n",
      "Hellbound\n",
      "World on a Wire\n",
      "The Beatles: Get Back\n"
     ]
    },
    {
     "name": "stderr",
     "output_type": "stream",
     "text": [
      "C:\\Users\\jakob\\AppData\\Local\\Temp\\ipykernel_7948\\982817874.py:17: VisibleDeprecationWarning: Creating an ndarray from ragged nested sequences (which is a list-or-tuple of lists-or-tuples-or ndarrays with different lengths or shapes) is deprecated. If you meant to do this, you must specify 'dtype=object' when creating the ndarray.\n",
      "  directors = np.hstack(np.array(directors))\n"
     ]
    }
   ],
   "source": [
    "\n",
    "directors = []\n",
    "for m in movies:\n",
    "    try:\n",
    "        directors.append(m['director']['name'])\n",
    "    except:\n",
    "        try:\n",
    "            directors.append([d['name'] for d in m['directors']])\n",
    "        except:\n",
    "            print(m)\n",
    "\n",
    "\n",
    "directors.append(\"Joel Coen\")\n",
    "directors.append(\"Ethan Coen\")\n",
    "directors.append(\"Yeon Sang-ho\")\n",
    "directors.append(\"Rainer Werner Fassbinder\")\n",
    "directors.append(\"Peter Jackson\")\n",
    "directors = np.hstack(np.array(directors))"
   ]
  },
  {
   "cell_type": "code",
   "execution_count": 135,
   "metadata": {},
   "outputs": [
    {
     "data": {
      "image/png": "[encoded data removed]",
      "text/plain": [
       "<Figure size 720x216 with 1 Axes>"
      ]
     },
     "metadata": {
      "needs_background": "light"
     },
     "output_type": "display_data"
    }
   ],
   "source": [
    "u_directors, counts = np.unique(directors,return_counts=1)\n",
    "\n",
    "plt.figure(figsize=(10, 3))\n",
    "plt.plot(u_directors[counts > 2],counts[counts > 2],'.')\n",
    "plt.xticks(rotation=45)\n",
    "plt.show()"
   ]
  },
  {
   "cell_type": "code",
   "execution_count": 145,
   "metadata": {},
   "outputs": [
    {
     "name": "stdout",
     "output_type": "stream",
     "text": [
      "The Amnesia Fortnight Movie\n"
     ]
    },
    {
     "name": "stderr",
     "output_type": "stream",
     "text": [
      "C:\\Users\\jakob\\AppData\\Local\\Temp\\ipykernel_7948\\2507399231.py:14: VisibleDeprecationWarning: Creating an ndarray from ragged nested sequences (which is a list-or-tuple of lists-or-tuples-or ndarrays with different lengths or shapes) is deprecated. If you meant to do this, you must specify 'dtype=object' when creating the ndarray.\n",
      "  countries = np.hstack(np.array(countries))\n"
     ]
    }
   ],
   "source": [
    "\n",
    "countries = []\n",
    "for m in movies:\n",
    "    try:\n",
    "        countries.append(m['country'])\n",
    "    except:\n",
    "        try:\n",
    "            countries.append(m['countries'])\n",
    "            # countries.append([d for d in m['directors']])\n",
    "        except:\n",
    "            theamd = m\n",
    "            print(m)\n",
    "\n",
    "countries.append(\"United States\")\n",
    "countries = np.hstack(np.array(countries))\n"
   ]
  },
  {
   "cell_type": "code",
   "execution_count": 153,
   "metadata": {},
   "outputs": [
    {
     "data": {
      "image/png": "[encoded data removed]",
      "text/plain": [
       "<Figure size 720x216 with 1 Axes>"
      ]
     },
     "metadata": {
      "needs_background": "light"
     },
     "output_type": "display_data"
    }
   ],
   "source": [
    "u_countries, counts = np.unique(countries,return_counts=1)\n",
    "\n",
    "plt.figure(figsize=(10, 3))\n",
    "plt.plot(u_countries[counts > 5],counts[counts > 5],'.')\n",
    "plt.xticks(rotation=45)\n",
    "plt.show()"
   ]
  },
  {
   "cell_type": "code",
   "execution_count": 159,
   "metadata": {},
   "outputs": [],
   "source": [
    "ratings = []\n",
    "for m in movies:\n",
    "    try:\n",
    "        ratings.append(m['rating'])\n",
    "    except:\n",
    "        print(m)"
   ]
  },
  {
   "cell_type": "code",
   "execution_count": 167,
   "metadata": {},
   "outputs": [
    {
     "data": {
      "image/png": "[encoded data removed]",
      "text/plain": [
       "<Figure size 432x288 with 1 Axes>"
      ]
     },
     "metadata": {
      "needs_background": "light"
     },
     "output_type": "display_data"
    }
   ],
   "source": [
    "plt.hist(ratings, bins = 21)\n",
    "plt.show()"
   ]
  },
  {
   "cell_type": "code",
   "execution_count": 183,
   "metadata": {},
   "outputs": [
    {
     "name": "stdout",
     "output_type": "stream",
     "text": [
      "Best movies:\n",
      "The Beatles: Get Back\n",
      "Schindler's List\n",
      "Fargo\n",
      "\n",
      "Worst movies:\n",
      "Cats\n",
      "Troll 2\n",
      "Samurai Cop\n"
     ]
    }
   ],
   "source": [
    "asort = np.argsort(ratings)\n",
    "\n",
    "print(\"Best movies:\",movies[asort[-1]],movies[asort[-2]],movies[asort[-3]],\"\\nWorst movies:\",movies[asort[0]],movies[asort[1]],movies[asort[2]],sep=\"\\n\")\n"
   ]
  },
  {
   "cell_type": "code",
   "execution_count": 186,
   "metadata": {},
   "outputs": [
    {
     "data": {
      "text/plain": [
       "['original title',\n",
       " 'localized title',\n",
       " 'cast',\n",
       " 'genres',\n",
       " 'runtimes',\n",
       " 'countries',\n",
       " 'country codes',\n",
       " 'language codes',\n",
       " 'color info',\n",
       " 'aspect ratio',\n",
       " 'sound mix',\n",
       " 'certificates',\n",
       " 'original air date',\n",
       " 'rating',\n",
       " 'votes',\n",
       " 'cover url',\n",
       " 'imdbID',\n",
       " 'plot outline',\n",
       " 'languages',\n",
       " 'title',\n",
       " 'year',\n",
       " 'kind',\n",
       " 'director',\n",
       " 'writer',\n",
       " 'producer',\n",
       " 'composer',\n",
       " 'cinematographer',\n",
       " 'editor',\n",
       " 'editorial department',\n",
       " 'casting director',\n",
       " 'production design',\n",
       " 'art direction',\n",
       " 'production manager',\n",
       " 'art department',\n",
       " 'sound crew',\n",
       " 'visual effects',\n",
       " 'camera and electrical department',\n",
       " 'animation department',\n",
       " 'music department',\n",
       " 'miscellaneous crew',\n",
       " 'thanks',\n",
       " 'akas',\n",
       " 'production companies',\n",
       " 'distributors',\n",
       " 'special effects',\n",
       " 'other companies',\n",
       " 'plot',\n",
       " 'canonical title',\n",
       " 'long imdb title',\n",
       " 'long imdb canonical title',\n",
       " 'smart canonical title',\n",
       " 'smart long imdb canonical title',\n",
       " 'full-size cover url']"
      ]
     },
     "execution_count": 186,
     "metadata": {},
     "output_type": "execute_result"
    }
   ],
   "source": [
    "movies[0].keys()\n",
    "\n",
    "#TO CHECK\n",
    "# runtimes, cinematographer\n"
   ]
  }
 ],
 "metadata": {
  "interpreter": {
   "hash": "92f83c05426f4916f717e7ba5a412ec12a5b79535648172354d400e07f6c6f36"
  },
  "kernelspec": {
   "display_name": "Python 3.6.13 ('base')",
   "language": "python",
   "name": "python3"
  },
  "language_info": {
   "codemirror_mode": {
    "name": "ipython",
    "version": 3
   },
   "file_extension": ".py",
   "mimetype": "text/x-python",
   "name": "python",
   "nbconvert_exporter": "python",
   "pygments_lexer": "ipython3",
   "version": "3.10.4"
  },
  "orig_nbformat": 4
 },
 "nbformat": 4,
 "nbformat_minor": 2
}
