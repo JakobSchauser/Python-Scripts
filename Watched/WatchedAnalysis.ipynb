{
 "cells": [
  {
   "cell_type": "code",
   "execution_count": 1,
   "metadata": {},
   "outputs": [],
   "source": [
    "import numpy as np\n",
    "import pandas as pd\n",
    "import matplotlib.pyplot as plt\n",
    "from imdb import Cinemagoer\n",
    "import time\n",
    "from tqdm import tqdm\n",
    "import umap"
   ]
  },
  {
   "cell_type": "code",
   "execution_count": 2,
   "metadata": {},
   "outputs": [
    {
     "name": "stderr",
     "output_type": "stream",
     "text": [
      "C:\\Users\\jakob\\AppData\\Local\\Temp\\ipykernel_13448\\540188139.py:2: FutureWarning: The frame.append method is deprecated and will be removed from pandas in a future version. Use pandas.concat instead.\n",
      "  dat = dat.append(pd.read_csv(\"watched-2022.csv\",skiprows=3,dtype=str))\n"
     ]
    },
    {
     "data": {
      "image/png": "[encoded data removed]",
      "text/plain": [
       "<Figure size 432x288 with 1 Axes>"
      ]
     },
     "metadata": {
      "needs_background": "light"
     },
     "output_type": "display_data"
    }
   ],
   "source": [
    "dat = pd.read_csv(\"watched-2021.csv\",skiprows=3,dtype=str)\n",
    "dat = dat.append(pd.read_csv(\"watched-2022.csv\",skiprows=3,dtype=str))\n",
    "\n",
    "years = np.array(dat[\"Year\"]).astype(int)\n",
    "names = np.array(dat[\"Name\"]).astype(str)\n",
    "\n",
    "a, b = np.histogram(years,bins = 15)\n",
    "\n",
    "plt.hist(years[years<2019],bins = (max(years)-min(years))//2,histtype='step')\n",
    "# plt.plot((b[1:]+b[:-1])/2,np.log(a),'.')\n",
    "plt.xticks([min(years)+i*2*5 for i in range(7)])\n",
    "plt.show()\n"
   ]
  },
  {
   "cell_type": "code",
   "execution_count": 3,
   "metadata": {},
   "outputs": [
    {
     "data": {
      "text/plain": [
       "{1966, 1967, 1969, 1970, 1971, 1974, 1976, 1979, 1981, 1982, 1986}"
      ]
     },
     "execution_count": 3,
     "metadata": {},
     "output_type": "execute_result"
    }
   ],
   "source": [
    "set([i for i in range(1962,2022)]).difference(set(np.sort(years)))"
   ]
  },
  {
   "cell_type": "code",
   "execution_count": 4,
   "metadata": {},
   "outputs": [
    {
     "data": {
      "text/plain": [
       "array([1973, 1991, 1997, 2019, 2021])"
      ]
     },
     "execution_count": 4,
     "metadata": {},
     "output_type": "execute_result"
    }
   ],
   "source": [
    "u_years, counts = np.unique(years,return_counts=1)\n",
    "\n",
    "# plt.plot(u_years,counts,'.')\n",
    "u_years[counts>5]"
   ]
  },
  {
   "cell_type": "code",
   "execution_count": 5,
   "metadata": {},
   "outputs": [],
   "source": [
    "imdb = Cinemagoer()\n"
   ]
  },
  {
   "cell_type": "code",
   "execution_count": 6,
   "metadata": {},
   "outputs": [
    {
     "name": "stderr",
     "output_type": "stream",
     "text": [
      "  7%|▋         | 12/180 [00:46<11:01,  3.94s/it]"
     ]
    },
    {
     "name": "stdout",
     "output_type": "stream",
     "text": [
      "Found Mulan from 2020 instead of Mulan from 1998\n",
      "Now Mulan from 1998 is added instead\n"
     ]
    },
    {
     "name": "stderr",
     "output_type": "stream",
     "text": [
      " 10%|█         | 18/180 [01:14<11:08,  4.13s/it]"
     ]
    },
    {
     "name": "stdout",
     "output_type": "stream",
     "text": [
      "Found Robin Hood from 2010 instead of Robin Hood from 1973\n",
      "Now Robin Hood from 2018 is added instead\n"
     ]
    },
    {
     "name": "stderr",
     "output_type": "stream",
     "text": [
      " 11%|█         | 19/180 [01:22<14:08,  5.27s/it]2022-04-22 17:59:54,847 CRITICAL [imdbpy] C:\\Users\\jakob\\Anaconda3\\envs\\pipenv\\lib\\site-packages\\imdb\\_exceptions.py:32: IMDbParserError exception raised; args: ('invalid title: \"\"\"\"',); kwds: {}\n",
      "NoneType: None\n"
     ]
    },
    {
     "name": "stdout",
     "output_type": "stream",
     "text": [
      "Serenity was not found\n"
     ]
    },
    {
     "name": "stderr",
     "output_type": "stream",
     "text": [
      " 22%|██▏       | 39/180 [02:35<08:28,  3.61s/it]"
     ]
    },
    {
     "name": "stdout",
     "output_type": "stream",
     "text": [
      "Found Fargo from 2014 instead of Fargo from 1996\n",
      "Now Fargo from 1996 is added instead\n"
     ]
    },
    {
     "name": "stderr",
     "output_type": "stream",
     "text": [
      " 38%|███▊      | 69/180 [04:41<07:32,  4.08s/it]"
     ]
    },
    {
     "name": "stdout",
     "output_type": "stream",
     "text": [
      "Found Dawn of the Dead from 2004 instead of Dawn of the Dead from 1978\n",
      "Now Dawn of the Dead from 1978 is added instead\n"
     ]
    },
    {
     "name": "stderr",
     "output_type": "stream",
     "text": [
      " 42%|████▏     | 76/180 [05:10<06:29,  3.75s/it]"
     ]
    },
    {
     "name": "stdout",
     "output_type": "stream",
     "text": [
      "Found Mother! from 2017 instead of Mother from 2009\n",
      "Now Mother from 2009 is added instead\n"
     ]
    },
    {
     "name": "stderr",
     "output_type": "stream",
     "text": [
      " 44%|████▍     | 80/180 [05:30<07:16,  4.37s/it]"
     ]
    },
    {
     "name": "stdout",
     "output_type": "stream",
     "text": [
      "Found Suspiria from 2018 instead of Suspiria from 1977\n",
      "Now Suspiria from 1977 is added instead\n"
     ]
    },
    {
     "name": "stderr",
     "output_type": "stream",
     "text": [
      " 57%|█████▋    | 102/180 [07:05<05:04,  3.90s/it]"
     ]
    },
    {
     "name": "stdout",
     "output_type": "stream",
     "text": [
      "Found Dune from 2021 instead of Dune from 1984\n",
      "Now Dune from 1984 is added instead\n"
     ]
    },
    {
     "name": "stderr",
     "output_type": "stream",
     "text": [
      " 63%|██████▎   | 114/180 [07:58<04:50,  4.41s/it]"
     ]
    },
    {
     "name": "stdout",
     "output_type": "stream",
     "text": [
      "Found Hellboy from 2019 instead of Hellboy from 2004\n",
      "Now Hellboy from 2004 is added instead\n"
     ]
    },
    {
     "name": "stderr",
     "output_type": "stream",
     "text": [
      " 79%|███████▉  | 143/180 [09:57<02:19,  3.77s/it]"
     ]
    },
    {
     "name": "stdout",
     "output_type": "stream",
     "text": [
      "Found Paprika from 1991 instead of Paprika from 2006\n",
      "Now Paprika from 2006 is added instead\n"
     ]
    },
    {
     "name": "stderr",
     "output_type": "stream",
     "text": [
      "100%|██████████| 180/180 [12:27<00:00,  4.15s/it]\n"
     ]
    }
   ],
   "source": [
    "movies = []\n",
    "\n",
    "for n,y in tqdm(zip(names,years),total = len(names)):\n",
    "    try:\n",
    "        m = imdb.get_movie(imdb.search_movie(n)[0].movieID)\n",
    "        if m[\"year\"] != y:\n",
    "            print(\"Found\",m,\"from\",m[\"year\"],\"instead of\",n,\"from\",y)\n",
    "            m = imdb.get_movie(imdb.search_movie(n)[1].movieID)\n",
    "            print(\"Now\",m,\"from\",m[\"year\"],\"is added instead\")\n",
    "        movies.append(m)\n",
    "    except:\n",
    "        print(n,\"was not found\")\n",
    "    time.sleep(0.5)\n",
    "\n",
    "np.save(\"movie_database\",np.array(movies,dtype=object),allow_pickle=True)\n"
   ]
  },
  {
   "cell_type": "code",
   "execution_count": 8,
   "metadata": {},
   "outputs": [],
   "source": [
    "loaded = np.load(\"movie_database.npy\",allow_pickle=True)"
   ]
  },
  {
   "cell_type": "code",
   "execution_count": 7,
   "metadata": {},
   "outputs": [
    {
     "name": "stdout",
     "output_type": "stream",
     "text": [
      "No actors found in A Man and A Camera\n"
     ]
    },
    {
     "name": "stderr",
     "output_type": "stream",
     "text": [
      "C:\\Users\\jakob\\AppData\\Local\\Temp\\ipykernel_13448\\684155662.py:10: VisibleDeprecationWarning: Creating an ndarray from ragged nested sequences (which is a list-or-tuple of lists-or-tuples-or ndarrays with different lengths or shapes) is deprecated. If you meant to do this, you must specify 'dtype=object' when creating the ndarray.\n",
      "  actors = np.hstack(np.array(actors))\n"
     ]
    }
   ],
   "source": [
    "actors = []\n",
    "for m in movies:\n",
    "    try:\n",
    "        nms = [a['name'] for a in m[\"actors\"]]\n",
    "        actors.append(np.array(nms))\n",
    "    except:\n",
    "        print(\"No actors found in\",m)\n",
    "        dod = m\n",
    "        actors.append(np.array([]))\n",
    "actors = np.hstack(np.array(actors))"
   ]
  },
  {
   "cell_type": "code",
   "execution_count": 8,
   "metadata": {},
   "outputs": [
    {
     "data": {
      "image/png": "[encoded data removed]",
      "text/plain": [
       "<Figure size 720x288 with 1 Axes>"
      ]
     },
     "metadata": {
      "needs_background": "light"
     },
     "output_type": "display_data"
    }
   ],
   "source": [
    "u_actors, counts = np.unique(actors,return_counts=1)\n",
    "\n",
    "u_actors = u_actors[np.argsort(counts)][::-1]\n",
    "counts = np.sort(counts)[::-1]\n",
    "plt.figure(figsize=(10, 4))\n",
    "plt.plot(u_actors[:15],counts[:15],'.')\n",
    "plt.xticks(rotation=45)\n",
    "plt.show()\n",
    "# actors[0]['name']"
   ]
  },
  {
   "cell_type": "code",
   "execution_count": 10,
   "metadata": {},
   "outputs": [
    {
     "name": "stdout",
     "output_type": "stream",
     "text": [
      "Hellbound\n",
      "World on a Wire\n",
      "The Beatles: Get Back\n"
     ]
    },
    {
     "name": "stderr",
     "output_type": "stream",
     "text": [
      "C:\\Users\\jakob\\AppData\\Local\\Temp\\ipykernel_13448\\3931010358.py:18: VisibleDeprecationWarning: Creating an ndarray from ragged nested sequences (which is a list-or-tuple of lists-or-tuples-or ndarrays with different lengths or shapes) is deprecated. If you meant to do this, you must specify 'dtype=object' when creating the ndarray.\n",
      "  directors = np.hstack(np.array(directors))\n"
     ]
    }
   ],
   "source": [
    "\n",
    "directors = []\n",
    "for m in movies:\n",
    "    try:\n",
    "        directors.append(m['director']['name'])\n",
    "    except:\n",
    "        try:\n",
    "            directors.append([d['name'] for d in m['directors']])\n",
    "        except:\n",
    "            print(m)\n",
    "\n",
    "\n",
    "# directors.append(\"Dario Argento\")\n",
    "# directors.append(\"David Lynch\")\n",
    "directors.append(\"Yeon Sang-ho\")\n",
    "# directors.append(\"Guillermo Del Toro\")\n",
    "directors.append(\"Rainer Werner Fassbinder\")\n",
    "directors.append(\"Peter Jackson\")\n",
    "directors = np.hstack(np.array(directors))"
   ]
  },
  {
   "cell_type": "code",
   "execution_count": 11,
   "metadata": {},
   "outputs": [
    {
     "data": {
      "image/png": "[encoded data removed]",
      "text/plain": [
       "<Figure size 720x288 with 1 Axes>"
      ]
     },
     "metadata": {
      "needs_background": "light"
     },
     "output_type": "display_data"
    },
    {
     "name": "stdout",
     "output_type": "stream",
     "text": [
      "Directors you have watched two or more movies from:\n",
      "5 Sam Raimi\n",
      "4 Edgar Wright\n",
      "4 David Lynch\n",
      "4 Krzysztof Kieslowski\n",
      "3 Jon Watts\n",
      "3 Darren Aronofsky\n",
      "3 George A. Romero\n",
      "3 Nicolas Winding Refn\n",
      "2 Andrew Stanton\n",
      "2 Joshua Oppenheimer\n",
      "2 Peter Jackson\n",
      "2 Raja Gosnell\n",
      "2 Chris Marker\n",
      "2 Lenny Abrahamson\n",
      "2 Lana Wachowski\n",
      "2 Jim Jarmusch\n",
      "2 Ridley Scott\n",
      "2 Guillermo del Toro\n",
      "2 Ethan Coen\n",
      "2 Robert Rodriguez\n",
      "2 Kar-Wai Wong\n",
      "2 Michael Haneke\n",
      "2 Ron Howard\n",
      "2 Sergio Leone\n",
      "2 Bong Joon Ho\n",
      "2 Stanley Kubrick\n",
      "2 Steven Spielberg\n",
      "2 Joe Dante\n",
      "2 Joel Coen\n",
      "2 Tim Burton\n",
      "2 Barry Sonnenfeld\n",
      "2 Satoshi Kon\n"
     ]
    }
   ],
   "source": [
    "u_directors, counts = np.unique(directors,return_counts=1)\n",
    "u_directors = u_directors[np.argsort(counts)][::-1]\n",
    "counts = np.sort(counts)[::-1]\n",
    "\n",
    "plt.figure(figsize=(10, 4))\n",
    "plt.plot(u_directors[:15],counts[:15],'.')\n",
    "plt.xticks(rotation=55)\n",
    "plt.yticks([i for i in range(2,6)])\n",
    "plt.show()\n",
    "print(\"Directors you have watched two or more movies from:\")\n",
    "for d, c in zip(u_directors[counts>1],counts[counts>1]):\n",
    "    print(c,d)\n",
    "    "
   ]
  },
  {
   "cell_type": "code",
   "execution_count": 12,
   "metadata": {},
   "outputs": [
    {
     "name": "stdout",
     "output_type": "stream",
     "text": [
      "The Amnesia Fortnight Movie\n"
     ]
    },
    {
     "name": "stderr",
     "output_type": "stream",
     "text": [
      "C:\\Users\\jakob\\AppData\\Local\\Temp\\ipykernel_13448\\2507399231.py:14: VisibleDeprecationWarning: Creating an ndarray from ragged nested sequences (which is a list-or-tuple of lists-or-tuples-or ndarrays with different lengths or shapes) is deprecated. If you meant to do this, you must specify 'dtype=object' when creating the ndarray.\n",
      "  countries = np.hstack(np.array(countries))\n"
     ]
    }
   ],
   "source": [
    "\n",
    "countries = []\n",
    "for m in movies:\n",
    "    try:\n",
    "        countries.append(m['country'])\n",
    "    except:\n",
    "        try:\n",
    "            countries.append(m['countries'])\n",
    "            # countries.append([d for d in m['directors']])\n",
    "        except:\n",
    "            theamd = m\n",
    "            print(m)\n",
    "\n",
    "countries.append(\"United States\")\n",
    "countries = np.hstack(np.array(countries))\n"
   ]
  },
  {
   "cell_type": "code",
   "execution_count": 13,
   "metadata": {},
   "outputs": [
    {
     "data": {
      "image/png": "[encoded data removed]",
      "text/plain": [
       "<Figure size 720x216 with 1 Axes>"
      ]
     },
     "metadata": {
      "needs_background": "light"
     },
     "output_type": "display_data"
    }
   ],
   "source": [
    "u_countries, counts = np.unique(countries,return_counts=1)\n",
    "u_countries = u_countries[np.argsort(counts)][::-1]\n",
    "counts = np.sort(counts)[::-1]\n",
    "\n",
    "plt.figure(figsize=(10, 3))\n",
    "plt.plot(u_countries[:15],counts[:15],'.')\n",
    "plt.xticks(rotation=45)\n",
    "plt.show()"
   ]
  },
  {
   "cell_type": "code",
   "execution_count": 14,
   "metadata": {},
   "outputs": [],
   "source": [
    "ratings = []\n",
    "for m in movies:\n",
    "    try:\n",
    "        ratings.append(m['rating'])\n",
    "    except:\n",
    "        ratings.append(7.3)\n",
    "\n",
    "        print(\"Could not find ratings for:\",m)"
   ]
  },
  {
   "cell_type": "code",
   "execution_count": 15,
   "metadata": {},
   "outputs": [
    {
     "data": {
      "image/png": "[encoded data removed]",
      "text/plain": [
       "<Figure size 432x288 with 1 Axes>"
      ]
     },
     "metadata": {
      "needs_background": "light"
     },
     "output_type": "display_data"
    }
   ],
   "source": [
    "plt.hist(ratings, bins = 21,histtype=\"step\")\n",
    "plt.show()"
   ]
  },
  {
   "cell_type": "code",
   "execution_count": 16,
   "metadata": {},
   "outputs": [
    {
     "name": "stdout",
     "output_type": "stream",
     "text": [
      "Best movies:\n",
      "The Beatles: Get Back\n",
      "Schindler's List\n",
      "Star Wars: Episode V - The Empire Strikes Back\n",
      "\n",
      "Worst movies:\n",
      "Cats\n",
      "Troll 2\n",
      "Samurai Cop\n"
     ]
    }
   ],
   "source": [
    "asort = np.argsort(ratings)\n",
    "\n",
    "print(\"Best movies:\",movies[asort[-1]],movies[asort[-2]],movies[asort[-3]],\"\\nWorst movies:\",movies[asort[0]],movies[asort[1]],movies[asort[2]],sep=\"\\n\")\n"
   ]
  },
  {
   "cell_type": "code",
   "execution_count": null,
   "metadata": {},
   "outputs": [],
   "source": []
  },
  {
   "cell_type": "code",
   "execution_count": 186,
   "metadata": {},
   "outputs": [
    {
     "data": {
      "text/plain": [
       "['original title',\n",
       " 'localized title',\n",
       " 'cast',\n",
       " 'genres',\n",
       " 'runtimes',\n",
       " 'countries',\n",
       " 'country codes',\n",
       " 'language codes',\n",
       " 'color info',\n",
       " 'aspect ratio',\n",
       " 'sound mix',\n",
       " 'certificates',\n",
       " 'original air date',\n",
       " 'rating',\n",
       " 'votes',\n",
       " 'cover url',\n",
       " 'imdbID',\n",
       " 'plot outline',\n",
       " 'languages',\n",
       " 'title',\n",
       " 'year',\n",
       " 'kind',\n",
       " 'director',\n",
       " 'writer',\n",
       " 'producer',\n",
       " 'composer',\n",
       " 'cinematographer',\n",
       " 'editor',\n",
       " 'editorial department',\n",
       " 'casting director',\n",
       " 'production design',\n",
       " 'art direction',\n",
       " 'production manager',\n",
       " 'art department',\n",
       " 'sound crew',\n",
       " 'visual effects',\n",
       " 'camera and electrical department',\n",
       " 'animation department',\n",
       " 'music department',\n",
       " 'miscellaneous crew',\n",
       " 'thanks',\n",
       " 'akas',\n",
       " 'production companies',\n",
       " 'distributors',\n",
       " 'special effects',\n",
       " 'other companies',\n",
       " 'plot',\n",
       " 'canonical title',\n",
       " 'long imdb title',\n",
       " 'long imdb canonical title',\n",
       " 'smart canonical title',\n",
       " 'smart long imdb canonical title',\n",
       " 'full-size cover url']"
      ]
     },
     "execution_count": 186,
     "metadata": {},
     "output_type": "execute_result"
    }
   ],
   "source": [
    "movies[0].keys()\n",
    "\n",
    "#TO CHECK\n",
    "# runtimes, cinematographer\n"
   ]
  }
 ],
 "metadata": {
  "interpreter": {
   "hash": "92f83c05426f4916f717e7ba5a412ec12a5b79535648172354d400e07f6c6f36"
  },
  "kernelspec": {
   "display_name": "Python 3.6.13 ('base')",
   "language": "python",
   "name": "python3"
  },
  "language_info": {
   "codemirror_mode": {
    "name": "ipython",
    "version": 3
   },
   "file_extension": ".py",
   "mimetype": "text/x-python",
   "name": "python",
   "nbconvert_exporter": "python",
   "pygments_lexer": "ipython3",
   "version": "3.10.4"
  },
  "orig_nbformat": 4
 },
 "nbformat": 4,
 "nbformat_minor": 2
}
