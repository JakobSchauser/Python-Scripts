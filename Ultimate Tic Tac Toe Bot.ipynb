{
 "cells": [
  {
   "cell_type": "code",
   "execution_count": 23,
   "id": "caring-experience",
   "metadata": {
    "ExecuteTime": {
     "end_time": "2021-07-19T14:47:52.835650Z",
     "start_time": "2021-07-19T14:47:52.830664Z"
    }
   },
   "outputs": [],
   "source": [
    "import numpy as np\n",
    "\n",
    "test_board = np.zeros((3,3))\n",
    "test_board[1,1] = 1\n",
    "test_board[0,2] = 2\n"
   ]
  },
  {
   "cell_type": "code",
   "execution_count": 27,
   "id": "lined-professor",
   "metadata": {
    "ExecuteTime": {
     "end_time": "2021-07-19T14:51:24.656815Z",
     "start_time": "2021-07-19T14:51:24.643849Z"
    }
   },
   "outputs": [],
   "source": [
    "smallboards = np.zeros((9,3,3))\n",
    "bigboard = np.zeros((3,3))\n",
    "\n",
    "maxdepth = 3\n",
    "\n",
    "\n",
    "def checkwin(board):\n",
    "    if(3 in np.sum(board,axis = 0) or 3 in np.sum(board,axis = 1)):\n",
    "        return True\n",
    "    \n",
    "    if board[1,1]:\n",
    "        if board[0,0] and board[2,2]:\n",
    "            return True\n",
    "        if board[0,2] and board[2,0]:\n",
    "            return True\n",
    "    \n",
    "    return False\n",
    "\n",
    "\n",
    "def checkwinner(board):\n",
    "    for i in range(1,3):\n",
    "        if checkwin(board == i):\n",
    "            return i\n",
    "    return 0\n",
    "    \n",
    "    \n",
    "def get_other_turn(turn):\n",
    "    if(turn == 1):\n",
    "        return 2\n",
    "    return 1\n",
    "    \n",
    "\n",
    "    \n",
    "# def minimax(board, turn, depth = 0, score = 0):\n",
    "#     if depth > maxdepth:\n",
    "#         return score   \n",
    "    \n",
    "#     win = checkwinner(board)\n",
    "#     if win == 0:\n",
    "#         return score\n",
    "#     elif win == player:\n",
    "#         score += 10\n",
    "#     else:\n",
    "#         score -= 10\n",
    "        \n",
    "#     for p in zip(np.where(board == 0)):\n",
    "#         tb = board.copy()\n",
    "#         tb[p] = turn\n",
    "#         return minimax(tb,other_turn(turn),depth + 1,score)\n",
    "    \n",
    "\n",
    "    \n",
    "def minimax(board,turn,player,score = 0):\n",
    "\n",
    "    for p in zip(np.where(board == 0)):\n",
    "        tb = board.copy()\n",
    "        tb[p] = turn\n",
    "        \n",
    "        win = checkwinner(board)\n",
    "        if win == 0:\n",
    "            score += minimax(tb,get_other_turn(turn),player,score)\n",
    "        elif win == player:\n",
    "            score += 10\n",
    "        else:\n",
    "            score -= 10\n",
    "    \n",
    "    return score"
   ]
  },
  {
   "cell_type": "code",
   "execution_count": 41,
   "id": "hollow-safety",
   "metadata": {
    "ExecuteTime": {
     "end_time": "2021-07-19T14:58:20.336397Z",
     "start_time": "2021-07-19T14:58:20.330383Z"
    }
   },
   "outputs": [],
   "source": [
    "def choose_action(_board,player):\n",
    "    board = _board.copy()\n",
    "    maxscore = -9999\n",
    "    best_move = None\n",
    "    for p in zip(np.where(board == 0)):\n",
    "        score = minimax(board,player,player)\n",
    "        print(score)\n",
    "        if score > maxscore:\n",
    "            score = maxscore\n",
    "            best_move = p\n",
    "    \n",
    "    if best_move != None:\n",
    "        print(\"asdasdasa\",best_move)\n",
    "        bb = _board.copy()\n",
    "        bb[p] = player\n",
    "        return bb\n",
    "    else:\n",
    "        return \"AASSSHSHH\""
   ]
  },
  {
   "cell_type": "code",
   "execution_count": 42,
   "id": "twenty-minutes",
   "metadata": {
    "ExecuteTime": {
     "end_time": "2021-07-19T14:58:22.014989Z",
     "start_time": "2021-07-19T14:58:22.005016Z"
    }
   },
   "outputs": [
    {
     "name": "stdout",
     "output_type": "stream",
     "text": [
      "60\n",
      "60\n",
      "asdasdasa (array([0, 1, 0, 2, 0, 1, 2], dtype=int64),)\n",
      "[[0. 0. 2.]\n",
      " [0. 1. 0.]\n",
      " [0. 0. 0.]] \n",
      "\n",
      " [[1. 1. 1.]\n",
      " [1. 1. 1.]\n",
      " [1. 1. 1.]]\n"
     ]
    }
   ],
   "source": [
    "print(test_board,\"\\n\\n\", choose_action(test_board,1))"
   ]
  }
 ],
 "metadata": {
  "hide_input": false,
  "kernelspec": {
   "display_name": "Python 3",
   "language": "python",
   "name": "python3"
  },
  "language_info": {
   "codemirror_mode": {
    "name": "ipython",
    "version": 3
   },
   "file_extension": ".py",
   "mimetype": "text/x-python",
   "name": "python",
   "nbconvert_exporter": "python",
   "pygments_lexer": "ipython3",
   "version": "3.6.12"
  },
  "toc": {
   "base_numbering": 1,
   "nav_menu": {},
   "number_sections": true,
   "sideBar": true,
   "skip_h1_title": false,
   "title_cell": "Table of Contents",
   "title_sidebar": "Contents",
   "toc_cell": false,
   "toc_position": {},
   "toc_section_display": true,
   "toc_window_display": false
  }
 },
 "nbformat": 4,
 "nbformat_minor": 5
}
