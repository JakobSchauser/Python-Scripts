{
 "cells": [
  {
   "cell_type": "code",
   "execution_count": 35,
   "metadata": {},
   "outputs": [
    {
     "name": "stdout",
     "output_type": "stream",
     "text": [
      "22094\n",
      "2\n",
      "0\n",
      "5\n",
      "0\n"
     ]
    }
   ],
   "source": [
    "#pyclock\n",
    "import datetime\n",
    "import math\n",
    "\n",
    "pi_file = open('pi100000.txt')\n",
    "    \n",
    "for p in pi_file:\n",
    "    pi = p\n",
    "cDT = datetime.datetime.now()\n",
    "h = str(cDT.hour)\n",
    "m = str(cDT.minute).zfill(2)\n",
    "\n",
    "t_s = str(h+m)\n",
    "\n",
    "def find_d():\n",
    "    for d in range(len(pi)):\n",
    "        corr = 0\n",
    "        for n in range(len(t_s)):\n",
    "            if(pi[d+n] == t_s[n]):\n",
    "                corr += 1\n",
    "        if(corr == 4):\n",
    "            return d\n",
    "\n",
    "d = find_d()\n",
    "print(d)\n",
    "\n",
    "for i in range(4):\n",
    "    print(pi[d+i])\n",
    "    "
   ]
  },
  {
   "cell_type": "code",
   "execution_count": null,
   "metadata": {},
   "outputs": [],
   "source": []
  },
  {
   "cell_type": "code",
   "execution_count": null,
   "metadata": {},
   "outputs": [],
   "source": []
  }
 ],
 "metadata": {
  "kernelspec": {
   "display_name": "Python 3",
   "language": "python",
   "name": "python3"
  },
  "language_info": {
   "codemirror_mode": {
    "name": "ipython",
    "version": 3
   },
   "file_extension": ".py",
   "mimetype": "text/x-python",
   "name": "python",
   "nbconvert_exporter": "python",
   "pygments_lexer": "ipython3",
   "version": "3.6.5"
  }
 },
 "nbformat": 4,
 "nbformat_minor": 2
}
