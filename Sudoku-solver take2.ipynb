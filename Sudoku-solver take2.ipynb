{
 "cells": [
  {
   "cell_type": "code",
   "execution_count": 280,
   "metadata": {
    "ExecuteTime": {
     "end_time": "2020-11-10T21:46:45.368476Z",
     "start_time": "2020-11-10T21:46:45.330420Z"
    }
   },
   "outputs": [],
   "source": [
    "import numpy as np\n",
    "\n",
    "l = 9\n",
    "\n",
    "board = np.array([[0,0,0,0,2,0,0,0,4],\n",
    "                       [0,0,2,1,7,0,0,0,0],\n",
    "                       [0,0,0,6,0,5,7,0,0],\n",
    "                       [0,0,0,3,0,0,6,0,8],\n",
    "                       [0,9,0,0,0,0,0,1,0],\n",
    "                       [0,6,7,2,0,9,0,0,0],\n",
    "                       [0,0,9,0,0,0,0,0,3],\n",
    "                       [1,0,8,9,0,0,4,0,0],\n",
    "                       [0,0,0,0,6,0,0,0,0]])\n",
    "\n",
    "file = np.genfromtxt(\"SudokuEasy50.txt\",int,delimiter=1)\n",
    "boards = []\n",
    "for line in file:\n",
    "    boards.append(np.reshape(line,(9,9)))\n",
    "\n",
    "def unique(l):\n",
    "    ll = np.array(list(set(l)))\n",
    "    return np.delete(ll,np.where(ll==0))\n",
    "\n",
    "def solve(board,depth):\n",
    "    board = board.copy()\n",
    "    \n",
    "    \n",
    "    possibles = np.zeros([9,9,9])\n",
    "    for y in range(l):\n",
    "        for x in range(l):\n",
    "            if board[x,y]==0:\n",
    "                possibles[x,y] = np.arange(9)+1\n",
    "    \n",
    "    K = np.sum(board==0)\n",
    "    count = 0\n",
    "    while K > 0:\n",
    "        if count > depth:\n",
    "            return False,board\n",
    "        for y in range(l):\n",
    "            for x in range(l):\n",
    "                \n",
    "                # Only fill in if not already\n",
    "                if board[x,y] != 0:\n",
    "                    continue\n",
    "                    \n",
    "                #find row and column\n",
    "                r,c = board[:,y],board[x,:]\n",
    "                \n",
    "                #find local square\n",
    "                sx,sy = int(np.floor(x/3)*3),int(np.floor(y/3)*3)\n",
    "                tile = board[sx:sx+3,sy:sy+3].ravel()\n",
    "                \n",
    "                #combine all\n",
    "                comb = unique(np.hstack((r,c,tile)).ravel())\n",
    "                \n",
    "                #remove possibilites if already found\n",
    "                for c in comb:\n",
    "                    possibles[x,y][np.where(possibles[x,y]==c)] = 0\n",
    "                \n",
    "                #Find other possibilities in the row and coloumn\n",
    "                r,c = possibles[np.arange(l)!=x,y].ravel(),possibles[x,np.arange(l)!=y].ravel()\n",
    "                r,c = unique(r),unique(c)\n",
    "                \n",
    "                #And the possibilities in the square\n",
    "                square = np.empty((8,9))\n",
    "                loopings = 0 #slam\n",
    "                for xx in range(sx,sx+3):\n",
    "                    for yy in range(sy,sy+3):\n",
    "                        if (xx == x) and (yy == y):\n",
    "                            continue\n",
    "                        square[loopings] = possibles[xx,yy] \n",
    "                        loopings+=1\n",
    "                square = unique(square.ravel())\n",
    "            \n",
    "                #If you are the only one in row/coloum/square that can have number, you take it\n",
    "                us = unique(possibles[x,y])\n",
    "                for u in us:\n",
    "                    if (u not in r) or (u not in c) or (u not in square):\n",
    "                        tf = np.where(possibles[x,y]==u)\n",
    "                        mask = np.ones(possibles[x,y].shape, dtype='bool')\n",
    "                        mask[tf] = False\n",
    "                        possibles[x,y][mask] = 0\n",
    "                \n",
    "                #find the possible numbers for this position and fill in if there is only one left\n",
    "                us = unique(possibles[x,y])\n",
    "                if(len(us)==1):\n",
    "                    board[x,y] = us[0]\n",
    "                    possibles[x,y] = np.zeros(9)\n",
    "                elif(len(us)==0):\n",
    "                    print(\"Something wrong at \",x,y)\n",
    "                    \n",
    "        #Check if done\n",
    "        K = np.sum(board==0)\n",
    "        count += 1\n",
    "\n",
    "    return True,board"
   ]
  },
  {
   "cell_type": "code",
   "execution_count": 281,
   "metadata": {
    "ExecuteTime": {
     "end_time": "2020-11-10T21:46:47.236986Z",
     "start_time": "2020-11-10T21:46:47.134238Z"
    }
   },
   "outputs": [
    {
     "name": "stdout",
     "output_type": "stream",
     "text": [
      "[[0 0 0 0 2 0 0 0 4]\n",
      " [0 0 2 1 7 0 0 0 0]\n",
      " [0 0 0 6 0 5 7 0 0]\n",
      " [0 0 0 3 0 0 6 0 8]\n",
      " [0 9 0 0 0 0 0 1 0]\n",
      " [0 6 7 2 0 9 0 0 0]\n",
      " [0 0 9 0 0 0 0 0 3]\n",
      " [1 0 8 9 0 0 4 0 0]\n",
      " [0 0 0 0 6 0 0 0 0]]\n"
     ]
    },
    {
     "data": {
      "text/plain": [
       "array([[9, 7, 6, 8, 2, 3, 1, 5, 4],\n",
       "       [5, 3, 2, 1, 7, 4, 8, 6, 9],\n",
       "       [4, 8, 1, 6, 9, 5, 7, 3, 2],\n",
       "       [2, 1, 4, 3, 5, 7, 6, 9, 8],\n",
       "       [3, 9, 5, 4, 8, 6, 2, 1, 7],\n",
       "       [8, 6, 7, 2, 1, 9, 3, 4, 5],\n",
       "       [6, 2, 9, 7, 4, 1, 5, 8, 3],\n",
       "       [1, 5, 8, 9, 3, 2, 4, 7, 6],\n",
       "       [7, 4, 3, 5, 6, 8, 9, 2, 1]])"
      ]
     },
     "execution_count": 281,
     "metadata": {},
     "output_type": "execute_result"
    }
   ],
   "source": [
    "print(board)\n",
    "_, board = solve(board,100)\n",
    "board"
   ]
  }
 ],
 "metadata": {
  "hide_input": false,
  "kernelspec": {
   "display_name": "Python 3",
   "language": "python",
   "name": "python3"
  },
  "language_info": {
   "codemirror_mode": {
    "name": "ipython",
    "version": 3
   },
   "file_extension": ".py",
   "mimetype": "text/x-python",
   "name": "python",
   "nbconvert_exporter": "python",
   "pygments_lexer": "ipython3",
   "version": "3.6.10"
  },
  "toc": {
   "base_numbering": 1,
   "nav_menu": {},
   "number_sections": true,
   "sideBar": true,
   "skip_h1_title": false,
   "title_cell": "Table of Contents",
   "title_sidebar": "Contents",
   "toc_cell": false,
   "toc_position": {},
   "toc_section_display": true,
   "toc_window_display": false
  }
 },
 "nbformat": 4,
 "nbformat_minor": 2
}
