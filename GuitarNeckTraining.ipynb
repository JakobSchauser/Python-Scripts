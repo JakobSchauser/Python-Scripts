{
 "cells": [
  {
   "cell_type": "code",
   "execution_count": 43,
   "metadata": {
    "ExecuteTime": {
     "end_time": "2020-06-09T09:05:05.436134Z",
     "start_time": "2020-06-09T09:05:05.429155Z"
    }
   },
   "outputs": [],
   "source": [
    "import time\n",
    "from random import choice as choose\n",
    "\n",
    "standard_notes = [\"A\",\"A#\",\"B\",\"C\",\"C#\",\"D\",\"D#\",\"E\",\"F\",\"F#\",\"G\",\"G#\"]\n",
    "standard_extensions = [\"\",\"m\",\"7\",\"m7\",\"sus2\"]\n",
    "\n",
    "def randnote(notes,extensions):\n",
    "    return choose(notes)+\"\"+choose(extensions)\n",
    "\n",
    "def play(speed,length,notes = None,extensions = None):\n",
    "    if not notes:\n",
    "        notes = standard_notes\n",
    "    if not extensions:\n",
    "        extensions = standard_extensions\n",
    "    print(\"Ready?\")\n",
    "    time.sleep(1)\n",
    "    print(\"Go!\")\n",
    "    time.sleep(speed)\n",
    "    for i in range(int(length)):\n",
    "        print(randnote(notes,extensions))\n",
    "        time.sleep(speed)\n",
    "    print(\"Well done!\")\n",
    "\n",
    "def speeding(times = None,notes = standard_notes,extensions = standard_extensions):\n",
    "    if not times:\n",
    "        times = [6,5,4,3,2,1]\n",
    "    for t in times:\n",
    "        print(\"\\nThis round, you have\",t,\"seconds!\")\n",
    "        time.sleep(1)\n",
    "        play(t,10,notes = notes,extensions=extensions)\n",
    "    print(\"Perfect! That was the end. You cleared\",len(times),\"rounds!\")"
   ]
  },
  {
   "cell_type": "code",
   "execution_count": 47,
   "metadata": {
    "ExecuteTime": {
     "end_time": "2020-06-09T18:07:22.173956Z",
     "start_time": "2020-06-09T18:05:37.153375Z"
    },
    "scrolled": false
   },
   "outputs": [
    {
     "name": "stdout",
     "output_type": "stream",
     "text": [
      "\n",
      "This round, you have 4 seconds!\n",
      "Ready?\n",
      "Go!\n",
      "G#\n",
      "A#\n",
      "A#\n",
      "G\n",
      "G#\n",
      "A\n",
      "E\n",
      "D\n",
      "C#\n",
      "C\n",
      "Well done!\n",
      "\n",
      "This round, you have 3 seconds!\n",
      "Ready?\n",
      "Go!\n",
      "C\n",
      "B\n",
      "B\n",
      "F#\n",
      "G\n",
      "D\n",
      "E\n",
      "C\n",
      "D\n",
      "F#\n",
      "Well done!\n",
      "\n",
      "This round, you have 2 seconds!\n",
      "Ready?\n",
      "Go!\n",
      "D\n",
      "E\n",
      "G\n",
      "A#\n",
      "A\n",
      "C\n",
      "G#\n",
      "G\n",
      "A#\n",
      "G\n",
      "Well done!\n",
      "Perfect! That was the end. You cleared 3 rounds!\n"
     ]
    }
   ],
   "source": [
    "speeding(times = [4,3,2],extensions = [\"\"])"
   ]
  },
  {
   "cell_type": "code",
   "execution_count": 45,
   "metadata": {
    "ExecuteTime": {
     "end_time": "2020-06-09T11:42:16.942928Z",
     "start_time": "2020-06-09T11:40:30.922902Z"
    },
    "scrolled": false
   },
   "outputs": [
    {
     "name": "stdout",
     "output_type": "stream",
     "text": [
      "Ready?\n",
      "Go!\n",
      "A\n",
      "G\n",
      "G\n",
      "D\n",
      "C\n",
      "E\n",
      "F\n",
      "F\n",
      "F\n",
      "G\n",
      "B\n",
      "D\n",
      "A\n",
      "C\n",
      "B\n",
      "A\n",
      "C\n",
      "G\n",
      "D\n",
      "F\n",
      "Well done!\n"
     ]
    }
   ],
   "source": [
    "play(5,20,notes=[\"A\",\"B\",\"C\",\"D\",\"E\",\"F\",\"G\"],extensions=[\"\"])"
   ]
  },
  {
   "cell_type": "code",
   "execution_count": null,
   "metadata": {},
   "outputs": [],
   "source": [
    "\n",
    "\n",
    "\n",
    "\n",
    "\n",
    "\n",
    "\n",
    "\n",
    "\n",
    "\n",
    "\n",
    "\n",
    "\n",
    "\n",
    "\n",
    "\n"
   ]
  }
 ],
 "metadata": {
  "hide_input": false,
  "kernelspec": {
   "display_name": "Python 3",
   "language": "python",
   "name": "python3"
  },
  "language_info": {
   "codemirror_mode": {
    "name": "ipython",
    "version": 3
   },
   "file_extension": ".py",
   "mimetype": "text/x-python",
   "name": "python",
   "nbconvert_exporter": "python",
   "pygments_lexer": "ipython3",
   "version": "3.6.5"
  }
 },
 "nbformat": 4,
 "nbformat_minor": 2
}
