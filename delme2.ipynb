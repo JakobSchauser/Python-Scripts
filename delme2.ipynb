{
 "cells": [
  {
   "cell_type": "code",
   "execution_count": null,
   "id": "federal-activation",
   "metadata": {
    "ExecuteTime": {
     "start_time": "2021-04-08T19:01:11.736Z"
    }
   },
   "outputs": [
    {
     "data": {
      "application/vnd.jupyter.widget-view+json": {
       "model_id": "c4f887f9606d4dac8d1902a28d9ee36c",
       "version_major": 2,
       "version_minor": 0
      },
      "text/plain": [
       "  0%|          | 0/10000 [00:00<?, ?it/s]"
      ]
     },
     "metadata": {},
     "output_type": "display_data"
    },
    {
     "name": "stdout",
     "output_type": "stream",
     "text": [
      "Too fast at 10\n",
      "Too fast at 77\n",
      "Too fast at 79\n",
      "Too fast at 147\n",
      "Too fast at 173\n",
      "Too fast at 175\n",
      "Too fast at 211\n",
      "Too fast at 213\n",
      "Too fast at 215\n",
      "Too fast at 257\n",
      "Too fast at 267\n",
      "Too fast at 289\n",
      "Too fast at 291\n",
      "Too fast at 306\n",
      "Too fast at 332\n",
      "Too fast at 417\n",
      "Too fast at 442\n",
      "Too fast at 502\n",
      "Too fast at 568\n",
      "Too fast at 578\n",
      "Too fast at 606\n",
      "Too fast at 658\n",
      "Too fast at 660\n",
      "Too fast at 699\n",
      "Too fast at 735\n",
      "Too fast at 743\n",
      "Too fast at 745\n",
      "Too fast at 826\n",
      "Too fast at 828\n",
      "Too fast at 901\n",
      "Too fast at 910\n",
      "Too fast at 943\n",
      "Too fast at 945\n",
      "Too fast at 985\n",
      "Too fast at 992\n",
      "Too fast at 1000\n"
     ]
    }
   ],
   "source": [
    "import selenium\n",
    "from selenium import webdriver\n",
    "import time\n",
    "from tqdm.notebook import tqdm\n",
    "driver = webdriver.Chrome()\n",
    "\n",
    "for i in tqdm(range(10000)):\n",
    "    driver.get(\"https://interaktiv.mx.dk/simplevotes/get/11592\")\n",
    "    yes = driver.find_element_by_id(\"vote_yes\")\n",
    "    try: \n",
    "        yes.click()\n",
    "    except:\n",
    "        print(\"Too fast at\",i)\n",
    "    time.sleep(0.2)\n",
    "    driver.delete_all_cookies()\n",
    "    "
   ]
  },
  {
   "cell_type": "code",
   "execution_count": null,
   "id": "retired-plymouth",
   "metadata": {},
   "outputs": [],
   "source": []
  }
 ],
 "metadata": {
  "hide_input": false,
  "kernelspec": {
   "display_name": "Python 3",
   "language": "python",
   "name": "python3"
  },
  "toc": {
   "base_numbering": 1,
   "nav_menu": {},
   "number_sections": true,
   "sideBar": true,
   "skip_h1_title": false,
   "title_cell": "Table of Contents",
   "title_sidebar": "Contents",
   "toc_cell": false,
   "toc_position": {},
   "toc_section_display": true,
   "toc_window_display": false
  }
 },
 "nbformat": 4,
 "nbformat_minor": 5
}
