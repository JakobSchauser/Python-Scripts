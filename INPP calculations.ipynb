{
 "cells": [
  {
   "cell_type": "code",
   "execution_count": 6,
   "metadata": {
    "ExecuteTime": {
     "end_time": "2020-12-14T10:15:32.927668Z",
     "start_time": "2020-12-14T10:15:32.919689Z"
    }
   },
   "outputs": [],
   "source": [
    "import numpy as np\n",
    "import matplotlib.pyplot as plt\n",
    "\n",
    "Mn = 939.565 # MeV\n",
    "Mp = 938.272 # MeV\n",
    "me = 0.510998# MeV\n",
    "\n",
    "a_v = 15.67\n",
    "\n",
    "a_s = 17.23\n",
    "\n",
    "a_c = 0.714\n",
    "\n",
    "a_a = 93.15\n",
    "\n",
    "def Weizacker(A,Z,a_c_change = 1):    \n",
    "    N = A-Z\n",
    "    \n",
    "    if Z%2 == 0 and N %2 == 0:\n",
    "        delta = -11.2\n",
    "    elif A%2 == 1:\n",
    "        delta = 0\n",
    "    elif Z%2 == 1 and N %2 == 1:\n",
    "        delta = 11.2\n",
    "        \n",
    "    return N*Mn+Z*Mp+Z*me-a_v*A+a_s*A**(2/3)+a_c_change*a_c*Z**2*(A)**(-1/3) + a_a*(N-Z)**2/(4*A)+delta/(A)**0.5\n",
    "\n"
   ]
  },
  {
   "cell_type": "code",
   "execution_count": 7,
   "metadata": {
    "ExecuteTime": {
     "end_time": "2020-12-14T10:15:48.052228Z",
     "start_time": "2020-12-14T10:15:48.047242Z"
    }
   },
   "outputs": [
    {
     "name": "stdout",
     "output_type": "stream",
     "text": [
      "161.68502240764792\n"
     ]
    }
   ],
   "source": [
    "lh = Weizacker(235,92)\n",
    "rh = Weizacker(87,35) + Weizacker(145,57) + 3*Mn\n",
    "\n",
    "\n",
    "print(lh-rh)"
   ]
  },
  {
   "cell_type": "code",
   "execution_count": 21,
   "metadata": {
    "ExecuteTime": {
     "end_time": "2020-12-13T16:25:56.016029Z",
     "start_time": "2020-12-13T16:25:55.866491Z"
    }
   },
   "outputs": [
    {
     "data": {
      "text/plain": [
       "[<matplotlib.lines.Line2D at 0x1a07b21d198>]"
      ]
     },
     "execution_count": 21,
     "metadata": {},
     "output_type": "execute_result"
    },
    {
     "data": {
      "image/png": "[encoded data removed]",
      "text/plain": [
       "<Figure size 432x288 with 1 Axes>"
      ]
     },
     "metadata": {
      "needs_background": "light"
     },
     "output_type": "display_data"
    }
   ],
   "source": [
    "toamu = 931.49432\n",
    "\n",
    "vls = np.linspace(0.8,1.2,100)\n",
    "Zs = [z for z in range(45,52)]\n",
    "Values = [Weizacker(111,z)/toamu-toamu for z in Zs]\n",
    "plt.plot(Zs,Values,'.')"
   ]
  },
  {
   "cell_type": "code",
   "execution_count": 26,
   "metadata": {
    "ExecuteTime": {
     "end_time": "2020-12-13T16:38:31.831340Z",
     "start_time": "2020-12-13T16:38:31.826354Z"
    }
   },
   "outputs": [
    {
     "name": "stdout",
     "output_type": "stream",
     "text": [
      "0.7188116751503022 0.6739040826753824\n"
     ]
    }
   ],
   "source": [
    "A,Z,ZZ = 111,48,47\n",
    "M = Mp-Mn+me\n",
    "\n",
    "na = (A*(a_a-M)-a_a*(Z+ZZ))/(A**(2/3)*(Z+ZZ))\n",
    "\n",
    "print(na,(na-a_c)/a_c*100)"
   ]
  },
  {
   "cell_type": "code",
   "execution_count": 9,
   "metadata": {
    "ExecuteTime": {
     "end_time": "2020-12-14T10:49:46.942457Z",
     "start_time": "2020-12-14T10:49:46.933228Z"
    }
   },
   "outputs": [
    {
     "data": {
      "text/plain": [
       "1499.1296242864541"
      ]
     },
     "execution_count": 9,
     "metadata": {},
     "output_type": "execute_result"
    }
   ],
   "source": [
    "mkm = 493.677\n",
    "mkp = 493.677\n",
    "mn = 939.565\n",
    "mpi = 139.570\n",
    "\n",
    "mp = 938.272\n",
    "\n",
    "((mkm+mkp+mn)**2-(mpi**2+mp**2))/(2*mp)"
   ]
  }
 ],
 "metadata": {
  "hide_input": false,
  "kernelspec": {
   "display_name": "Python 3",
   "language": "python",
   "name": "python3"
  },
  "language_info": {
   "codemirror_mode": {
    "name": "ipython",
    "version": 3
   },
   "file_extension": ".py",
   "mimetype": "text/x-python",
   "name": "python",
   "nbconvert_exporter": "python",
   "pygments_lexer": "ipython3",
   "version": "3.6.10"
  },
  "toc": {
   "base_numbering": 1,
   "nav_menu": {},
   "number_sections": true,
   "sideBar": true,
   "skip_h1_title": false,
   "title_cell": "Table of Contents",
   "title_sidebar": "Contents",
   "toc_cell": false,
   "toc_position": {},
   "toc_section_display": true,
   "toc_window_display": false
  }
 },
 "nbformat": 4,
 "nbformat_minor": 4
}
