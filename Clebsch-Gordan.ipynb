{
 "cells": [
  {
   "cell_type": "code",
   "execution_count": 1,
   "metadata": {
    "ExecuteTime": {
     "end_time": "2021-06-02T12:05:55.264972Z",
     "start_time": "2021-06-02T12:05:54.019156Z"
    }
   },
   "outputs": [],
   "source": [
    "import sympy as sp\n",
    "import numpy as np\n",
    "sp.init_printing()\n",
    "\n",
    "\n",
    "def cp(j,m):\n",
    "    inner = (j+1+m)*(j-m)\n",
    "    if(isinstance(inner, int) or inner.is_integer()):\n",
    "        inner = int(inner)\n",
    "    return sp.sqrt(inner)\n",
    "def cm(j,m):\n",
    "    inner = (j+1-m)*(j+m)\n",
    "    if(isinstance(inner, int) or inner.is_integer()):\n",
    "        inner = int(inner)\n",
    "    return sp.sqrt(inner)\n",
    "\n",
    "def decomp(U1,U2):\n",
    "    J = U1[0]+U2[0]\n",
    "    M = U1[1]+U2[1]\n",
    "    C = cm(int(J),int(M))\n",
    "    c1 = (cm(*U1)/C)\n",
    "    c2 = (cm(*U2)/C)\n",
    "    print(cm(*U1))\n",
    "    print(C)\n",
    "    print(cm(*U1)/C)\n",
    "    return (c1,(U1[0],U1[1]-1),c2,(U2[0],U2[1]-1))\n",
    "\n",
    "def decompmm(m1,m2,j1,j2):\n",
    "    M = m1+m2\n",
    "    J = j1+j2\n",
    "    C = cm(int(J),int(M))\n",
    "    c1 = (cm(j1,m1)/C)\n",
    "    c2 = (cm(j2,m2)/C)\n",
    "    a = (c1,(m1-1,m2),c2,(m1,m2-1))\n",
    "    s = str((J,M-1)) + \":\"\n",
    "    print(s)\n",
    "    return a\n",
    "\n",
    "def multi(jj,mms = None):\n",
    "    J = sum(jj)\n",
    "    M = J\n",
    "    if not mms:\n",
    "        mms = [[1,*[j for j in jj]]]\n",
    "    steps = [mms]\n",
    "    return step(jj,mms,J,M,steps)\n",
    "        \n",
    "\n",
    "def step(jj,mms,J,M,steps):\n",
    "    C = cm(int(J),int(M))\n",
    "    M -= 1\n",
    "    nmms = []\n",
    "    for mm in mms:\n",
    "        if(mm[1]-1>=-J):\n",
    "            c = cm(jj[0],mm[1])/C\n",
    "            nmms.append([sp.simplify(c*mm[0]),mm[1]-1,mm[2]])\n",
    "        if(mm[2]-1>=-J):\n",
    "            c = cm(jj[1],mm[2])/C\n",
    "            nmms.append([sp.simplify(c*mm[0]),mm[1],mm[2]-1])\n",
    "    \n",
    "    todel = []\n",
    "    for i in range(len(nmms)):\n",
    "        for j in range(len(nmms)-1):\n",
    "            if(i!=j) and i not in todel:\n",
    "                if(nmms[i][1]==nmms[j][1] and nmms[i][2]==nmms[j][2]):\n",
    "                    nmms[i][0] += nmms[j][0]\n",
    "                    todel.append(j)\n",
    " \n",
    "        if(nmms[i][0]==0 and i not in todel):\n",
    "            todel.append(i)\n",
    "    count = 0\n",
    "    for i in todel:\n",
    "        del nmms[i-count]\n",
    "        count +=1\n",
    "    \n",
    "    steps.append(nmms)\n",
    "    if(M==-J):\n",
    "        return steps\n",
    "    else:\n",
    "        return step(jj,nmms,J,M,steps)\n",
    "    \n",
    "def printlower(js):\n",
    "    J = sum(js)\n",
    "    M = J\n",
    "    for i in multi(js):\n",
    "        print(\"|\"+str(J)+\",\"+str(M) +\">\"+ \" = \" + str(i))\n",
    "        M-= 1\n",
    "        "
   ]
  },
  {
   "cell_type": "code",
   "execution_count": 2,
   "metadata": {
    "ExecuteTime": {
     "end_time": "2021-06-02T12:05:57.655324Z",
     "start_time": "2021-06-02T12:05:57.284600Z"
    }
   },
   "outputs": [
    {
     "name": "stdout",
     "output_type": "stream",
     "text": [
      "|2,2> = [[1, 1, 1]]\n",
      "|2,1> = [[sqrt(2)/2, 0, 1], [sqrt(2)/2, 1, 0]]\n",
      "|2,0> = [[sqrt(6)/6, -1, 1], [sqrt(6)/3, 0, 0], [sqrt(6)/6, 1, -1]]\n",
      "|2,-1> = [[sqrt(2)/2, -1, 0], [sqrt(2)/2, 0, -1]]\n",
      "|2,-2> = [[1, -1, -1]]\n"
     ]
    }
   ],
   "source": [
    "# js = (j,j')\n",
    "js = (1,1)\n",
    "\n",
    "printlower(js)"
   ]
  }
 ],
 "metadata": {
  "hide_input": false,
  "kernelspec": {
   "display_name": "Python 3",
   "language": "python",
   "name": "python3"
  },
  "language_info": {
   "codemirror_mode": {
    "name": "ipython",
    "version": 3
   },
   "file_extension": ".py",
   "mimetype": "text/x-python",
   "name": "python",
   "nbconvert_exporter": "python",
   "pygments_lexer": "ipython3",
   "version": "3.6.12"
  },
  "toc": {
   "base_numbering": 1,
   "nav_menu": {},
   "number_sections": true,
   "sideBar": true,
   "skip_h1_title": false,
   "title_cell": "Table of Contents",
   "title_sidebar": "Contents",
   "toc_cell": false,
   "toc_position": {},
   "toc_section_display": true,
   "toc_window_display": false
  }
 },
 "nbformat": 4,
 "nbformat_minor": 2
}
