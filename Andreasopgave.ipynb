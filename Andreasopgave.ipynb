{
 "cells": [
  {
   "cell_type": "code",
   "execution_count": 11,
   "metadata": {
    "ExecuteTime": {
     "end_time": "2020-05-10T14:20:22.078594Z",
     "start_time": "2020-05-10T14:20:21.609089Z"
    }
   },
   "outputs": [],
   "source": [
    "import numpy as np\n",
    "import matplotlib.pyplot as plt\n",
    "t = np.arange(0,1.65,0.05)\n",
    "s = [0.177,0.197,0.222,0.250,0.283,0.317,0.353,0.392,0.432,0.473,0.519,0.570,0.622,0.675,0.731,0.763,0.784,0.816,0.831,0.858,0.893,0.910,0.934,0.959,0.992,1.016,1.050,1.074,1.096,1.118,1.140,1.162,1.188]\n",
    "s = np.array(s)"
   ]
  },
  {
   "cell_type": "code",
   "execution_count": 20,
   "metadata": {
    "ExecuteTime": {
     "end_time": "2020-05-10T14:23:05.079399Z",
     "start_time": "2020-05-10T14:23:04.807913Z"
    }
   },
   "outputs": [
    {
     "data": {
      "text/plain": [
       "[<matplotlib.lines.Line2D at 0x158df1bae48>]"
      ]
     },
     "execution_count": 20,
     "metadata": {},
     "output_type": "execute_result"
    },
    {
     "data": {
      "image/png": "[encoded data removed]",
      "text/plain": [
       "<Figure size 432x288 with 1 Axes>"
      ]
     },
     "metadata": {},
     "output_type": "display_data"
    },
    {
     "data": {
      "image/png": "[encoded data removed]",
      "text/plain": [
       "<Figure size 432x288 with 1 Axes>"
      ]
     },
     "metadata": {},
     "output_type": "display_data"
    }
   ],
   "source": [
    "v = (s - np.roll(s,1))[1:]\n",
    "a = (v-np.roll())\n",
    "plt.plot(t,s,'.')\n",
    "plt.figure()\n",
    "plt.plot(t[1:],v,'.')"
   ]
  },
  {
   "cell_type": "code",
   "execution_count": 27,
   "metadata": {
    "ExecuteTime": {
     "end_time": "2020-05-10T14:28:45.560737Z",
     "start_time": "2020-05-10T14:28:45.555785Z"
    }
   },
   "outputs": [
    {
     "data": {
      "text/plain": [
       "0.10348799999999979"
      ]
     },
     "execution_count": 27,
     "metadata": {},
     "output_type": "execute_result"
    }
   ],
   "source": [
    "0.5*0.165*((0.731-0.675)/0.05)**2"
   ]
  }
 ],
 "metadata": {
  "hide_input": false,
  "kernelspec": {
   "display_name": "Python 3",
   "language": "python",
   "name": "python3"
  },
  "language_info": {
   "codemirror_mode": {
    "name": "ipython",
    "version": 3
   },
   "file_extension": ".py",
   "mimetype": "text/x-python",
   "name": "python",
   "nbconvert_exporter": "python",
   "pygments_lexer": "ipython3",
   "version": "3.6.5"
  }
 },
 "nbformat": 4,
 "nbformat_minor": 2
}
