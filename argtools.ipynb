{
 "cells": [
  {
   "cell_type": "code",
   "execution_count": 1,
   "id": "020a5e7a",
   "metadata": {
    "ExecuteTime": {
     "end_time": "2021-12-30T15:06:30.954392Z",
     "start_time": "2021-12-30T15:06:28.079002Z"
    }
   },
   "outputs": [],
   "source": [
    "import numpy as np\n",
    "import matplotlib.pyplot as plt\n",
    "from PIL import Image\n",
    "import requests\n",
    "import json\n",
    "import socket\n",
    "from requests import get\n",
    "from sklearn.neighbors import KNeighborsClassifier"
   ]
  },
  {
   "cell_type": "code",
   "execution_count": 6,
   "id": "8523a8b7",
   "metadata": {
    "ExecuteTime": {
     "end_time": "2021-12-30T15:45:09.476418Z",
     "start_time": "2021-12-30T15:45:09.413555Z"
    }
   },
   "outputs": [
    {
     "data": {
      "text/plain": [
       "[(2, 3),\n",
       " (1, 5),\n",
       " (3, 2),\n",
       " (3, 2),\n",
       " (3, 5),\n",
       " (0, 0),\n",
       " (2, 1),\n",
       " (4, 3),\n",
       " (2, 4),\n",
       " (1, 5),\n",
       " (3, 4),\n",
       " (1, 4),\n",
       " (4, 4)]"
      ]
     },
     "execution_count": 6,
     "metadata": {},
     "output_type": "execute_result"
    }
   ],
   "source": [
    "def text2tap(text):\n",
    "    tap = []\n",
    "    for c in text.lower():\n",
    "        if c == \" \":\n",
    "            tap.append((0,0))\n",
    "            continue\n",
    "        val = ord(c) - ord('a')\n",
    "        right = val%5\n",
    "        left = int(np.floor(val/5)%5)\n",
    "        tap.append((left+1,right+1))\n",
    "    return tap\n",
    "\n",
    "def tap2text(tap):\n",
    "    text = []\n",
    "    for t in tap:\n",
    "        v = (t[0]-1)*5+t[1]-1\n",
    "        if v == -6:\n",
    "            v = ord(\" \") - ord('a')\n",
    "        text.append(v)\n",
    "    return \"\".join([chr(value + ord('a')) for value in text])\n",
    "    \n",
    "\n",
    "tap = text2tap(\"Hello friends\")\n",
    "\n",
    "# tap2text(tap)\n",
    "tap\n"
   ]
  },
  {
   "cell_type": "code",
   "execution_count": 350,
   "id": "2735c224",
   "metadata": {
    "ExecuteTime": {
     "end_time": "2021-12-18T17:59:56.078028Z",
     "start_time": "2021-12-18T17:59:55.929163Z"
    }
   },
   "outputs": [
    {
     "name": "stderr",
     "output_type": "stream",
     "text": [
      "C:\\Users\\jakob\\Anaconda3\\lib\\site-packages\\ipykernel_launcher.py:42: VisibleDeprecationWarning: Creating an ndarray from ragged nested sequences (which is a list-or-tuple of lists-or-tuples-or ndarrays with different lengths or shapes) is deprecated. If you meant to do this, you must specify 'dtype=object' when creating the ndarray\n"
     ]
    },
    {
     "data": {
      "image/png": "[encoded data removed]",
      "text/plain": [
       "<Figure size 1008x108 with 1 Axes>"
      ]
     },
     "metadata": {
      "needs_background": "light"
     },
     "output_type": "display_data"
    }
   ],
   "source": [
    "def n2points(n):\n",
    "    top = np.array([[0,6],[1,6],[2,6],[3,6]])\n",
    "    bottom = np.array([[0,0],[1,0],[2,0],[3,0]])\n",
    "    mid = np.array([[0,3],[1,3],[2,3],[3,3]])\n",
    "    left = np.array([[0,0],[0,1],[0,2],[0,3],[0,4],[0,5],[0,6]])\n",
    "    right = np.array([[3,0],[3,1],[3,2],[3,3],[3,4],[3,5],[3,6]])\n",
    "    topright = np.array([[3,4],[3,5],[3,6]])\n",
    "    topleft = np.array([[0,4],[0,5],[0,6]])\n",
    "    bottomright = np.array([[3,0],[3,1],[3,2],[3,3]])\n",
    "    bottomleft = np.array([[0,0],[0,1],[0,2],[0,3]])\n",
    "\n",
    "    if n == 0:\n",
    "        return np.concatenate((top,bottom,left,right))\n",
    "    if n == 1:\n",
    "        return right\n",
    "    if n == 2:\n",
    "        return np.concatenate((top,topright,mid,bottomleft,bottom))\n",
    "    if n == 3:\n",
    "        return np.concatenate((right,top,mid,bottom))\n",
    "    if n == 4:\n",
    "        return np.concatenate((right,mid,topright,topleft))\n",
    "    if n == 5:\n",
    "        return np.concatenate((top, topleft,mid, bottomright,bottom))\n",
    "    if n == 6:\n",
    "        return np.concatenate((left,bottom,mid,bottomright))\n",
    "    if n == 7:\n",
    "        return np.concatenate((right,top))\n",
    "    if n == 8:\n",
    "        return np.concatenate((top,bottom,left,right,mid))\n",
    "    if n == 9:\n",
    "        return np.concatenate((top,right,mid,topright,topleft))\n",
    "     \n",
    "def text2points(text):\n",
    "    points = []\n",
    "    for i,c in enumerate(text):\n",
    "        l = n2points(int(c))\n",
    "        scl = np.ones(len(l))*7*i\n",
    "        scl = np.stack((scl,np.ones(len(l))))\n",
    "        \n",
    "        new = l+scl.T\n",
    "        points.append(new)\n",
    "    return np.concatenate(np.array(points))\n",
    "\n",
    "\n",
    "text = \"1234567890\"\n",
    "\n",
    "out = text2points(text)\n",
    "\n",
    "# out = np.power(out,1/3)*np.random.choice([-1,1],size = out.shape)\n",
    "\n",
    "fig,axs = plt.subplots(figsize= (14,1.5))\n",
    "axs.scatter(out[:,0],out[:,1])\n",
    "plt.show()   \n"
   ]
  },
  {
   "cell_type": "code",
   "execution_count": 342,
   "id": "847ad5e0",
   "metadata": {
    "ExecuteTime": {
     "end_time": "2021-12-18T17:55:28.764412Z",
     "start_time": "2021-12-18T17:55:28.603808Z"
    }
   },
   "outputs": [
    {
     "data": {
      "text/plain": [
       "[<matplotlib.lines.Line2D at 0x1d5f04ec7f0>]"
      ]
     },
     "execution_count": 342,
     "metadata": {},
     "output_type": "execute_result"
    },
    {
     "data": {
      "image/png": "[encoded data removed]",
      "text/plain": [
       "<Figure size 432x288 with 1 Axes>"
      ]
     },
     "metadata": {
      "needs_background": "light"
     },
     "output_type": "display_data"
    }
   ],
   "source": [
    "a = Image.open(\"C:/Users/jakob/Downloads/randomqr.png\")    \n",
    "\n",
    "def make_white_noise():\n",
    "    # w, h = int(a.width/50), int(a.height/50)\n",
    "    w,h = 35, 35\n",
    "    ims = []\n",
    "    for i in range(20):\n",
    "        arr = np.random.choice([0,255],(w,h))\n",
    "        img = PIL.Image.fromarray(arr)\n",
    "        ims.append(img)\n",
    "        # SAVE IMAGE HERE\n",
    "    return ims\n",
    "\n",
    "ims = make_white_noise()\n",
    "mns = [np.mean(a)]\n",
    "for i in ims:\n",
    "    mns.append(np.mean(i))\n",
    "plt.plot(mns)"
   ]
  },
  {
   "cell_type": "code",
   "execution_count": 353,
   "id": "2f99b4ff",
   "metadata": {
    "ExecuteTime": {
     "end_time": "2021-12-18T18:01:01.969537Z",
     "start_time": "2021-12-18T18:01:01.407883Z"
    }
   },
   "outputs": [
    {
     "data": {
      "text/plain": [
       "'CopenhagenDenmark'"
      ]
     },
     "execution_count": 353,
     "metadata": {},
     "output_type": "execute_result"
    }
   ],
   "source": [
    "def get_location():\n",
    "    ip_address = get('https://api.ipify.org').content.decode('utf8')\n",
    "    # print('My public IP address is: {}'.format(ip_address))\n",
    "\n",
    "    # URL to send the request to\n",
    "    request_url = 'https://geolocation-db.com/jsonp/' + ip_address\n",
    "    # Send request and decode the result\n",
    "    response = requests.get(request_url)\n",
    "    result = response.content.decode()\n",
    "    # Clean the returned string so it just contains the dictionary data for the IP address\n",
    "    result = result.split(\"(\")[1].strip(\")\")\n",
    "    # Convert this data into a dictionary\n",
    "    result  = json.loads(result)\n",
    "    # print(result)\n",
    "\n",
    "    loc = result['city']+result['country_name']\n",
    "    return loc\n",
    "\n",
    "get_location()"
   ]
  },
  {
   "cell_type": "code",
   "execution_count": 320,
   "id": "2ba40862",
   "metadata": {
    "ExecuteTime": {
     "end_time": "2021-12-18T16:54:40.140460Z",
     "start_time": "2021-12-18T16:54:40.131496Z"
    }
   },
   "outputs": [
    {
     "data": {
      "text/plain": [
       "'caggattcgtataatcggatgcaggatgtgcctatggcg'"
      ]
     },
     "execution_count": 320,
     "metadata": {},
     "output_type": "execute_result"
    }
   ],
   "source": [
    "def str2dna(string):\n",
    "    letters = ['a','c','g','t']   \n",
    "    dna = \"\"\n",
    "    for c in string.lower():\n",
    "        v = ord(c)#-ord('a')\n",
    "        \n",
    "        s = [letters[k%4] for k in [abs(int(v/(4**i))) for i in range(3)]]\n",
    "        dna += \"\".join(s)\n",
    "    return dna\n",
    "\n",
    "str2dna(\"argspilarnulf\")\n"
   ]
  },
  {
   "cell_type": "code",
   "execution_count": 329,
   "id": "c7fb5354",
   "metadata": {
    "ExecuteTime": {
     "end_time": "2021-12-18T17:26:02.420383Z",
     "start_time": "2021-12-18T17:24:12.835564Z"
    }
   },
   "outputs": [],
   "source": [
    "def ouija_clipboard():\n",
    "    # hello goodbye awaken when who where  \n",
    "    state = \"sleep\"\n",
    "\n",
    "    while True:\n",
    "        pp =  pyperclip.paste()\n",
    "        if state == \"sleep\" and pp == \"awaken\":\n",
    "            pyperclip.copy(\"I have been awakened\")\n",
    "            state = \"awake\"\n",
    "        elif state == \"awake\" and pp == \"hello\":\n",
    "            pyperclip.copy(\"Hello my dear friend\")\n",
    "            state = \"talking\"\n",
    "        elif state == \"talking\":\n",
    "            if pp == \"where\":\n",
    "                pyperclip.copy(\"In Zerzura - what should have been the capital of the world\")\n",
    "            if pp == \"who\":\n",
    "                pyperclip.copy(\"Arnulf give me some flavour here.\")\n",
    "            if pp == \"when\":\n",
    "                pyperclip.copy(\"Before some wars, after some others. You call it 1909.\")\n",
    "            if pp == \"goodbye\":\n",
    "                pyperclip.copy(\"I will return to my slumber\")\n",
    "                break\n",
    "        time.sleep(1)\n"
   ]
  }
 ],
 "metadata": {
  "hide_input": false,
  "kernelspec": {
   "display_name": "Python 3",
   "language": "python",
   "name": "python3"
  },
  "language_info": {
   "codemirror_mode": {
    "name": "ipython",
    "version": 3
   },
   "file_extension": ".py",
   "mimetype": "text/x-python",
   "name": "python",
   "nbconvert_exporter": "python",
   "pygments_lexer": "ipython3",
   "version": "3.6.12"
  },
  "toc": {
   "base_numbering": 1,
   "nav_menu": {},
   "number_sections": true,
   "sideBar": true,
   "skip_h1_title": false,
   "title_cell": "Table of Contents",
   "title_sidebar": "Contents",
   "toc_cell": false,
   "toc_position": {},
   "toc_section_display": true,
   "toc_window_display": false
  }
 },
 "nbformat": 4,
 "nbformat_minor": 5
}
