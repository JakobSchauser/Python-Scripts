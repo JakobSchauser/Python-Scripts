{
 "cells": [
  {
   "cell_type": "code",
   "execution_count": 17,
   "id": "11369ae1",
   "metadata": {
    "ExecuteTime": {
     "end_time": "2021-12-18T10:27:47.357924Z",
     "start_time": "2021-12-18T10:27:47.348936Z"
    }
   },
   "outputs": [
    {
     "data": {
      "text/plain": [
       "'hello'"
      ]
     },
     "execution_count": 17,
     "metadata": {},
     "output_type": "execute_result"
    }
   ],
   "source": [
    "import numpy as np\n",
    "import matplotlib.pyplot as plt\n",
    "\n",
    "\n",
    "\n",
    "def text2tap(text):\n",
    "    tap = []\n",
    "    for c in text.lower():\n",
    "        val = ord(c) - ord('a')\n",
    "        right = val%5\n",
    "        left = int(np.floor(val/5)%5)\n",
    "        tap.append((left+1,right+1))\n",
    "    return tap\n",
    "\n",
    "def tap2text(tap):\n",
    "    text = []\n",
    "    for t in tap:\n",
    "        text.append((t[0]-1)*5+t[1]-1)\n",
    "    return \"\".join([chr(value + ord('a')) for value in text])\n",
    "    \n",
    "\n",
    "tap = text2tap(\"hello\")\n",
    "tap2text(tap)"
   ]
  },
  {
   "cell_type": "code",
   "execution_count": 59,
   "id": "3fbd6925",
   "metadata": {
    "ExecuteTime": {
     "end_time": "2021-12-18T11:27:08.307849Z",
     "start_time": "2021-12-18T11:27:08.161126Z"
    }
   },
   "outputs": [
    {
     "name": "stderr",
     "output_type": "stream",
     "text": [
      "C:\\Users\\jakob\\Anaconda3\\lib\\site-packages\\ipykernel_launcher.py:44: VisibleDeprecationWarning: Creating an ndarray from ragged nested sequences (which is a list-or-tuple of lists-or-tuples-or ndarrays with different lengths or shapes) is deprecated. If you meant to do this, you must specify 'dtype=object' when creating the ndarray\n"
     ]
    },
    {
     "data": {
      "text/plain": [
       "<matplotlib.collections.PathCollection at 0x1d5ed1ce7b8>"
      ]
     },
     "execution_count": 59,
     "metadata": {},
     "output_type": "execute_result"
    },
    {
     "data": {
      "image/png": "[encoded data removed]",
      "text/plain": [
       "<Figure size 1008x144 with 1 Axes>"
      ]
     },
     "metadata": {
      "needs_background": "light"
     },
     "output_type": "display_data"
    }
   ],
   "source": [
    "top = np.array([[0,6],[1,6],[2,6],[3,6]])\n",
    "bottom = np.array([[0,0],[1,0],[2,0],[3,0]])\n",
    "mid = np.array([[0,3],[1,3],[2,3],[3,3]])\n",
    "left = np.array([[0,0],[0,1],[0,2],[0,3],[0,4],[0,5],[0,6]])\n",
    "right = np.array([[3,0],[3,1],[3,2],[3,3],[3,4],[3,5],[3,6]])\n",
    "topright = np.array([[3,4],[3,5],[3,6]])\n",
    "topleft = np.array([[0,4],[0,5],[0,6]])\n",
    "bottomright = np.array([[3,0],[3,1],[3,2],[3,3]])\n",
    "bottomleft = np.array([[0,0],[0,1],[0,2],[0,3]])\n",
    "\n",
    "\n",
    "\n",
    "def n2points(n):\n",
    "    if n == 0:\n",
    "        return np.concatenate((top,bottom,left,right))\n",
    "    if n == 1:\n",
    "        return right\n",
    "    if n == 2:\n",
    "        return np.concatenate((top,topright,mid,bottomleft,bottom))\n",
    "    if n == 3:\n",
    "        return np.concatenate((right,top,mid,bottom))\n",
    "    if n == 4:\n",
    "        return np.concatenate((right,mid,topright,topleft))\n",
    "    if n == 5:\n",
    "        return np.concatenate((top, topleft,mid, bottomright,bottom))\n",
    "    if n == 6:\n",
    "        return np.concatenate((left,bottom,mid,bottomright))\n",
    "    if n == 7:\n",
    "        return np.concatenate((right,top))\n",
    "    if n == 8:\n",
    "        return np.concatenate((top,bottom,left,right,mid))\n",
    "    if n == 9:\n",
    "        return np.concatenate((top,right,mid,topright,topleft))\n",
    "     \n",
    "def text2points(text):\n",
    "    points = []\n",
    "    for i,c in enumerate(text):\n",
    "        l = n2points(int(c))\n",
    "        scl = np.ones(len(l))*7*i\n",
    "        scl = np.stack((scl,np.zeros(len(l))))\n",
    "        \n",
    "        new = l+scl.T\n",
    "        points.append(new)\n",
    "    return np.concatenate(np.array(points))\n",
    "\n",
    "\n",
    "text = \"1234567890\"\n",
    "\n",
    "out = text2points(text)\n",
    "fig,axs = plt.subplots(figsize= (14,2))\n",
    "axs.scatter(out[:,0],out[:,1])\n",
    "\n",
    "        "
   ]
  }
 ],
 "metadata": {
  "hide_input": false,
  "kernelspec": {
   "display_name": "Python 3",
   "language": "python",
   "name": "python3"
  },
  "language_info": {
   "codemirror_mode": {
    "name": "ipython",
    "version": 3
   },
   "file_extension": ".py",
   "mimetype": "text/x-python",
   "name": "python",
   "nbconvert_exporter": "python",
   "pygments_lexer": "ipython3",
   "version": "3.6.12"
  },
  "toc": {
   "base_numbering": 1,
   "nav_menu": {},
   "number_sections": true,
   "sideBar": true,
   "skip_h1_title": false,
   "title_cell": "Table of Contents",
   "title_sidebar": "Contents",
   "toc_cell": false,
   "toc_position": {},
   "toc_section_display": true,
   "toc_window_display": false
  }
 },
 "nbformat": 4,
 "nbformat_minor": 5
}
