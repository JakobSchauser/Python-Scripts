{
 "cells": [
  {
   "cell_type": "code",
   "execution_count": 2,
   "metadata": {
    "ExecuteTime": {
     "end_time": "2020-12-05T15:28:08.176697Z",
     "start_time": "2020-12-05T15:28:08.167147Z"
    }
   },
   "outputs": [
    {
     "ename": "SyntaxError",
     "evalue": "'break' outside loop (<ipython-input-2-0fbb02e3acc9>, line 6)",
     "output_type": "error",
     "traceback": [
      "\u001b[1;36m  File \u001b[1;32m\"<ipython-input-2-0fbb02e3acc9>\"\u001b[1;36m, line \u001b[1;32m6\u001b[0m\n\u001b[1;33m    n, w,h = inp.split(\" \")\u001b[0m\n\u001b[1;37m           ^\u001b[0m\n\u001b[1;31mSyntaxError\u001b[0m\u001b[1;31m:\u001b[0m 'break' outside loop\n"
     ]
    }
   ],
   "source": [
    "# Sibice\n",
    "\n",
    "inp = input()\n",
    "\n",
    "n, w,h = inp.split(\" \")\n",
    "\n",
    "l = (int(w)**2+int(h)**2)\n",
    "for i in range(int(n)):\n",
    "    matchlen = int(input())\n",
    "    if(matchlen*matchlen<=l):\n",
    "        print(\"DA\")\n",
    "    else:\n",
    "        print(\"NE\")"
   ]
  },
  {
   "cell_type": "code",
   "execution_count": null,
   "metadata": {},
   "outputs": [],
   "source": [
    "# Watchdog\n",
    "\n",
    "inp = input()\n",
    "    \n",
    "\n",
    "\n",
    "def dist_to_edge(px,py,S):\n",
    "    dx, dy = S-px, S-py\n",
    "\n",
    "    return min(min(px,dx),min(py,dy))\n",
    "\n",
    "def dist_to_point(x,y,px,py):\n",
    "    \n",
    "    return (x-px)**2 + (y-py)**2\n",
    "\n",
    "for _ in range(int(inp)):\n",
    "    \n",
    "    S, H = [int(i) for i in input().split(\" \")]\n",
    "    \n",
    "    points = []\n",
    "    \n",
    "    for i in range(H):\n",
    "        points.append([int(i) for i in input().split(\" \")])\n",
    "    \n",
    "    possiblilities = []\n",
    "    \n",
    "    for y in range(S):\n",
    "        for x in range(S):\n",
    "            \n",
    "            d_edge = dist_to_edge(x,y,S)\n",
    "            \n",
    "            canadd = True\n",
    "            for p in points:\n",
    "                if(x == p[0] and y == p[1]):\n",
    "                    canadd = False\n",
    "                    break\n",
    "                d_point = dist_to_point(x,y,p[0],p[1])\n",
    "                \n",
    "                if(d_edge**2 < d_point):\n",
    "                    canadd = False\n",
    "                    break\n",
    "                    \n",
    "            if canadd:\n",
    "                possiblilities.append([x,y])\n",
    "                \n",
    "    if(len(possiblilities)==0):\n",
    "        print(\"poodle\")\n",
    "        continue\n",
    "   \n",
    "    lowest = [S,S]\n",
    "    \n",
    "    for p in possiblilities:\n",
    "        if p[0] < lowest[0]:\n",
    "            lowest = p\n",
    "            continue\n",
    "        if p[0] == lowest[0]:\n",
    "            if p[1] < lowest[1]:\n",
    "                lowest = p\n",
    "    \n",
    "    print(lowest[0],lowest[1])\n",
    "    "
   ]
  },
  {
   "cell_type": "code",
   "execution_count": 8,
   "metadata": {
    "ExecuteTime": {
     "end_time": "2020-12-05T15:50:18.917812Z",
     "start_time": "2020-12-05T15:50:12.654923Z"
    }
   },
   "outputs": [
    {
     "name": "stdout",
     "output_type": "stream",
     "text": [
      "20 4\n",
      "5\n",
      "10\n",
      "12\n",
      "16\n",
      "0\n",
      "1\n",
      "2\n",
      "3\n",
      "4\n",
      "6\n",
      "7\n",
      "8\n",
      "9\n",
      "11\n",
      "13\n",
      "14\n",
      "15\n",
      "17\n",
      "18\n",
      "19\n",
      "Mario got 4 of the dangerous obstacles.\n"
     ]
    }
   ],
   "source": [
    "# Saving Princess Peach\n",
    "\n",
    "N, foundN = input().split(\" \")\n",
    "\n",
    "obst = set([i for i in range(int(N))])\n",
    "foundObst = [None]*int(foundN)\n",
    "for i in range(int(foundN)):\n",
    "    foundObst[i] = int(input())\n",
    "\n",
    "foundObst = set(foundObst)\n",
    "\n",
    "obst = obst.difference(foundObst)\n",
    "for obs in obst:\n",
    "    print(obs)\n",
    "print(\"Mario got \"+str(len(foundObst))+\" of the dangerous obstacles.\")"
   ]
  }
 ],
 "metadata": {
  "hide_input": false,
  "kernelspec": {
   "display_name": "Python 3",
   "language": "python",
   "name": "python3"
  },
  "language_info": {
   "codemirror_mode": {
    "name": "ipython",
    "version": 3
   },
   "file_extension": ".py",
   "mimetype": "text/x-python",
   "name": "python",
   "nbconvert_exporter": "python",
   "pygments_lexer": "ipython3",
   "version": "3.6.10"
  },
  "toc": {
   "base_numbering": 1,
   "nav_menu": {},
   "number_sections": true,
   "sideBar": true,
   "skip_h1_title": false,
   "title_cell": "Table of Contents",
   "title_sidebar": "Contents",
   "toc_cell": false,
   "toc_position": {},
   "toc_section_display": true,
   "toc_window_display": false
  }
 },
 "nbformat": 4,
 "nbformat_minor": 4
}
