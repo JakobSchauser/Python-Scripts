{
 "cells": [
  {
   "cell_type": "code",
   "execution_count": 2,
   "id": "revised-papua",
   "metadata": {
    "ExecuteTime": {
     "end_time": "2021-08-05T08:30:15.449003Z",
     "start_time": "2021-08-05T08:30:15.428913Z"
    }
   },
   "outputs": [],
   "source": [
    "import numpy as np\n",
    "import random\n",
    "import string\n"
   ]
  },
  {
   "cell_type": "code",
   "execution_count": 2,
   "id": "governing-luther",
   "metadata": {
    "ExecuteTime": {
     "end_time": "2021-08-01T10:50:58.999721Z",
     "start_time": "2021-08-01T10:50:58.898872Z"
    }
   },
   "outputs": [],
   "source": [
    "def generate_cable_data(name = \"\"):\n",
    "    \n",
    "    choices = string.ascii_lowercase[:16]\n",
    "    ts = \"\"\n",
    "    for i in range(10000):\n",
    "        r = random.choice([\"r\",\"s\",\"c\"])\n",
    "        t = r\n",
    "        if r == \"r\":\n",
    "            t += str(random.randint(0,15)) + \",\"\n",
    "        elif r == \"s\":\n",
    "            t += str(random.randint(0,15)) + \"/\" + str(random.randint(0,15)) + \",\"\n",
    "        else:\n",
    "            t += str(random.choice(choices)) + \"/\" +  str(random.choice(choices)) + \",\"\n",
    "            \n",
    "        ts += t\n",
    "    with open(\"connect_cables\"+ name + \".txt\",\"w\") as fo:\n",
    "        fo.write(ts[:-1])\n",
    "    \n",
    "generate_cable_data()"
   ]
  },
  {
   "cell_type": "code",
   "execution_count": 8,
   "id": "median-nickname",
   "metadata": {
    "ExecuteTime": {
     "end_time": "2021-08-05T08:47:48.757308Z",
     "start_time": "2021-08-05T08:47:37.148191Z"
    }
   },
   "outputs": [
    {
     "data": {
      "text/plain": [
       "'abfkeoghijclndmp'"
      ]
     },
     "execution_count": 8,
     "metadata": {},
     "output_type": "execute_result"
    }
   ],
   "source": [
    "# inp = np.genfromtxt(\"connect_cables.txt\",delimiter=\",\",dtype = str)\n",
    "inp = np.genfromtxt(\"connect_cables.txt\",delimiter=\",\",dtype = str)\n",
    "\n",
    "\n",
    "def pretty(aaa):\n",
    "    ans = \"\"\n",
    "    for a in aaa:\n",
    "        ans += a\n",
    "    return ans \n",
    "\n",
    "def do_first():\n",
    "    row = np.array([i for i in string.ascii_lowercase][:16])      \n",
    "\n",
    "    for i in inp:\n",
    "        if i[0] == \"r\":\n",
    "            row = np.roll(row,int(i[1:]))\n",
    "        if i[0] == \"s\":\n",
    "            a,b = i[1:].split(\"/\")\n",
    "            s = row[int(a)]\n",
    "            row[int(a)] = row[int(b)]\n",
    "            row[int(b)] = s\n",
    "        if i[0] == \"c\":\n",
    "            a,b = i[1:].split(\"/\")\n",
    "            ind = (np.where(row == str(a)[0]),np.where(row == b)[0])\n",
    "            s = row[int(ind[0][0])]\n",
    "            row[int(ind[0][0])] = row[int(ind[1][0])]\n",
    "            row[int(ind[1][0])] = s\n",
    "\n",
    "\n",
    "\n",
    "    return pretty(row)\n",
    "\n",
    "def do_second():\n",
    "    row = np.array([i for i in string.ascii_lowercase][:16])      \n",
    "    havehad = []\n",
    "    \n",
    "    for k in range(99999):\n",
    "        if pretty(row) in havehad:\n",
    "            loop = k\n",
    "            break\n",
    "        havehad.append(pretty(row))\n",
    "        for i in inp:\n",
    "            if i[0] == \"r\":\n",
    "                row = np.roll(row,int(i[1:]))\n",
    "            if i[0] == \"s\":\n",
    "                a,b = i[1:].split(\"/\")\n",
    "                s = row[int(a)]\n",
    "                row[int(a)] = row[int(b)]\n",
    "                row[int(b)] = s\n",
    "            if i[0] == \"c\":\n",
    "                a,b = i[1:].split(\"/\")\n",
    "                ind = (np.where(row == str(a)[0]),np.where(row == b)[0])\n",
    "                s = row[int(ind[0][0])]\n",
    "                row[int(ind[0][0])] = row[int(ind[1][0])]\n",
    "                row[int(ind[1][0])] = s\n",
    "    \n",
    "    for i in range(int(1e9)%loop):\n",
    "        for i in inp:\n",
    "            if i[0] == \"r\":\n",
    "                row = np.roll(row,int(i[1:]))\n",
    "            if i[0] == \"s\":\n",
    "                a,b = i[1:].split(\"/\")\n",
    "                s = row[int(a)]\n",
    "                row[int(a)] = row[int(b)]\n",
    "                row[int(b)] = s\n",
    "            if i[0] == \"c\":\n",
    "                a,b = i[1:].split(\"/\")\n",
    "                ind = (np.where(row == str(a)[0]),np.where(row == b)[0])\n",
    "                s = row[int(ind[0][0])]\n",
    "                row[int(ind[0][0])] = row[int(ind[1][0])]\n",
    "                row[int(ind[1][0])] = s\n",
    "\n",
    "\n",
    "    return pretty(row)\n",
    "\n",
    "\n",
    "do_second()"
   ]
  },
  {
   "cell_type": "markdown",
   "id": "indie-trouble",
   "metadata": {
    "ExecuteTime": {
     "end_time": "2021-07-31T21:46:09.334610Z",
     "start_time": "2021-07-31T21:46:09.329838Z"
    }
   },
   "source": [
    "## n2"
   ]
  },
  {
   "cell_type": "code",
   "execution_count": 59,
   "id": "brazilian-carolina",
   "metadata": {
    "ExecuteTime": {
     "end_time": "2021-08-01T12:01:57.855719Z",
     "start_time": "2021-08-01T11:59:37.285512Z"
    }
   },
   "outputs": [],
   "source": [
    "\n",
    "\n",
    "\n",
    "def recipies(N = 939601,n = 10):\n",
    "    scorelist = [3,7]\n",
    "    poss = [0,1]\n",
    "    for i in range(N + n):\n",
    "        newscore = scorelist[poss[0]] + scorelist[poss[1]]\n",
    "        for s in str(newscore):\n",
    "            scorelist.append(int(s))\n",
    "        poss[0] = (poss[0] + scorelist[poss[0]] + 1)%len(scorelist)\n",
    "        poss[1] = (poss[1] + scorelist[poss[1]] + 1)%len(scorelist)\n",
    "    \n",
    "    return scorelist[N:N+n]\n",
    "# ans = recipies()\n",
    "\n",
    "def subfinder(mylist, pattern):\n",
    "    N = len(pattern)\n",
    "    n = 0\n",
    "    for i in range(len(mylist)):\n",
    "        if (mylist[i] == pattern[n]):\n",
    "            n += 1\n",
    "        else:\n",
    "            n = 0\n",
    "        if n == N:\n",
    "            return i - n + 1, mylist[i - n + 1:i], len(mylist[:i - n + 1])\n",
    "        \n",
    "            \n",
    "\n",
    "def recipies2(lookfor = [9,3,9,6,0,1]):\n",
    "    N = 99999999\n",
    "    scorelist = [3,7]\n",
    "    poss = [0,1]\n",
    "    for i in range(N):\n",
    "        newscore = scorelist[poss[0]] + scorelist[poss[1]]\n",
    "        for s in str(newscore):\n",
    "            scorelist.append(int(s))\n",
    "        poss[0] = (poss[0] + scorelist[poss[0]] + 1)%len(scorelist)\n",
    "        poss[1] = (poss[1] + scorelist[poss[1]] + 1)%len(scorelist)\n",
    "    \n",
    "    return subfinder(scorelist,lookfor)\n",
    "ans2 = recipies2()\n"
   ]
  },
  {
   "cell_type": "code",
   "execution_count": 60,
   "id": "confident-polyester",
   "metadata": {
    "ExecuteTime": {
     "end_time": "2021-08-01T12:26:00.253752Z",
     "start_time": "2021-08-01T12:26:00.245774Z"
    }
   },
   "outputs": [
    {
     "data": {
      "text/plain": [
       "(29911226, [9, 3, 9, 6, 0], 29911226)"
      ]
     },
     "execution_count": 60,
     "metadata": {},
     "output_type": "execute_result"
    }
   ],
   "source": [
    "ans2"
   ]
  },
  {
   "cell_type": "markdown",
   "id": "extra-pipeline",
   "metadata": {},
   "source": [
    "## 3"
   ]
  },
  {
   "cell_type": "code",
   "execution_count": 22,
   "id": "surprising-undergraduate",
   "metadata": {
    "ExecuteTime": {
     "end_time": "2021-08-07T17:31:06.992478Z",
     "start_time": "2021-08-07T17:31:06.981508Z"
    }
   },
   "outputs": [
    {
     "data": {
      "text/plain": [
       "1092"
      ]
     },
     "execution_count": 22,
     "metadata": {},
     "output_type": "execute_result"
    }
   ],
   "source": [
    "n_step = 370\n",
    "full = [0]\n",
    "pos = 0\n",
    "for i in range(1,2021+1):\n",
    "    pos = (pos + n_step +1)%len(full)\n",
    "    full.insert(pos,i)\n",
    "\n",
    "full[full.index(2021)+1]"
   ]
  },
  {
   "cell_type": "code",
   "execution_count": 29,
   "id": "disabled-samba",
   "metadata": {
    "ExecuteTime": {
     "end_time": "2021-08-07T17:51:37.529438Z",
     "start_time": "2021-08-07T17:50:27.793039Z"
    }
   },
   "outputs": [
    {
     "name": "stdout",
     "output_type": "stream",
     "text": [
      "55920659\n"
     ]
    }
   ],
   "source": [
    "n_step = 370\n",
    "pos = 0\n",
    "ans = 0\n",
    "\n",
    "l = 1\n",
    "for i in range(0,87654321+1):\n",
    "    pos = (pos + n_step)%l\n",
    "    l += 1\n",
    "    if pos == 0:\n",
    "        ans = i\n",
    "    pos += 1\n",
    "    \n",
    "print(ans)"
   ]
  },
  {
   "cell_type": "code",
   "execution_count": null,
   "id": "committed-driving",
   "metadata": {},
   "outputs": [],
   "source": []
  }
 ],
 "metadata": {
  "hide_input": false,
  "kernelspec": {
   "display_name": "Python 3",
   "language": "python",
   "name": "python3"
  },
  "language_info": {
   "codemirror_mode": {
    "name": "ipython",
    "version": 3
   },
   "file_extension": ".py",
   "mimetype": "text/x-python",
   "name": "python",
   "nbconvert_exporter": "python",
   "pygments_lexer": "ipython3",
   "version": "3.6.12"
  },
  "toc": {
   "base_numbering": 1,
   "nav_menu": {},
   "number_sections": true,
   "sideBar": true,
   "skip_h1_title": false,
   "title_cell": "Table of Contents",
   "title_sidebar": "Contents",
   "toc_cell": false,
   "toc_position": {},
   "toc_section_display": true,
   "toc_window_display": false
  }
 },
 "nbformat": 4,
 "nbformat_minor": 5
}
