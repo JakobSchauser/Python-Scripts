{
 "cells": [
  {
   "cell_type": "code",
   "execution_count": null,
   "metadata": {},
   "outputs": [],
   "source": [
    "from sklearn.ensemble import RandomForestRegressor\n",
    "from sklearn.metrics import mean_absolute_error\n",
    "import numpy as np\n",
    "import random\n",
    "\n",
    "class Vector():\n",
    "    def __init__(self,x,y):\n",
    "        self.x = x\n",
    "        self.y = y\n",
    "    def random(mi,ma):\n",
    "        xr = random.randrange(mi,ma)\n",
    "        yr = random.randrange(mi,ma)\n",
    "        return Vector(xr,yr)\n",
    "        \n",
    "        \n",
    "class Body():\n",
    "    def __init__(self, pos):\n",
    "        self.pos = pos\n",
    "        \n",
    "    def calculate_potential(self,bodies):\n",
    "        potential = Vector(0,0)\n",
    "        for b in bodies:\n",
    "            if(b==self): \n",
    "                break;\n",
    "            rng = ((b.pos.x - self.pos.x)**2+(b.pos.y - self.pos.y)**2)**0.5\n",
    "            if(rng==0):\n",
    "                break;\n",
    "            xd = b.pos.x - self.pos.x\n",
    "            yd = b.pos.y - self.pos.y\n",
    "            potential.x += xd/rng\n",
    "            potential.y += yd/rng\n",
    "        return potential\n",
    "        \n",
    "def generate_random_board(number,size):\n",
    "    bods = []\n",
    "    for i in range(number):\n",
    "        bods.append(Body(Vector.random(0,size)))\n",
    "    return bods\n",
    "\n",
    "def calculate_potentials(board):\n",
    "    pots = []\n",
    "    for b in board:\n",
    "        pots.append(b.calculate_potential(board))\n",
    "    return pots\n",
    "\n",
    "tboards = []\n",
    "tpots = []\n",
    "\n",
    "for i in range(10000000):\n",
    "    board = generate_random_board(10,10000)\n",
    "    potentials = calculate_potentials(board)\n",
    "    tboards.append(board)\n",
    "    tpots.append(potentials)\n",
    "print(\"done\")\n",
    "#Make 1d\n",
    "tboards = [[__.pos.x for __ in _] for _ in tboards]\n",
    "tpots = [[__.x for __ in _] for _ in tpots]"
   ]
  },
  {
   "cell_type": "code",
   "execution_count": 51,
   "metadata": {},
   "outputs": [
    {
     "name": "stdout",
     "output_type": "stream",
     "text": [
      "0.7256344254851117\n"
     ]
    }
   ],
   "source": [
    "train_X = tboards[:len(tboards)//2]\n",
    "train_y = tpots[:len(tpots)//2]\n",
    "val_X = tboards[len(tboards)//2:]\n",
    "val_y = tpots[len(tpots)//2:]\n",
    "forest_model = RandomForestRegressor(random_state=1)\n",
    "forest_model.fit(train_X, train_y)\n",
    "melb_preds = forest_model.predict(val_X)\n",
    "print(mean_absolute_error(val_y, melb_preds))"
   ]
  },
  {
   "cell_type": "code",
   "execution_count": 52,
   "metadata": {},
   "outputs": [
    {
     "name": "stdout",
     "output_type": "stream",
     "text": [
      "2.1532628635003057\n"
     ]
    }
   ],
   "source": [
    "train_X = tboards[:2]\n",
    "train_y = tpots[:2]\n",
    "val_X = tboards[2:]\n",
    "val_y = tpots[2:]\n",
    "forest_model = RandomForestRegressor(random_state=1)\n",
    "forest_model.fit(train_X, train_y)\n",
    "melb_preds = forest_model.predict(val_X)\n",
    "print(mean_absolute_error(val_y, melb_preds))"
   ]
  },
  {
   "cell_type": "code",
   "execution_count": null,
   "metadata": {},
   "outputs": [],
   "source": []
  }
 ],
 "metadata": {
  "kernelspec": {
   "display_name": "Python 3",
   "language": "python",
   "name": "python3"
  },
  "language_info": {
   "codemirror_mode": {
    "name": "ipython",
    "version": 3
   },
   "file_extension": ".py",
   "mimetype": "text/x-python",
   "name": "python",
   "nbconvert_exporter": "python",
   "pygments_lexer": "ipython3",
   "version": "3.6.5"
  }
 },
 "nbformat": 4,
 "nbformat_minor": 2
}
