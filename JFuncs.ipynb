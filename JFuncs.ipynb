{
 "cells": [
  {
   "cell_type": "code",
   "execution_count": 1,
   "metadata": {
    "ExecuteTime": {
     "end_time": "2020-01-12T16:36:16.718108Z",
     "start_time": "2020-01-12T16:36:12.481956Z"
    }
   },
   "outputs": [],
   "source": [
    "from iminuit import Minuit\n",
    "import matplotlib.pyplot as plt\n",
    "import numpy as np\n",
    "import pandas as pd\n",
    "import scipy.stats as stats\n",
    "import sympy as sp\n",
    "import seaborn as sb\n",
    "from ExternalFunctions import Chi2Regression\n",
    "from sklearn.discriminant_analysis import LinearDiscriminantAnalysis as LDA\n",
    "from sklearn.decomposition import PCA\n",
    "from sklearn.preprocessing import StandardScaler"
   ]
  },
  {
   "cell_type": "code",
   "execution_count": 99,
   "metadata": {
    "ExecuteTime": {
     "end_time": "2020-01-11T20:00:07.821083Z",
     "start_time": "2020-01-11T20:00:07.817126Z"
    }
   },
   "outputs": [],
   "source": [
    "test = 10*np.array([2.69,2.71,2.56,2.48,2.34,2.79,2.54,2.68,2.69,2.58,2.66,2.70])\n",
    "errs = [1,1,1,1,1,1,1,1,0.01,1,1,1,]"
   ]
  },
  {
   "cell_type": "code",
   "execution_count": 39,
   "metadata": {
    "ExecuteTime": {
     "end_time": "2020-01-07T19:11:31.568114Z",
     "start_time": "2020-01-07T19:11:31.561099Z"
    }
   },
   "outputs": [],
   "source": [
    "def weighted_avg(y,x=None,yerr = None,ax = None,label=\"Data\",col = \"k\"):\n",
    "    if not x:\n",
    "        x = range(len(y))\n",
    "    if not yerr:\n",
    "        yerr = np.ones(len(y))*np.std(y)\n",
    "    func = lambda x,a: a + 0*x\n",
    "    chi = Chi2Regression(func,x,y,yerr)\n",
    "    mi = Minuit(chi,pedantic = False,print_level=0,a=1)\n",
    "    mi.migrad()\n",
    "    a = mi.args[0]\n",
    "    err = mi.errors[0]\n",
    "    xx = np.linspace(min(x),max(x),1000)\n",
    "    \n",
    "    if not ax:\n",
    "        fig, ax = plt.subplots()\n",
    "    ax.errorbar(x,y,yerr=yerr,fmt = col+'.',capsize = 2,label = label)\n",
    "    ax.plot(xx,func(xx,a),ls='--',c='b',label = \"Average: ${:.3}\\pm{:.3}$\".format(a,err))\n",
    "    ax.legend()\n",
    "    \n",
    "    return mi,ax"
   ]
  },
  {
   "cell_type": "code",
   "execution_count": 78,
   "metadata": {
    "ExecuteTime": {
     "end_time": "2020-01-08T22:14:31.920334Z",
     "start_time": "2020-01-08T22:14:31.910724Z"
    }
   },
   "outputs": [],
   "source": [
    "def fit_unit_gauss(x,y,yerr,muguess=None,ax=None,col='k',label = \"Data\"):\n",
    "    if not muguess:\n",
    "        muguess = (max(x)-min(x))/2\n",
    "    func = lambda x,mu,sigma: stats.norm.pdf(x,mu,sigma)\n",
    "    chi = Chi2Regression(func,x,y,yerr)\n",
    "    mi = Minuit(chi,pedantic = False,print_level=0,mu = muguess,sigma = 1)\n",
    "    mi.migrad()\n",
    "    mu,sigma = mi.args\n",
    "    \n",
    "    xx = np.linspace(min(x),max(x),1000)\n",
    "    if not ax:\n",
    "        fig, ax = plt.subplots()\n",
    "    ax.errorbar(x,y,yerr=yerr,fmt = col+'.',capsize = 2,label = label)\n",
    "    ax.plot(xx,func(xx,*mi.args),ls='--',c='b',label = \"Gauss$(\\mu: {:.3},\\sigma: {:.3})$\".format(mu,sigma))\n",
    "    ax.legend()\n",
    "    \n",
    "    return mi,ax\n",
    "\n",
    "def fit_gauss(x,y,yerr,muguess=None,ax=None,col='k',label = \"Data\"):\n",
    "    if not muguess:\n",
    "        muguess = (max(x)-min(x))/2\n",
    "    func = lambda x,mu,sigma,a: stats.norm.pdf(x,mu,sigma)*a\n",
    "    chi = Chi2Regression(func,x,y,yerr)\n",
    "    mi = Minuit(chi,pedantic = False,print_level=0,mu = muguess,sigma = 1,a=1)\n",
    "    mi.migrad()\n",
    "    mu,sigma,a = mi.args\n",
    "    \n",
    "    xx = np.linspace(min(x),max(x),1000)\n",
    "    if not ax:\n",
    "        fig, ax = plt.subplots()\n",
    "    ax.errorbar(x,y,yerr=yerr,fmt = col+'.',capsize = 2,label = label)\n",
    "    ax.plot(xx,func(xx,*mi.args),ls='--',c='b',label = \"Gauss$(\\mu: {:.3},\\sigma: {:.3})$\".format(mu,sigma))\n",
    "    ax.legend()\n",
    "    \n",
    "    return mi,ax"
   ]
  },
  {
   "cell_type": "code",
   "execution_count": 74,
   "metadata": {
    "ExecuteTime": {
     "end_time": "2020-01-08T22:13:53.186146Z",
     "start_time": "2020-01-08T22:13:52.938341Z"
    }
   },
   "outputs": [
    {
     "data": {
      "image/png": "[encoded data removed]",
      "text/plain": [
       "<Figure size 432x288 with 1 Axes>"
      ]
     },
     "metadata": {},
     "output_type": "display_data"
    }
   ],
   "source": [
    "testgauss = [185,1149,3265,5475,6114,5194,3067,1331,403,105,14,4]\n",
    "\n",
    "t = fit_gauss(range(len(testgauss)),testgauss,np.sqrt(testgauss))"
   ]
  },
  {
   "cell_type": "code",
   "execution_count": 143,
   "metadata": {
    "ExecuteTime": {
     "end_time": "2020-01-11T20:13:07.539413Z",
     "start_time": "2020-01-11T20:13:07.531362Z"
    }
   },
   "outputs": [],
   "source": [
    "def chi2fit(x,y,yerr,func,guesses,label=\"Data\",ax=None,col='k',text=False):\n",
    "    chi = Chi2Regression(func,x,y,yerr)\n",
    "    gstr = \"\"\n",
    "    for key in guesses:\n",
    "        gstr+=str(key)+\"=\"+str(guesses[key])+\",\"\n",
    "        \n",
    "    mistr = \"Minuit(chi,pedantic = False,print_level=0,\"+gstr+\")\"\n",
    "    mi = eval(mistr)\n",
    "    mi.migrad()\n",
    "    \n",
    "    xx = np.linspace(min(x),max(x),1000)\n",
    "    if not ax:\n",
    "        fig, ax = plt.subplots()\n",
    "    ax.errorbar(x,y,yerr=yerr,fmt = col+'.',capsize = 2,label = label)\n",
    "    dstr = \"Fit values:\\n\"\n",
    "    for i,key in enumerate(guesses):\n",
    "        dstr+=str(key)+\"={:.3}$\\pm${:.3} \".format(mi.args[i],mi.errors[i])+\"\\n\"\n",
    "    dstr+=\"\\n\"\n",
    "    dstr+=\"$\\chi^2$={:.3}\\np-value={:.3}\".format(mi.fval,stats.chi2.sf(mi.fval,len(y)-len(guesses)))\n",
    "    ax.plot(xx,func(xx,*mi.args),ls='--',c='b',label = \"Fit\")\n",
    "    if(text):\n",
    "        ax.text(text[0],text[1],dstr,transform=ax.transAxes)\n",
    "    ax.legend()\n",
    "    \n",
    "    return mi,ax\n",
    "    "
   ]
  },
  {
   "cell_type": "code",
   "execution_count": 181,
   "metadata": {
    "ExecuteTime": {
     "end_time": "2020-01-11T20:26:42.049269Z",
     "start_time": "2020-01-11T20:26:41.633767Z"
    }
   },
   "outputs": [
    {
     "data": {
      "image/png": "[encoded data removed]",
      "text/plain": [
       "<Figure size 720x432 with 1 Axes>"
      ]
     },
     "metadata": {},
     "output_type": "display_data"
    }
   ],
   "source": [
    "func = lambda x,a,b: a*x+b\n",
    "x,y = range(len(test)),test\n",
    "yerrs = errs\n",
    "guesses = {\"a\":2,\"b\":3}\n",
    "textpos =(0.8,0.05)\n",
    "fig,ax =plt.subplots(figsize=(10,6))\n",
    "mi,ax = chi2fit(x,y,yerrs,func,guesses,text=textpos,ax = ax)\n"
   ]
  },
  {
   "cell_type": "code",
   "execution_count": 222,
   "metadata": {
    "ExecuteTime": {
     "end_time": "2020-01-11T20:58:58.842499Z",
     "start_time": "2020-01-11T20:58:58.836031Z"
    }
   },
   "outputs": [],
   "source": [
    "def errorpropagate(func,symbols = None,correlation=None):\n",
    "    if not symbols:\n",
    "        symbols = func.free_symbols\n",
    "    inner=0\n",
    "    cor = 1\n",
    "    for s in symbols:\n",
    "        sig = sp.symbols(\"\\\\sigma_{\"+str(s)+\"}\")\n",
    "        inner += sp.diff(func,s)**2*sig**2\n",
    "        cor *= sp.diff(func,s)*sig\n",
    "    if(correlation):\n",
    "        inner+=2*cor*correlation\n",
    "    return sp.sqrt(inner)"
   ]
  },
  {
   "cell_type": "code",
   "execution_count": 223,
   "metadata": {
    "ExecuteTime": {
     "end_time": "2020-01-11T20:58:59.588756Z",
     "start_time": "2020-01-11T20:58:59.510802Z"
    }
   },
   "outputs": [
    {
     "data": {
      "image/png": "[encoded data removed]",
      "text/latex": [
       "$$\\sqrt{4 \\rho \\sigma_{x} \\sigma_{y} x y^{3} + \\sigma_{x}^{2} y^{4} + 4 \\sigma_{y}^{2} x^{2} y^{2}}$$"
      ],
      "text/plain": [
       "   __________________________________________________________________________\n",
       "  ╱                                 3             2  4               2  2  2 \n",
       "╲╱  4⋅\\rho⋅\\sigma_{x}⋅\\sigma_{y}⋅x⋅y  + \\sigma_{x} ⋅y  + 4⋅\\sigma_{y} ⋅x ⋅y  "
      ]
     },
     "execution_count": 223,
     "metadata": {},
     "output_type": "execute_result"
    }
   ],
   "source": [
    "x,y,rho = sp.symbols(\"x y \\\\rho\")\n",
    "\n",
    "errorpropagate(x*y**2,correlation=rho)"
   ]
  },
  {
   "cell_type": "code",
   "execution_count": 378,
   "metadata": {
    "ExecuteTime": {
     "end_time": "2020-01-12T15:30:19.464500Z",
     "start_time": "2020-01-12T15:30:19.457549Z"
    }
   },
   "outputs": [],
   "source": [
    "def from_same_dist(dist1,dist2,labels=None,text = None,ax = None):\n",
    "    if not ax:\n",
    "        fig,ax = plt.subplots()\n",
    "    if not labels:\n",
    "        labels = (\"Distribution 1\",\"Distribution 2\")\n",
    "    h1,b1 = dist1\n",
    "    h2,b2 = dist2\n",
    "    \n",
    "    b1,b2 = ((b1+np.roll(b1,1))/2)[1:],((b2+np.roll(b2,1))/2)[1:]\n",
    "    ax.errorbar(b1,h1,np.sqrt(h1),fmt=\".\",capsize=2,label=labels[0])\n",
    "    ax.errorbar(b2,h2,np.sqrt(h2),fmt=\".\",capsize=2,label=labels[1])\n",
    "    \n",
    "    ks = stats.ks_2samp(h1,h2)\n",
    "    chi2 = 0\n",
    "    for t1,t2 in zip(h1,h2):\n",
    "        if(t2>0):\n",
    "            chi2 += (t1-t2)**2/t2\n",
    "    if(text):        \n",
    "        txt = \"KS-statistic:{:.3}\\nKS-p-value:{:.3}\\n\\n$\\chi^2$-statistic:{:.3}\\n$\\chi^2$ p-value{:.3}\".format(ks[0],ks[1],chi2,stats.chi2.sf(chi2,2*len(h1)))\n",
    "        ax.text(text[0],text[1],txt,transform=ax.transAxes)\n",
    "    plt.legend()\n",
    "    return ax,(chi2,stats.chi2.sf(chi2,2*len(h1))),ks"
   ]
  },
  {
   "cell_type": "code",
   "execution_count": 390,
   "metadata": {
    "ExecuteTime": {
     "end_time": "2020-01-12T15:40:18.934244Z",
     "start_time": "2020-01-12T15:40:18.737306Z"
    }
   },
   "outputs": [
    {
     "data": {
      "text/plain": [
       "(<matplotlib.axes._subplots.AxesSubplot at 0x2641e06e630>,\n",
       " (33.60353488148618, 0.7522570969886143),\n",
       " Ks_2sampResult(statistic=0.09999999999999998, pvalue=0.999897950688549))"
      ]
     },
     "execution_count": 390,
     "metadata": {},
     "output_type": "execute_result"
    },
    {
     "data": {
      "image/png": "[encoded data removed]",
      "text/plain": [
       "<Figure size 432x288 with 1 Axes>"
      ]
     },
     "metadata": {},
     "output_type": "display_data"
    }
   ],
   "source": [
    "t1,t2 = np.random.normal(size=(2,1000))\n",
    "d1 = np.histogram(t1,20,range=(-4,4))\n",
    "d2 = np.histogram(t2,20,range=(-4,4))\n",
    "\n",
    "from_same_dist(d1,d2,text=(0.1,0.6))"
   ]
  },
  {
   "cell_type": "code",
   "execution_count": 419,
   "metadata": {
    "ExecuteTime": {
     "end_time": "2020-01-12T16:28:04.877400Z",
     "start_time": "2020-01-12T16:28:02.924341Z"
    }
   },
   "outputs": [
    {
     "data": {
      "image/png": "[encoded data removed]",
      "text/plain": [
       "<Figure size 432x432 with 3 Axes>"
      ]
     },
     "metadata": {},
     "output_type": "display_data"
    },
    {
     "data": {
      "image/png": "[encoded data removed]",
      "text/plain": [
       "<Figure size 432x288 with 1 Axes>"
      ]
     },
     "metadata": {},
     "output_type": "display_data"
    },
    {
     "data": {
      "text/plain": [
       "array([[ 1.38412555, -0.67064589],\n",
       "       [ 1.55164298,  0.90529907],\n",
       "       [ 2.04737023, -0.18143027],\n",
       "       ...,\n",
       "       [-1.11661312, -0.79631588],\n",
       "       [-1.75572087, -0.6896332 ],\n",
       "       [-1.54770943,  0.79076505]])"
      ]
     },
     "execution_count": 419,
     "metadata": {},
     "output_type": "execute_result"
    }
   ],
   "source": [
    "t1,t2,t3,t4 = np.random.normal(size=(4,1000))\n",
    "t1+=3\n",
    "t3+=3\n",
    "d1 = np.concatenate((t1,t2))\n",
    "d2 = np.concatenate((t3,t4))\n",
    "\n",
    "def separate_two(d1,d2,separation=None):\n",
    "    sb.jointplot(d1,d2,kind='kde')\n",
    "    X = pd.DataFrame([d1,d2])\n",
    "    X = X.transpose()\n",
    "    X = StandardScaler().fit_transform(X)\n",
    "    pca = PCA(n_components=2)\n",
    "    Xfit = pca.fit_transform(X)\n",
    "    principalDf = pd.DataFrame(data = Xfit\n",
    "                 , columns = ['principal component 1', 'principal component 2'])\n",
    "    \n",
    "    fig,ax = plt.subplots()\n",
    "    s = principalDf['principal component 1']\n",
    "    if separation!=None:\n",
    "        dat1 = s[s<separation]\n",
    "        dat2 = s[s>separation]\n",
    "        ax.hist(dat1,bins=100)\n",
    "        ax.hist(dat2,bins=100)\n",
    "    else:\n",
    "        ax.hist(principalDf['principal component 1'],bins=100)\n",
    "    plt.show()\n",
    "    \n",
    "    if separation!=None:\n",
    "        return (dat1,dat2),ax,xfit\n",
    "    return principalDf,ax,Xfit\n",
    "\n",
    "\n",
    "def do_lda(dat1,dat2):\n",
    "    X = np.vstack((dat1, dat2))\n",
    "    N = len(dat1)\n",
    "    y = np.zeros(2*N) \n",
    "    y[:N] = 1\n",
    "    \n",
    "    # initialise the LDA method\n",
    "    sklearn_lda = LDA(n_components=2)\n",
    "\n",
    "    # fit the data\n",
    "    sklearn_lda.fit(X, y)\n",
    "\n",
    "    # transform the data\n",
    "    X_lda_sklearn = sklearn_lda.transform(X) \n",
    "\n",
    "    print(f\"LDA coefficients: {sklearn_lda.scalings_}\")\n",
    "\n",
    "dat,ax,xfit = separate_two(d1,d2,0)\n",
    "\n"
   ]
  },
  {
   "cell_type": "code",
   "execution_count": 271,
   "metadata": {
    "ExecuteTime": {
     "end_time": "2020-01-11T21:53:22.265246Z",
     "start_time": "2020-01-11T21:53:22.260682Z"
    }
   },
   "outputs": [
    {
     "data": {
      "text/plain": [
       "array([  9,  25,  76, 141, 218, 239, 171,  92,  22,   7], dtype=int64)"
      ]
     },
     "execution_count": 271,
     "metadata": {},
     "output_type": "execute_result"
    }
   ],
   "source": [
    "h"
   ]
  },
  {
   "cell_type": "code",
   "execution_count": null,
   "metadata": {},
   "outputs": [],
   "source": []
  }
 ],
 "metadata": {
  "hide_input": false,
  "kernelspec": {
   "display_name": "Python 3",
   "language": "python",
   "name": "python3"
  },
  "language_info": {
   "codemirror_mode": {
    "name": "ipython",
    "version": 3
   },
   "file_extension": ".py",
   "mimetype": "text/x-python",
   "name": "python",
   "nbconvert_exporter": "python",
   "pygments_lexer": "ipython3",
   "version": "3.6.5"
  },
  "toc": {
   "base_numbering": 1,
   "nav_menu": {},
   "number_sections": true,
   "sideBar": true,
   "skip_h1_title": false,
   "title_cell": "Table of Contents",
   "title_sidebar": "Contents",
   "toc_cell": false,
   "toc_position": {},
   "toc_section_display": true,
   "toc_window_display": false
  }
 },
 "nbformat": 4,
 "nbformat_minor": 2
}
