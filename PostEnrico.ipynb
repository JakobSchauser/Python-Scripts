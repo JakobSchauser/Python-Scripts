{
 "cells": [
  {
   "cell_type": "code",
   "execution_count": null,
   "id": "nasty-ebony",
   "metadata": {
    "ExecuteTime": {
     "end_time": "2021-08-08T04:06:12.293739Z",
     "start_time": "2021-08-08T04:06:12.268282Z"
    }
   },
   "outputs": [],
   "source": [
    "## import numpy as np\n",
    "import pandas as pd\n",
    "from scipy.stats.mstats import gmean\n",
    "df = pd.read_csv(\"InternationalEnrico.csv\")\n",
    "\n",
    "\n",
    "nms = [\"Answer to Question 1\",\"Answer to Question 2\",\"Answer to Question 3\",\"Answer to Question 4\",\"Answer to Question 5\",\"Answer to Question 6\",\"Answer to Question 7\",\"Answer to Question 8\",\"Answer to Question 9\",\"Answer to Question 10\",]\n",
    "offs = [abs(gmean(df[n])/df[n]) for n in nms][:8]\n",
    "\n",
    "\n",
    "\n",
    "our_ans = [1200,25000/6,3.600000000]\n",
    "# df[\"Answer to Question 2\"]\n",
    "# df[\"Answer to Question 3\"]\n",
    "# df[\"Answer to Question 4\"]\n",
    "# df[\"Answer to Question 5\"]\n",
    "# df[\"Answer to Question 6\"]\n",
    "# df[\"Answer to Question 7\"]\n",
    "# df[\"Answer to Question 8\"]\n",
    "# df[\"Answer to Question 9\"]\n",
    "# df[\"Answer to Question 10\"]"
   ]
  },
  {
   "cell_type": "code",
   "execution_count": 40,
   "id": "enhanced-efficiency",
   "metadata": {
    "ExecuteTime": {
     "end_time": "2021-08-08T04:06:14.473934Z",
     "start_time": "2021-08-08T04:06:14.460881Z"
    }
   },
   "outputs": [
    {
     "name": "stdout",
     "output_type": "stream",
     "text": [
      "0 1014470745.2469994\n",
      "1 2.684322863953493\n",
      "2 8724.424965662089\n",
      "3 5.7099155288984385\n",
      "4 1.7070123382669156\n",
      "5 1010665742.4085959\n",
      "6 nan\n",
      "7 nan\n",
      "8 7019.085899159872\n",
      "9 6.783526567817066\n",
      "10 12718608.32503612\n",
      "11 55.95776694477293\n",
      "12 4.853188507762543\n",
      "13 nan\n",
      "14 1148.9855776384002\n",
      "15 nan\n",
      "16 nan\n"
     ]
    }
   ],
   "source": [
    "toffs = np.sum(offs,axis = 0)\n",
    "# toffs\n",
    "for i,w in enumerate(toffs):\n",
    "    print(i,w)"
   ]
  },
  {
   "cell_type": "code",
   "execution_count": null,
   "id": "revised-parade",
   "metadata": {},
   "outputs": [],
   "source": []
  }
 ],
 "metadata": {
  "hide_input": false,
  "kernelspec": {
   "display_name": "Python 3",
   "language": "python",
   "name": "python3"
  },
  "language_info": {
   "codemirror_mode": {
    "name": "ipython",
    "version": 3
   },
   "file_extension": ".py",
   "mimetype": "text/x-python",
   "name": "python",
   "nbconvert_exporter": "python",
   "pygments_lexer": "ipython3",
   "version": "3.6.12"
  },
  "toc": {
   "base_numbering": 1,
   "nav_menu": {},
   "number_sections": true,
   "sideBar": true,
   "skip_h1_title": false,
   "title_cell": "Table of Contents",
   "title_sidebar": "Contents",
   "toc_cell": false,
   "toc_position": {},
   "toc_section_display": true,
   "toc_window_display": false
  }
 },
 "nbformat": 4,
 "nbformat_minor": 5
}
