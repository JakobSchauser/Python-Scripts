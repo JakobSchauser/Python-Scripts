{
 "cells": [
  {
   "cell_type": "code",
   "execution_count": 59,
   "metadata": {},
   "outputs": [],
   "source": [
    "import numpy as np\n",
    "energies = [-1,-1,-1,-2]\n",
    "k = 1.38e-23\n",
    "\n",
    "def Z(E,T):\n",
    "    exp = -1/(k*T)\n",
    "    s = sum([np.exp(e*exp) for e in E])\n",
    "    return(s)\n",
    "\n",
    "def P(e,E,T):\n",
    "    Z = Z(E,T)\n",
    "    return(np.e**(-e)*(E.count(e))/Z)\n"
   ]
  },
  {
   "cell_type": "code",
   "execution_count": null,
   "metadata": {},
   "outputs": [],
   "source": []
  }
 ],
 "metadata": {
  "kernelspec": {
   "display_name": "Python 3",
   "language": "python",
   "name": "python3"
  },
  "language_info": {
   "codemirror_mode": {
    "name": "ipython",
    "version": 3
   },
   "file_extension": ".py",
   "mimetype": "text/x-python",
   "name": "python",
   "nbconvert_exporter": "python",
   "pygments_lexer": "ipython3",
   "version": "3.6.5"
  }
 },
 "nbformat": 4,
 "nbformat_minor": 2
}
