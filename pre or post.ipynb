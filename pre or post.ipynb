{
 "cells": [
  {
   "cell_type": "code",
   "execution_count": 1,
   "metadata": {},
   "outputs": [],
   "source": [
    "import random\n",
    "import matplotlib.pyplot as plt\n",
    "import numpy as np\n",
    "from numba import jit\n",
    "\n",
    "#pre\n",
    "def roll():\n",
    "    return random.randint(1,6)\n",
    "\n",
    "@jit\n",
    "def run_simulation(pool = 12,edge = 5,limit = 5,target = None,num_runs = 3):\n",
    "    prepool = pool + edge\n",
    "    prehits = []\n",
    "    posthits = []\n",
    "    normhits = []\n",
    "    pretar = 0\n",
    "    posttar = 0\n",
    "    normtar = 0\n",
    "    num = int(10**num_runs)\n",
    "    \n",
    "    #pre\n",
    "    for i in range(num):\n",
    "        prerolls = []\n",
    "        for d in range(prepool):\n",
    "            prerolls.append(roll())\n",
    "        sixes = prerolls.count(6)\n",
    "        while sixes > 0:\n",
    "            newrolls = []\n",
    "            for j in range(sixes):\n",
    "                r = roll()\n",
    "                prerolls.append(r)\n",
    "                newrolls.append(r)\n",
    "            sixes = newrolls.count(6)\n",
    "        c = prerolls.count(5)+prerolls.count(6)\n",
    "        if(c > target):\n",
    "            pretar += 1\n",
    "        prehits.append(c)\n",
    "    #post\n",
    "    for i in range(num):\n",
    "        postrolls = []\n",
    "        for d in range(pool):\n",
    "            postrolls.append(roll())\n",
    "        c = postrolls.count(1)+postrolls.count(2)+postrolls.count(3)+postrolls.count(4)\n",
    "        for j in range(c):\n",
    "            postrolls.append(roll())\n",
    "            c = postrolls.count(5)+postrolls.count(6)\n",
    "        if(c > target):\n",
    "            posttar += 1\n",
    "        posthits.append(min(c,limit))\n",
    "     \n",
    "    #normal\n",
    "    for i in range(num):\n",
    "        normrolls = []\n",
    "        for d in range(pool):\n",
    "            normrolls.append(roll())\n",
    "        c = normrolls.count(5)+normrolls.count(6)\n",
    "        if(c > target):\n",
    "            normtar += 1\n",
    "        normhits.append(min(c,limit))\n",
    "\n",
    "    fig, ax = plt.subplots()\n",
    "    ax.axvline(x=limit, c = \"springgreen\", label = 'limit')\n",
    "    ax.hist(posthits,label='post',bins = limit)\n",
    "    ax.hist(normhits,label='no edge',bins = limit*6)\n",
    "    ax.hist(prehits,label='pre',bins = prepool*6)\n",
    "    if(target):\n",
    "        plt.axvline(x=target-0.5, c = \"red\", label = 'target')\n",
    "\n",
    "    leg = ax.legend()\n",
    "    ax.set_xlabel(\"Successes\")\n",
    "    ax.set_ylabel(\"Times hit out of %s rolls\" %(num))\n",
    "    ax.set_title(\"Distribution of successes\")\n",
    "    \n",
    "    print(\"Change to hit target of %s successes or more: \" %(target))\n",
    "    print(\"With pre-edge: \" + str(np.round(pretar/num*100))+ \"%\")\n",
    "    print(\"With post-edge: \" + str(np.round(posttar/num*100))+ \"%\")\n",
    "    print(\"With no edge \" + str(np.round(normtar/num*100))+ \"%\")\n",
    "        \n",
    "    \n"
   ]
  },
  {
   "cell_type": "code",
   "execution_count": 7,
   "metadata": {
    "scrolled": false
   },
   "outputs": [
    {
     "name": "stdout",
     "output_type": "stream",
     "text": [
      "Change to hit target of 4 successes or more: \n",
      "With pre-edge: 72.0%\n",
      "With post-edge: 84.0%\n",
      "With no edge 29.0%\n"
     ]
    },
    {
     "data": {
      "image/png": "[encoded data removed]",
      "text/plain": [
       "<Figure size 432x288 with 1 Axes>"
      ]
     },
     "metadata": {},
     "output_type": "display_data"
    }
   ],
   "source": [
    "#run_simulation(dice_pool,edge_pool,limit,target,num_runs = 10^x)\n",
    "\n",
    "run_simulation(11,4,6,4,5)"
   ]
  },
  {
   "cell_type": "code",
   "execution_count": null,
   "metadata": {},
   "outputs": [],
   "source": []
  }
 ],
 "metadata": {
  "kernelspec": {
   "display_name": "Python 3",
   "language": "python",
   "name": "python3"
  },
  "language_info": {
   "codemirror_mode": {
    "name": "ipython",
    "version": 3
   },
   "file_extension": ".py",
   "mimetype": "text/x-python",
   "name": "python",
   "nbconvert_exporter": "python",
   "pygments_lexer": "ipython3",
   "version": "3.6.5"
  }
 },
 "nbformat": 4,
 "nbformat_minor": 2
}
